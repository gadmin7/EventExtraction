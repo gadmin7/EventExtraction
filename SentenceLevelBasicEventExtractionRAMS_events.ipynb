{
  "cells": [
    {
      "cell_type": "markdown",
      "metadata": {
        "id": "view-in-github",
        "colab_type": "text"
      },
      "source": [
        "<a href=\"https://colab.research.google.com/github/gadmin7/EventExtraction/blob/main/SentenceLevelBasicEventExtractionRAMS_events.ipynb\" target=\"_parent\"><img src=\"https://colab.research.google.com/assets/colab-badge.svg\" alt=\"Open In Colab\"/></a>"
      ]
    },
    {
      "cell_type": "code",
      "execution_count": null,
      "metadata": {
        "colab": {
          "base_uri": "https://localhost:8080/"
        },
        "id": "QN4gFAoLn-sG",
        "outputId": "2b00f2e7-89d0-468d-cd40-5e690ba5d699"
      },
      "outputs": [
        {
          "name": "stdout",
          "output_type": "stream",
          "text": [
            "\u001b[2K     \u001b[90m━━━━━━━━━━━━━━━━━━━━━━━━━━━━━━━━━━━━━━━━\u001b[0m \u001b[32m84.1/84.1 kB\u001b[0m \u001b[31m993.3 kB/s\u001b[0m eta \u001b[36m0:00:00\u001b[0m\n",
            "\u001b[2K     \u001b[90m━━━━━━━━━━━━━━━━━━━━━━━━━━━━━━━━━━━━━━━━\u001b[0m \u001b[32m542.0/542.0 kB\u001b[0m \u001b[31m5.5 MB/s\u001b[0m eta \u001b[36m0:00:00\u001b[0m\n",
            "\u001b[2K     \u001b[90m━━━━━━━━━━━━━━━━━━━━━━━━━━━━━━━━━━━━━━━━\u001b[0m \u001b[32m116.3/116.3 kB\u001b[0m \u001b[31m9.2 MB/s\u001b[0m eta \u001b[36m0:00:00\u001b[0m\n",
            "\u001b[2K     \u001b[90m━━━━━━━━━━━━━━━━━━━━━━━━━━━━━━━━━━━━━━━━\u001b[0m \u001b[32m194.1/194.1 kB\u001b[0m \u001b[31m11.6 MB/s\u001b[0m eta \u001b[36m0:00:00\u001b[0m\n",
            "\u001b[2K     \u001b[90m━━━━━━━━━━━━━━━━━━━━━━━━━━━━━━━━━━━━━━━━\u001b[0m \u001b[32m134.8/134.8 kB\u001b[0m \u001b[31m4.1 MB/s\u001b[0m eta \u001b[36m0:00:00\u001b[0m\n",
            "\u001b[2K     \u001b[90m━━━━━━━━━━━━━━━━━━━━━━━━━━━━━━━━━━━━━━━━\u001b[0m \u001b[32m401.2/401.2 kB\u001b[0m \u001b[31m20.6 MB/s\u001b[0m eta \u001b[36m0:00:00\u001b[0m\n",
            "\u001b[2K     \u001b[90m━━━━━━━━━━━━━━━━━━━━━━━━━━━━━━━━━━━━━━━━\u001b[0m \u001b[32m43.6/43.6 kB\u001b[0m \u001b[31m532.1 kB/s\u001b[0m eta \u001b[36m0:00:00\u001b[0m\n",
            "\u001b[?25h  Preparing metadata (setup.py) ... \u001b[?25l\u001b[?25hdone\n",
            "  Building wheel for seqeval (setup.py) ... \u001b[?25l\u001b[?25hdone\n"
          ]
        }
      ],
      "source": [
        "!pip install -q evaluate\n",
        "!pip install -q seqeval"
      ]
    },
    {
      "cell_type": "code",
      "execution_count": null,
      "metadata": {
        "id": "KAC2M2ZKpjp1"
      },
      "outputs": [],
      "source": [
        "import json\n",
        "import evaluate\n",
        "import pandas as pd\n",
        "import numpy as np\n",
        "from sklearn.preprocessing import LabelEncoder\n",
        "from datasets import Dataset, DatasetDict, ClassLabel,Features\n",
        "import datasets\n",
        "import torch\n",
        "from transformers import AutoTokenizer\n",
        "from transformers import DataCollatorForTokenClassification\n",
        "from transformers import AutoTokenizer, DebertaForTokenClassification\n",
        "from transformers import AutoModelForTokenClassification, TrainingArguments, Trainer"
      ]
    },
    {
      "cell_type": "code",
      "execution_count": null,
      "metadata": {
        "id": "lqL2Q4Zx-1f8"
      },
      "outputs": [],
      "source": [
        "device = torch.device(\"cuda\" if torch.cuda.is_available() else \"cpu\")"
      ]
    },
    {
      "cell_type": "code",
      "execution_count": null,
      "metadata": {
        "colab": {
          "background_save": true
        },
        "id": "ZV6r2iB4oJDK"
      },
      "outputs": [],
      "source": [
        "data = []\n",
        "with open(r\"/content/drive/MyDrive/NLP_event_extraction/train.jsonlines\",encoding='utf-8') as f:\n",
        "    for line in f:\n",
        "        data.append(json.loads(line))"
      ]
    },
    {
      "cell_type": "code",
      "execution_count": null,
      "metadata": {
        "id": "MrPpr5vzW3fI"
      },
      "outputs": [],
      "source": [
        "data_test = []\n",
        "with open(r\"/content/drive/MyDrive/NLP_event_extraction/dev.jsonlines\",encoding='utf-8') as f:\n",
        "    for line in f:\n",
        "        data_test.append(json.loads(line))"
      ]
    },
    {
      "cell_type": "code",
      "execution_count": null,
      "metadata": {
        "id": "w9wJPHsHXPr1"
      },
      "outputs": [],
      "source": [
        "df1 = pd.DataFrame(data_test)\n",
        "df1.head(2)"
      ]
    },
    {
      "cell_type": "code",
      "execution_count": null,
      "metadata": {
        "id": "R8iuUND7VRWT"
      },
      "outputs": [],
      "source": [
        "df1.shape"
      ]
    },
    {
      "cell_type": "code",
      "execution_count": null,
      "metadata": {
        "id": "ABqL5Y2VoLIs"
      },
      "outputs": [],
      "source": [
        "df = pd.DataFrame(data)\n",
        "df.head(2)"
      ]
    },
    {
      "cell_type": "code",
      "execution_count": null,
      "metadata": {
        "id": "PrYJXBUIXdR5"
      },
      "outputs": [],
      "source": [
        "df1.drop(['rel_triggers','gold_rel_links','language_id','source_url','split'],axis=1,inplace=True)"
      ]
    },
    {
      "cell_type": "code",
      "execution_count": null,
      "metadata": {
        "id": "UNbCjsf1oLJX"
      },
      "outputs": [],
      "source": [
        "df.drop(['rel_triggers','gold_rel_links','language_id','source_url','split'],axis=1,inplace=True)"
      ]
    },
    {
      "cell_type": "code",
      "execution_count": null,
      "metadata": {
        "id": "Sa5Si8PIoLNw"
      },
      "outputs": [],
      "source": [
        "%%time\n",
        "dataframe_list = []\n",
        "for idx in range(7329):\n",
        "\n",
        "    row_tokens = []\n",
        "    trigger_tags = []\n",
        "    arg_tags = []\n",
        "    doc_key = []\n",
        "    sentence_num = []\n",
        "    for i in range(len(df['sentences'][idx])):\n",
        "        row_tokens.extend(df['sentences'][idx][i])\n",
        "        for j in range(len(df['sentences'][idx][i])):\n",
        "          sentence_num.append(str(i)+df['doc_key'][idx])\n",
        "\n",
        "    for i in range(len(row_tokens)):\n",
        "        trigger_tags.append('O')\n",
        "        arg_tags.append('O')\n",
        "        doc_key.append(df['doc_key'][idx])\n",
        "\n",
        "    gold_link = df['gold_evt_links'][idx]\n",
        "\n",
        "    for i in range(len(gold_link)):\n",
        "\n",
        "        trigger_list = gold_link[i][0]\n",
        "        arg_list = gold_link[i][1]\n",
        "        arg_label = gold_link[i][2]\n",
        "\n",
        "        trigger_beg = trigger_list[0]\n",
        "        trigger_end = trigger_list[1]\n",
        "        trigger_tags[trigger_beg] = 'B-'+ arg_label[:6]\n",
        "        if trigger_beg != trigger_end:\n",
        "            for trg in range(trigger_beg+1,trigger_end+1):\n",
        "                trigger_tags[trg] = 'I-'+ arg_label[:6]\n",
        "\n",
        "        arg_beg = arg_list[0]\n",
        "        arg_end = arg_list[1]\n",
        "        arg_tags[arg_beg] = 'B-'+ arg_label[11:]\n",
        "        if arg_beg != arg_end:\n",
        "            for arg in range(arg_beg+1,arg_end+1):\n",
        "                arg_tags[arg] = 'I-'+ arg_label[11:]\n",
        "\n",
        "    d1 = pd.DataFrame({'doc_key':sentence_num,'token':row_tokens,'event_tags':trigger_tags,'arg_tags':arg_tags})\n",
        "    dataframe_list.append(d1)"
      ]
    },
    {
      "cell_type": "code",
      "execution_count": null,
      "metadata": {
        "id": "qlwJqpYAXkfe"
      },
      "outputs": [],
      "source": [
        "%%time\n",
        "dataframe_test_list = []\n",
        "for idx in range(df1.shape[0]):\n",
        "\n",
        "    row_tokens = []\n",
        "    trigger_tags = []\n",
        "    arg_tags = []\n",
        "    doc_key = []\n",
        "    sentence_num = []\n",
        "    for i in range(len(df1['sentences'][idx])):\n",
        "        row_tokens.extend(df1['sentences'][idx][i])\n",
        "        for j in range(len(df1['sentences'][idx][i])):\n",
        "          sentence_num.append(str(i)+df1['doc_key'][idx])\n",
        "\n",
        "\n",
        "    for i in range(len(row_tokens)):\n",
        "        trigger_tags.append('O')\n",
        "        arg_tags.append('O')\n",
        "        doc_key.append(df1['doc_key'][idx])\n",
        "\n",
        "    gold_link = df1['gold_evt_links'][idx]\n",
        "\n",
        "    for i in range(len(gold_link)):\n",
        "\n",
        "        trigger_list = gold_link[i][0]\n",
        "        arg_list = gold_link[i][1]\n",
        "        arg_label = gold_link[i][2]\n",
        "\n",
        "        trigger_beg = trigger_list[0]\n",
        "        trigger_end = trigger_list[1]\n",
        "        trigger_tags[trigger_beg] = 'B-'+ arg_label[:6]\n",
        "        if trigger_beg != trigger_end:\n",
        "            for trg in range(trigger_beg+1,trigger_end+1):\n",
        "                trigger_tags[trg] = 'I-'+ arg_label[:6]\n",
        "\n",
        "        arg_beg = arg_list[0]\n",
        "        arg_end = arg_list[1]\n",
        "        arg_tags[arg_beg] = 'B-'+ arg_label[11:]\n",
        "        if arg_beg != arg_end:\n",
        "            for arg in range(arg_beg+1,arg_end+1):\n",
        "                arg_tags[arg] = 'I-'+ arg_label[11:]\n",
        "\n",
        "    d1 = pd.DataFrame({'doc_key':sentence_num,'token':row_tokens,'event_tags':trigger_tags,'arg_tags':arg_tags})\n",
        "    dataframe_test_list.append(d1)"
      ]
    },
    {
      "cell_type": "code",
      "execution_count": null,
      "metadata": {
        "id": "PTnCXeouoLOe"
      },
      "outputs": [],
      "source": [
        "data = pd.concat(dataframe_list)"
      ]
    },
    {
      "cell_type": "code",
      "execution_count": null,
      "metadata": {
        "id": "PtXBgB9uYE06"
      },
      "outputs": [],
      "source": [
        "test = pd.concat(dataframe_test_list)"
      ]
    },
    {
      "cell_type": "code",
      "execution_count": null,
      "metadata": {
        "id": "W2CEDqI-oLYP"
      },
      "outputs": [],
      "source": [
        "def create_dataset(data):\n",
        "    grouped_tokens = data.groupby('doc_key')['token'].apply(list).reset_index(name='token')\n",
        "    grouped_events = data.groupby('doc_key')['event_tags'].apply(list).reset_index(name='event_tags')\n",
        "    grouped_args = data.groupby('doc_key')['arg_tags'].apply(list).reset_index(name='arg_tags')\n",
        "\n",
        "    dataset_dict = {\n",
        "        \"id\": grouped_tokens['doc_key'],\n",
        "        \"tokens\": grouped_tokens['token'],\n",
        "        \"event_tags\": grouped_events['event_tags'],\n",
        "        \"arg_tags\": grouped_args['arg_tags'],\n",
        "    }\n",
        "\n",
        "    return Dataset.from_dict(dataset_dict)\n",
        "\n",
        "dataset1 = create_dataset(data)"
      ]
    },
    {
      "cell_type": "code",
      "execution_count": null,
      "metadata": {
        "id": "1Fj_RdohYXkC"
      },
      "outputs": [],
      "source": [
        "dataset2 = create_dataset(test)\n",
        "dataset_dict = DatasetDict({\"train\": dataset1,\"test\":dataset2})"
      ]
    },
    {
      "cell_type": "code",
      "execution_count": null,
      "metadata": {
        "id": "QfQ2lINAFN1J"
      },
      "outputs": [],
      "source": [
        "dataset_dict['train'].features"
      ]
    },
    {
      "cell_type": "code",
      "execution_count": null,
      "metadata": {
        "id": "6pe2-b8vYelI"
      },
      "outputs": [],
      "source": [
        "dataset_dict['test'].features"
      ]
    },
    {
      "cell_type": "code",
      "execution_count": null,
      "metadata": {
        "id": "jOmVjpKmQU3w"
      },
      "outputs": [],
      "source": [
        "event_labels = ['B-evt001', 'B-evt002', 'B-evt003', 'B-evt004', 'B-evt005', 'B-evt006', 'B-evt007', 'B-evt008', 'B-evt009', 'B-evt010', 'B-evt011', 'B-evt012', 'B-evt013', 'B-evt014', 'B-evt015', 'B-evt016', 'B-evt017', 'B-evt018',\n",
        "                                     'B-evt019', 'B-evt020', 'B-evt021', 'B-evt022', 'B-evt023', 'B-evt024', 'B-evt025', 'B-evt026', 'B-evt027', 'B-evt028', 'B-evt029', 'B-evt030', 'B-evt031', 'B-evt032', 'B-evt033', 'B-evt034', 'B-evt035', 'B-evt036', 'B-evt037', 'B-evt038', 'B-evt039', 'B-evt040', 'B-evt041', 'B-evt042', 'B-evt043', 'B-evt044', 'B-evt045', 'B-evt046', 'B-evt047', 'B-evt048', 'B-evt049', 'B-evt050', 'B-evt051', 'B-evt052', 'B-evt053', 'B-evt054', 'B-evt055', 'B-evt057', 'B-evt059', 'B-evt060', 'B-evt061', 'B-evt062', 'B-evt063', 'B-evt064', 'B-evt065', 'B-evt066', 'B-evt068', 'B-evt070', 'B-evt071', 'B-evt072', 'B-evt073', 'B-evt074', 'B-evt075', 'B-evt076', 'B-evt077', 'B-evt079', 'B-evt080', 'B-evt081', 'B-evt082', 'B-evt083', 'B-evt084', 'B-evt085', 'B-evt086', 'B-evt087', 'B-evt088', 'B-evt089', 'B-evt090', 'B-evt091',\n",
        "                                     'B-evt092', 'B-evt093', 'B-evt094', 'B-evt095', 'B-evt096', 'B-evt097', 'B-evt098', 'B-evt099', 'B-evt100', 'B-evt101', 'B-evt102', 'B-evt103', 'B-evt104', 'B-evt105', 'B-evt106', 'B-evt107', 'B-evt108', 'B-evt109', 'B-evt110', 'B-evt111', 'B-evt112', 'B-evt113', 'B-evt114', 'B-evt115', 'B-evt116', 'B-evt117', 'B-evt118', 'B-evt119', 'B-evt120', 'B-evt121', 'B-evt122', 'B-evt123', 'B-evt124', 'B-evt125', 'B-evt126', 'B-evt127', 'B-evt128', 'B-evt129', 'B-evt130', 'B-evt131', 'B-evt132', 'B-evt133', 'B-evt134', 'B-evt135', 'B-evt136', 'B-evt137', 'B-evt138', 'B-evt139', 'B-evt140', 'B-evt141', 'B-evt142', 'B-evt143', 'B-evt144', 'I-evt064', 'I-evt065', 'I-evt068', 'I-evt071', 'I-evt073', 'I-evt085', 'I-evt087', 'I-evt089', 'I-evt091', 'I-evt095', 'I-evt100', 'I-evt104', 'I-evt107', 'I-evt112', 'I-evt119', 'I-evt123', 'I-evt124', 'I-evt130', 'I-evt132', 'I-evt133', 'I-evt136', 'I-evt139', 'I-evt142', 'I-evt144', 'O']"
      ]
    },
    {
      "cell_type": "code",
      "execution_count": null,
      "metadata": {
        "id": "VAtq36oPRN92"
      },
      "outputs": [],
      "source": [
        "arg_labels = ['B-artifact', 'B-artifactmoney', 'B-attacker', 'B-ballot', 'B-beneficiary', 'B-candidate', 'B-communicator', 'B-crashobject', 'B-crime', 'B-damager', 'B-damagerdestroyer', 'B-deceased', 'B-defendant', 'B-demonstrator', 'B-destination', 'B-destroyer', 'B-detainee', 'B-driverpassenger', 'B-employee',\n",
        "                                   'B-executioner', 'B-extraditer', 'B-fireexplosionobject', 'B-founder', 'B-giver', 'B-governmentbody', 'B-gpe', 'B-granter', 'B-hidingplace', 'B-injurer', 'B-inspectedentity', 'B-inspector', 'B-instrument', 'B-investigator', 'B-jailer', 'B-judgecourt', 'B-killer', 'B-law', 'B-manufacturer', 'B-money', 'B-monitor', 'B-monitoredentity', 'B-observedentity', 'B-observer', 'B-origin', 'B-otherparticipant', 'B-participant', 'B-passenger', 'B-place', 'B-placeofemployment', 'B-preventer', 'B-prosecutor', 'B-recipient', 'B-rejecternullifier', 'B-result', 'B-retreater', 'B-spy', 'B-surrenderer', 'B-target', 'B-territoryorfacility', 'B-transporter', 'B-vehicle', 'B-victim', 'B-violator',\n",
        "                                   'B-voter', 'B-yielder', 'I-artifact', 'I-artifactmoney', 'I-attacker', 'I-ballot', 'I-beneficiary', 'I-candidate', 'I-communicator', 'I-crashobject', 'I-crime', 'I-damager', 'I-damagerdestroyer', 'I-deceased', 'I-defendant', 'I-demonstrator', 'I-destination', 'I-destroyer', 'I-detainee', 'I-driverpassenger', 'I-employee', 'I-executioner', 'I-extraditer', 'I-fireexplosionobject', 'I-founder', 'I-giver', 'I-governmentbody', 'I-gpe', 'I-granter', 'I-hidingplace', 'I-injurer', 'I-inspectedentity', 'I-inspector', 'I-instrument', 'I-investigator', 'I-jailer', 'I-judgecourt', 'I-killer', 'I-law', 'I-manufacturer', 'I-money', 'I-monitor', 'I-monitoredentity', 'I-observedentity', 'I-observer', 'I-origin',\n",
        "                                   'I-otherparticipant', 'I-participant', 'I-passenger', 'I-place', 'I-placeofemployment', 'I-preventer', 'I-prosecutor', 'I-recipient', 'I-rejecternullifier', 'I-result', 'I-retreater', 'I-spy', 'I-surrenderer', 'I-target', 'I-territoryorfacility',\n",
        "                                   'I-transporter', 'I-vehicle', 'I-victim', 'I-violator', 'I-voter', 'I-yielder', 'O']"
      ]
    },
    {
      "cell_type": "code",
      "execution_count": null,
      "metadata": {
        "id": "F1NIbU3gPVEY"
      },
      "outputs": [],
      "source": [
        "dataset_dict = dataset_dict.cast_column(\"event_tags\", datasets.Sequence(ClassLabel(names=event_labels)))\n",
        "dataset_dict = dataset_dict.cast_column(\"arg_tags\", datasets.Sequence(ClassLabel(names=arg_labels)))"
      ]
    },
    {
      "cell_type": "code",
      "execution_count": null,
      "metadata": {
        "id": "JwsfP_i3Qy7D"
      },
      "outputs": [],
      "source": [
        "dataset_dict['test'].features"
      ]
    },
    {
      "cell_type": "code",
      "execution_count": null,
      "metadata": {
        "id": "8oYpqf13Rvbp"
      },
      "outputs": [],
      "source": [
        "label_list = dataset_dict[\"train\"].features[\"event_tags\"].feature.names"
      ]
    },
    {
      "cell_type": "code",
      "execution_count": null,
      "metadata": {
        "colab": {
          "base_uri": "https://localhost:8080/"
        },
        "id": "TNNYJle1SM4u",
        "outputId": "55ed4f98-d723-4ea5-9139-2fa20370d7e8"
      },
      "outputs": [
        {
          "name": "stderr",
          "output_type": "stream",
          "text": [
            "/usr/local/lib/python3.10/dist-packages/huggingface_hub/utils/_token.py:89: UserWarning: \n",
            "The secret `HF_TOKEN` does not exist in your Colab secrets.\n",
            "To authenticate with the Hugging Face Hub, create a token in your settings tab (https://huggingface.co/settings/tokens), set it as secret in your Google Colab and restart your session.\n",
            "You will be able to reuse this secret in all of your notebooks.\n",
            "Please note that authentication is recommended but still optional to access public models or datasets.\n",
            "  warnings.warn(\n"
          ]
        }
      ],
      "source": [
        "tokenizer = AutoTokenizer.from_pretrained(\"microsoft/deberta-base\",max_length=512,padding=True)"
      ]
    },
    {
      "cell_type": "code",
      "execution_count": null,
      "metadata": {
        "colab": {
          "base_uri": "https://localhost:8080/"
        },
        "id": "H9SAdz6zoXc6",
        "outputId": "68a43332-c6fe-44f3-e26c-47089587dc6a"
      },
      "outputs": [
        {
          "data": {
            "text/plain": [
              "['[CLS]',\n",
              " 'transportation',\n",
              " 'officials',\n",
              " 'are',\n",
              " 'urging',\n",
              " 'carp',\n",
              " '##ool',\n",
              " 'and',\n",
              " 'tel',\n",
              " '##ew',\n",
              " '##or',\n",
              " '##king',\n",
              " 'as',\n",
              " 'options',\n",
              " 'to',\n",
              " 'combat',\n",
              " 'an',\n",
              " 'expected',\n",
              " 'flood',\n",
              " 'of',\n",
              " 'drivers',\n",
              " 'on',\n",
              " 'the',\n",
              " 'road',\n",
              " '.',\n",
              " '[SEP]']"
            ]
          },
          "execution_count": 36,
          "metadata": {},
          "output_type": "execute_result"
        }
      ],
      "source": [
        "example = dataset_dict[\"train\"][0]\n",
        "tokenized_input = tokenizer(example[\"tokens\"], is_split_into_words=True)\n",
        "tokens = tokenizer.convert_ids_to_tokens(tokenized_input[\"input_ids\"])\n",
        "tokens"
      ]
    },
    {
      "cell_type": "code",
      "execution_count": null,
      "metadata": {
        "id": "BeDBi8nxoXhd"
      },
      "outputs": [],
      "source": [
        "def tokenize_and_align_labels(examples):\n",
        "    tokenized_inputs = tokenizer(examples[\"tokens\"], truncation=True, is_split_into_words=True,max_length=512)\n",
        "\n",
        "    labels = []\n",
        "    for i, label in enumerate(examples[f\"event_tags\"]):\n",
        "        word_ids = tokenized_inputs.word_ids(batch_index=i)  # Map tokens to their respective word.\n",
        "        previous_word_idx = None\n",
        "        label_ids = []\n",
        "        for word_idx in word_ids:  # Set the special tokens to -100.\n",
        "            if word_idx is None:\n",
        "                label_ids.append(-100)\n",
        "            elif word_idx != previous_word_idx:  # Only label the first token of a given word.\n",
        "                label_ids.append(label[word_idx])\n",
        "            else:\n",
        "                label_ids.append(-100)\n",
        "            previous_word_idx = word_idx\n",
        "        labels.append(label_ids)\n",
        "\n",
        "    tokenized_inputs[\"labels\"] = labels\n",
        "    return tokenized_inputs"
      ]
    },
    {
      "cell_type": "code",
      "execution_count": null,
      "metadata": {
        "colab": {
          "background_save": true,
          "base_uri": "https://localhost:8080/",
          "height": 81,
          "referenced_widgets": [
            "d8dd0aef38014fc6be0ec7c308e30232",
            "2ed7afb0526342198ef7a6993e5ab4e3"
          ]
        },
        "id": "0KhcxYK8oXiN",
        "outputId": "f5b0d898-1df7-45f4-df00-9a1d96b69284"
      },
      "outputs": [
        {
          "data": {
            "application/vnd.jupyter.widget-view+json": {
              "model_id": "d8dd0aef38014fc6be0ec7c308e30232",
              "version_major": 2,
              "version_minor": 0
            },
            "text/plain": [
              "Map:   0%|          | 0/35535 [00:00<?, ? examples/s]"
            ]
          },
          "metadata": {},
          "output_type": "display_data"
        },
        {
          "data": {
            "application/vnd.jupyter.widget-view+json": {
              "model_id": "2ed7afb0526342198ef7a6993e5ab4e3",
              "version_major": 2,
              "version_minor": 0
            },
            "text/plain": [
              "Map:   0%|          | 0/4456 [00:00<?, ? examples/s]"
            ]
          },
          "metadata": {},
          "output_type": "display_data"
        }
      ],
      "source": [
        "tokenized_rams = dataset_dict.map(tokenize_and_align_labels, batched=True)"
      ]
    },
    {
      "cell_type": "code",
      "execution_count": null,
      "metadata": {
        "colab": {
          "base_uri": "https://localhost:8080/"
        },
        "id": "We9kITLj1YL0",
        "outputId": "08fc2605-3aa6-47fc-e3f5-5a744ed306f9"
      },
      "outputs": [
        {
          "data": {
            "text/plain": [
              "DatasetDict({\n",
              "    train: Dataset({\n",
              "        features: ['id', 'tokens', 'event_tags', 'arg_tags', 'input_ids', 'attention_mask', 'labels'],\n",
              "        num_rows: 35535\n",
              "    })\n",
              "    test: Dataset({\n",
              "        features: ['id', 'tokens', 'event_tags', 'arg_tags', 'input_ids', 'attention_mask', 'labels'],\n",
              "        num_rows: 4456\n",
              "    })\n",
              "})"
            ]
          },
          "execution_count": 39,
          "metadata": {},
          "output_type": "execute_result"
        }
      ],
      "source": [
        "tokenized_rams"
      ]
    },
    {
      "cell_type": "code",
      "execution_count": null,
      "metadata": {
        "id": "yJlqnDAn09Gu"
      },
      "outputs": [],
      "source": [
        "for i in range(7329):\n",
        "  if len(tokenized_rams['train'][i]['input_ids']) > 500:\n",
        "    print(len(tokenized_rams['train'][i]['input_ids']),i)"
      ]
    },
    {
      "cell_type": "code",
      "execution_count": null,
      "metadata": {
        "id": "I93z6D7LoXnL"
      },
      "outputs": [],
      "source": [
        "data_collator = DataCollatorForTokenClassification(tokenizer=tokenizer)"
      ]
    },
    {
      "cell_type": "code",
      "execution_count": null,
      "metadata": {
        "colab": {
          "base_uri": "https://localhost:8080/",
          "height": 49,
          "referenced_widgets": [
            "4a299a718b144cca930ca5aab2f14aa2",
            "0664aea56b0d441f9e7c20db4600524e",
            "aa7baf2f2df54641aae46744748d6fe2",
            "2ad68f185cc34337aa47ba098965aedb",
            "4ff23dd400c5432eacdbafb4ae1ba23a",
            "8a9ecf563ad941dfaaeb7739a45df140",
            "041a3280e4334c7eaef947b9d18ca1bf",
            "1f59613a75f74983a8533433220e2edf",
            "f472584c327948eeb87ce932ad108d21",
            "30e4006ea35945b798d4662559a250e0",
            "66f016c36b9a42ca8e551997631e64e9"
          ]
        },
        "id": "50xqw4bQogol",
        "outputId": "fc36a784-ba52-41f6-8399-ae271349ff2f"
      },
      "outputs": [
        {
          "data": {
            "application/vnd.jupyter.widget-view+json": {
              "model_id": "4a299a718b144cca930ca5aab2f14aa2",
              "version_major": 2,
              "version_minor": 0
            },
            "text/plain": [
              "Downloading builder script:   0%|          | 0.00/6.34k [00:00<?, ?B/s]"
            ]
          },
          "metadata": {},
          "output_type": "display_data"
        }
      ],
      "source": [
        "seqeval = evaluate.load(\"seqeval\")"
      ]
    },
    {
      "cell_type": "code",
      "execution_count": null,
      "metadata": {
        "colab": {
          "base_uri": "https://localhost:8080/"
        },
        "id": "NAOhszfYSqqG",
        "outputId": "599a08d1-1e30-4567-b0be-c79a2182e767"
      },
      "outputs": [
        {
          "data": {
            "text/plain": [
              "DatasetDict({\n",
              "    train: Dataset({\n",
              "        features: ['id', 'tokens', 'event_tags', 'arg_tags', 'input_ids', 'attention_mask', 'labels'],\n",
              "        num_rows: 35535\n",
              "    })\n",
              "    test: Dataset({\n",
              "        features: ['id', 'tokens', 'event_tags', 'arg_tags', 'input_ids', 'attention_mask', 'labels'],\n",
              "        num_rows: 4456\n",
              "    })\n",
              "})"
            ]
          },
          "execution_count": 32,
          "metadata": {},
          "output_type": "execute_result"
        }
      ],
      "source": [
        "tokenized_rams"
      ]
    },
    {
      "cell_type": "code",
      "execution_count": null,
      "metadata": {
        "id": "-BpqoEthrJoO"
      },
      "outputs": [],
      "source": [
        "labels = [label_list[i] for i in example[\"event_tags\"]]\n",
        "\n",
        "\n",
        "def compute_metrics(p):\n",
        "    predictions, labels = p\n",
        "    predictions = np.argmax(predictions, axis=2)\n",
        "\n",
        "    true_predictions = [\n",
        "        [label_list[p] for (p, l) in zip(prediction, label) if l != -100]\n",
        "        for prediction, label in zip(predictions, labels)\n",
        "    ]\n",
        "    true_labels = [\n",
        "        [label_list[l] for (p, l) in zip(prediction, label) if l != -100]\n",
        "        for prediction, label in zip(predictions, labels)\n",
        "    ]\n",
        "\n",
        "    results = seqeval.compute(predictions=true_predictions, references=true_labels,zero_division=1)\n",
        "    return {\n",
        "        \"precision\": results[\"overall_precision\"],\n",
        "        \"recall\": results[\"overall_recall\"],\n",
        "        \"f1\": results[\"overall_f1\"],\n",
        "        \"accuracy\": results[\"overall_accuracy\"],\n",
        "    }"
      ]
    },
    {
      "cell_type": "code",
      "execution_count": null,
      "metadata": {
        "id": "6mJR3NW_S2wp"
      },
      "outputs": [],
      "source": [
        "encoder = LabelEncoder()\n",
        "data['evt_tags_en'] = encoder.fit_transform(data['event_tags'])\n",
        "\n",
        "label2id = dict(zip(encoder.classes_, encoder.transform(encoder.classes_)))\n",
        "id2label = dict(zip(encoder.transform(encoder.classes_),encoder.classes_))"
      ]
    },
    {
      "cell_type": "code",
      "execution_count": null,
      "metadata": {
        "id": "a9hQA5A7Tt5e"
      },
      "outputs": [],
      "source": [
        "id2label = {0: 'B-evt001',1: 'B-evt002',2: 'B-evt003',3: 'B-evt004',4: 'B-evt005',5: 'B-evt006',6: 'B-evt007',7: 'B-evt008',8: 'B-evt009',9: 'B-evt010',10: 'B-evt011',11: 'B-evt012',\n",
        "12: 'B-evt013',13: 'B-evt014',14: 'B-evt015',15: 'B-evt016',16: 'B-evt017',17: 'B-evt018',18: 'B-evt019',19: 'B-evt020',20: 'B-evt021',21: 'B-evt022',22: 'B-evt023',23: 'B-evt024',\n",
        "24: 'B-evt025',25: 'B-evt026',26: 'B-evt027',27: 'B-evt028',28: 'B-evt029',29: 'B-evt030',30: 'B-evt031', 31: 'B-evt032',32: 'B-evt033',33: 'B-evt034',34: 'B-evt035',\n",
        "35: 'B-evt036',36: 'B-evt037',37: 'B-evt038',38: 'B-evt039',39: 'B-evt040',40: 'B-evt041',41: 'B-evt042',42: 'B-evt043',43: 'B-evt044',44: 'B-evt045',45: 'B-evt046',46: 'B-evt047',\n",
        "47: 'B-evt048',48: 'B-evt049',49: 'B-evt050',50: 'B-evt051',51: 'B-evt052',52: 'B-evt053',53: 'B-evt054',54: 'B-evt055',55: 'B-evt057',56: 'B-evt059',57: 'B-evt060',58: 'B-evt061',\n",
        "59: 'B-evt062',60: 'B-evt063',61: 'B-evt064',62: 'B-evt065',63: 'B-evt066',64: 'B-evt068',65: 'B-evt070',66: 'B-evt071',67: 'B-evt072',68: 'B-evt073',69: 'B-evt074',70: 'B-evt075',\n",
        "71: 'B-evt076',72: 'B-evt077',73: 'B-evt079',74: 'B-evt080',75: 'B-evt081',76: 'B-evt082',77: 'B-evt083',78: 'B-evt084',79: 'B-evt085',80: 'B-evt086',81: 'B-evt087',82: 'B-evt088',\n",
        "83: 'B-evt089',84: 'B-evt090',85: 'B-evt091',86: 'B-evt092',87: 'B-evt093',88: 'B-evt094',89: 'B-evt095',90: 'B-evt096',91: 'B-evt097',92: 'B-evt098',93: 'B-evt099',94: 'B-evt100',\n",
        "95: 'B-evt101',96: 'B-evt102',97: 'B-evt103',98: 'B-evt104',99: 'B-evt105',100: 'B-evt106',101: 'B-evt107',102: 'B-evt108',103: 'B-evt109',104: 'B-evt110',105: 'B-evt111',\n",
        "106: 'B-evt112',107: 'B-evt113',108: 'B-evt114', 109: 'B-evt115',110: 'B-evt116',111: 'B-evt117',112: 'B-evt118',113: 'B-evt119',114: 'B-evt120',115: 'B-evt121',116: 'B-evt122',\n",
        "117: 'B-evt123',118: 'B-evt124',119: 'B-evt125',120: 'B-evt126',121: 'B-evt127',122: 'B-evt128',123: 'B-evt129',124: 'B-evt130',125: 'B-evt131',126: 'B-evt132',127: 'B-evt133',\n",
        "128: 'B-evt134',129: 'B-evt135',130: 'B-evt136',131: 'B-evt137',132: 'B-evt138',133: 'B-evt139',134: 'B-evt140',135: 'B-evt141',136: 'B-evt142',137: 'B-evt143',138: 'B-evt144',139: 'I-evt064',\n",
        "140: 'I-evt065',141: 'I-evt068',142: 'I-evt071',143: 'I-evt073',144: 'I-evt085',145: 'I-evt087',146: 'I-evt089',147: 'I-evt091',148: 'I-evt095',149: 'I-evt100',150: 'I-evt104',151: 'I-evt107',\n",
        "152: 'I-evt112',153: 'I-evt119',154: 'I-evt123',155: 'I-evt124',156: 'I-evt130',157: 'I-evt132',158: 'I-evt133',159: 'I-evt136',160: 'I-evt139',161: 'I-evt142',162: 'I-evt144',\n",
        "163: 'O'}"
      ]
    },
    {
      "cell_type": "code",
      "execution_count": null,
      "metadata": {
        "id": "_quElOLzTwxS"
      },
      "outputs": [],
      "source": [
        "label2id = {'B-evt001': 0,'B-evt002': 1,'B-evt003': 2,'B-evt004': 3,'B-evt005': 4,'B-evt006': 5,'B-evt007': 6,'B-evt008': 7,'B-evt009': 8,'B-evt010': 9,'B-evt011': 10,'B-evt012': 11,\n",
        " 'B-evt013': 12,'B-evt014': 13,'B-evt015': 14,'B-evt016': 15,'B-evt017': 16,'B-evt018': 17,'B-evt019': 18,'B-evt020': 19,'B-evt021': 20,'B-evt022': 21,'B-evt023': 22,'B-evt024': 23,\n",
        " 'B-evt025': 24,'B-evt026': 25,'B-evt027': 26,'B-evt028': 27,'B-evt029': 28,'B-evt030': 29,'B-evt031': 30,'B-evt032': 31,'B-evt033': 32,'B-evt034': 33,'B-evt035': 34,'B-evt036': 35,\n",
        " 'B-evt037': 36,'B-evt038': 37,'B-evt039': 38,'B-evt040': 39,'B-evt041': 40,'B-evt042': 41,'B-evt043': 42,'B-evt044': 43,'B-evt045': 44,'B-evt046': 45,'B-evt047': 46,'B-evt048': 47,\n",
        " 'B-evt049': 48,'B-evt050': 49,'B-evt051': 50,'B-evt052': 51,'B-evt053': 52,'B-evt054': 53,'B-evt055': 54,'B-evt057': 55,'B-evt059': 56,'B-evt060': 57,'B-evt061': 58,'B-evt062': 59,\n",
        " 'B-evt063': 60, 'B-evt064': 61,'B-evt065': 62,'B-evt066': 63,'B-evt068': 64,'B-evt070': 65,'B-evt071': 66,'B-evt072': 67,'B-evt073': 68,'B-evt074': 69,'B-evt075': 70,'B-evt076': 71,\n",
        " 'B-evt077': 72,'B-evt079': 73,'B-evt080': 74,'B-evt081': 75,'B-evt082': 76,'B-evt083': 77,'B-evt084': 78,'B-evt085': 79,'B-evt086': 80,'B-evt087': 81,'B-evt088': 82,'B-evt089': 83,\n",
        " 'B-evt090': 84,'B-evt091': 85,'B-evt092': 86,'B-evt093': 87,'B-evt094': 88,'B-evt095': 89,'B-evt096': 90,'B-evt097': 91,'B-evt098': 92,'B-evt099': 93,'B-evt100': 94,'B-evt101': 95,\n",
        " 'B-evt102': 96,'B-evt103': 97,'B-evt104': 98,'B-evt105': 99,'B-evt106': 100,'B-evt107': 101,'B-evt108': 102,'B-evt109': 103,'B-evt110': 104,'B-evt111': 105,'B-evt112': 106,'B-evt113': 107,\n",
        " 'B-evt114': 108,'B-evt115': 109,'B-evt116': 110,'B-evt117': 111,'B-evt118': 112,'B-evt119': 113,'B-evt120': 114,'B-evt121': 115,'B-evt122': 116,'B-evt123': 117,'B-evt124': 118,'B-evt125': 119,\n",
        " 'B-evt126': 120,'B-evt127': 121,'B-evt128': 122,'B-evt129': 123,'B-evt130': 124,'B-evt131': 125,'B-evt132': 126,'B-evt133': 127,'B-evt134': 128,'B-evt135': 129,'B-evt136': 130,'B-evt137': 131,\n",
        " 'B-evt138': 132,'B-evt139': 133,'B-evt140': 134,'B-evt141': 135,'B-evt142': 136,'B-evt143': 137,'B-evt144': 138,'I-evt064': 139,'I-evt065': 140,'I-evt068': 141,'I-evt071': 142,'I-evt073': 143,\n",
        " 'I-evt085': 144,'I-evt087': 145,'I-evt089': 146,'I-evt091': 147,'I-evt095': 148,'I-evt100': 149,'I-evt104': 150,'I-evt107': 151,'I-evt112': 152,'I-evt119': 153,'I-evt123': 154,'I-evt124': 155,\n",
        " 'I-evt130': 156,'I-evt132': 157,'I-evt133': 158,'I-evt136': 159,'I-evt139': 160,'I-evt142': 161,'I-evt144': 162,'O': 163}"
      ]
    },
    {
      "cell_type": "code",
      "execution_count": null,
      "metadata": {
        "colab": {
          "base_uri": "https://localhost:8080/"
        },
        "id": "0sMdUlzLTHMk",
        "outputId": "414c2bf1-8bc6-43fa-d7d9-4abae94c98bb"
      },
      "outputs": [
        {
          "name": "stderr",
          "output_type": "stream",
          "text": [
            "Some weights of DistilBertForTokenClassification were not initialized from the model checkpoint at distilbert/distilbert-base-uncased and are newly initialized: ['classifier.bias', 'classifier.weight']\n",
            "You should probably TRAIN this model on a down-stream task to be able to use it for predictions and inference.\n"
          ]
        }
      ],
      "source": [
        "model = DebertaForTokenClassification.from_pretrained(\"microsoft/deberta-base\").to(device)"
      ]
    },
    {
      "cell_type": "code",
      "execution_count": null,
      "metadata": {
        "colab": {
          "base_uri": "https://localhost:8080/",
          "height": 169
        },
        "id": "boh9y9bnTK3q",
        "outputId": "f9298b5c-6118-40d5-9e52-7477027f6832"
      },
      "outputs": [
        {
          "data": {
            "text/html": [
              "\n",
              "    <div>\n",
              "      \n",
              "      <progress value='124835' max='248745' style='width:300px; height:20px; vertical-align: middle;'></progress>\n",
              "      [124835/248745 1:35:03 < 1:34:21, 21.89 it/s, Epoch 3.51/7]\n",
              "    </div>\n",
              "    <table border=\"1\" class=\"dataframe\">\n",
              "  <thead>\n",
              " <tr style=\"text-align: left;\">\n",
              "      <th>Epoch</th>\n",
              "      <th>Training Loss</th>\n",
              "      <th>Validation Loss</th>\n",
              "      <th>Precision</th>\n",
              "      <th>Recall</th>\n",
              "      <th>F1</th>\n",
              "      <th>Accuracy</th>\n",
              "    </tr>\n",
              "  </thead>\n",
              "  <tbody>\n",
              "    <tr>\n",
              "      <td>1</td>\n",
              "      <td>0.036300</td>\n",
              "      <td>0.033386</td>\n",
              "      <td>0.294461</td>\n",
              "      <td>0.112723</td>\n",
              "      <td>0.163035</td>\n",
              "      <td>0.992065</td>\n",
              "    </tr>\n",
              "    <tr>\n",
              "      <td>2</td>\n",
              "      <td>0.029900</td>\n",
              "      <td>0.032410</td>\n",
              "      <td>0.276888</td>\n",
              "      <td>0.135045</td>\n",
              "      <td>0.181545</td>\n",
              "      <td>0.991890</td>\n",
              "    </tr>\n",
              "    <tr>\n",
              "      <td>3</td>\n",
              "      <td>0.025600</td>\n",
              "      <td>0.033918</td>\n",
              "      <td>0.276243</td>\n",
              "      <td>0.167411</td>\n",
              "      <td>0.208478</td>\n",
              "      <td>0.991664</td>\n",
              "    </tr>\n",
              "  </tbody>\n",
              "</table><p>"
            ],
            "text/plain": [
              "<IPython.core.display.HTML object>"
            ]
          },
          "metadata": {},
          "output_type": "display_data"
        }
      ],
      "source": [
        "training_args = TrainingArguments(\n",
        "    output_dir=\"/content/drive/MyDrive/NLP_event_extraction/sentence_level_ee_rams_event_model\",\n",
        "    learning_rate=2e-5,\n",
        "    per_device_train_batch_size=1,\n",
        "    per_device_eval_batch_size=1,\n",
        "    num_train_epochs=7,\n",
        "    weight_decay=0.01,\n",
        "    evaluation_strategy=\"epoch\",\n",
        "    save_strategy=\"epoch\",\n",
        "    load_best_model_at_end=True\n",
        ")\n",
        "\n",
        "trainer = Trainer(\n",
        "    model=model,\n",
        "    args=training_args,\n",
        "    train_dataset=tokenized_rams[\"train\"],\n",
        "    eval_dataset=tokenized_rams[\"test\"],\n",
        "    tokenizer=tokenizer,\n",
        "    data_collator=data_collator,\n",
        "    compute_metrics=compute_metrics,\n",
        ")\n",
        "\n",
        "trainer.train()"
      ]
    },
    {
      "cell_type": "code",
      "execution_count": null,
      "metadata": {
        "id": "bYIpowWqZcE1"
      },
      "outputs": [],
      "source": [
        "!pip install accelerate -U"
      ]
    },
    {
      "cell_type": "code",
      "execution_count": null,
      "metadata": {
        "id": "YfAvPbOlAH-o"
      },
      "outputs": [],
      "source": []
    },
    {
      "cell_type": "code",
      "execution_count": null,
      "metadata": {
        "id": "O2vdS43xgPbD"
      },
      "outputs": [],
      "source": [
        "eg = []\n",
        "with open(r\"/content/drive/MyDrive/NLP_event_extraction/test.jsonlines\",encoding='utf-8') as f:\n",
        "    for line in f:\n",
        "        eg.append(json.loads(line))"
      ]
    },
    {
      "cell_type": "code",
      "execution_count": null,
      "metadata": {
        "colab": {
          "base_uri": "https://localhost:8080/",
          "height": 253
        },
        "id": "eIuFCwdsgVb3",
        "outputId": "97561c24-ac76-4d92-ab34-d1aa7997513a"
      },
      "outputs": [
        {
          "data": {
            "application/vnd.google.colaboratory.intrinsic+json": {
              "summary": "{\n  \"name\": \"dtest\",\n  \"rows\": 871,\n  \"fields\": [\n    {\n      \"column\": \"rel_triggers\",\n      \"properties\": {\n        \"dtype\": \"object\",\n        \"semantic_type\": \"\",\n        \"description\": \"\"\n      }\n    },\n    {\n      \"column\": \"gold_rel_links\",\n      \"properties\": {\n        \"dtype\": \"object\",\n        \"semantic_type\": \"\",\n        \"description\": \"\"\n      }\n    },\n    {\n      \"column\": \"doc_key\",\n      \"properties\": {\n        \"dtype\": \"string\",\n        \"num_unique_values\": 871,\n        \"samples\": [\n          \"nw_RC735b5b17f76a72e2456a8e2b0e88e9343abc000367d3f104e508268e\",\n          \"nw_RC145b172bc59fdc46e7e4f90864f32fa130847831ad8e75499670d4fb\",\n          \"nw_RC8cf6b8a42f98e0367dd013678f89850a042c82aac0b61b696976f182\"\n        ],\n        \"semantic_type\": \"\",\n        \"description\": \"\"\n      }\n    },\n    {\n      \"column\": \"ent_spans\",\n      \"properties\": {\n        \"dtype\": \"object\",\n        \"semantic_type\": \"\",\n        \"description\": \"\"\n      }\n    },\n    {\n      \"column\": \"language_id\",\n      \"properties\": {\n        \"dtype\": \"category\",\n        \"num_unique_values\": 1,\n        \"samples\": [\n          \"eng\"\n        ],\n        \"semantic_type\": \"\",\n        \"description\": \"\"\n      }\n    },\n    {\n      \"column\": \"source_url\",\n      \"properties\": {\n        \"dtype\": \"category\",\n        \"num_unique_values\": 400,\n        \"samples\": [\n          \"http://www.upi.com/Top_News/World-News/2016/05/19/Russia-sends-2400-tons-of-food-to-North-Korea/9301463672753/\"\n        ],\n        \"semantic_type\": \"\",\n        \"description\": \"\"\n      }\n    },\n    {\n      \"column\": \"evt_triggers\",\n      \"properties\": {\n        \"dtype\": \"object\",\n        \"semantic_type\": \"\",\n        \"description\": \"\"\n      }\n    },\n    {\n      \"column\": \"split\",\n      \"properties\": {\n        \"dtype\": \"category\",\n        \"num_unique_values\": 1,\n        \"samples\": [\n          \"test\"\n        ],\n        \"semantic_type\": \"\",\n        \"description\": \"\"\n      }\n    },\n    {\n      \"column\": \"sentences\",\n      \"properties\": {\n        \"dtype\": \"object\",\n        \"semantic_type\": \"\",\n        \"description\": \"\"\n      }\n    },\n    {\n      \"column\": \"gold_evt_links\",\n      \"properties\": {\n        \"dtype\": \"object\",\n        \"semantic_type\": \"\",\n        \"description\": \"\"\n      }\n    }\n  ]\n}",
              "type": "dataframe",
              "variable_name": "dtest"
            },
            "text/html": [
              "\n",
              "  <div id=\"df-336f0bfd-975d-4ce4-abc0-9c2cd209e52a\" class=\"colab-df-container\">\n",
              "    <div>\n",
              "<style scoped>\n",
              "    .dataframe tbody tr th:only-of-type {\n",
              "        vertical-align: middle;\n",
              "    }\n",
              "\n",
              "    .dataframe tbody tr th {\n",
              "        vertical-align: top;\n",
              "    }\n",
              "\n",
              "    .dataframe thead th {\n",
              "        text-align: right;\n",
              "    }\n",
              "</style>\n",
              "<table border=\"1\" class=\"dataframe\">\n",
              "  <thead>\n",
              "    <tr style=\"text-align: right;\">\n",
              "      <th></th>\n",
              "      <th>rel_triggers</th>\n",
              "      <th>gold_rel_links</th>\n",
              "      <th>doc_key</th>\n",
              "      <th>ent_spans</th>\n",
              "      <th>language_id</th>\n",
              "      <th>source_url</th>\n",
              "      <th>evt_triggers</th>\n",
              "      <th>split</th>\n",
              "      <th>sentences</th>\n",
              "      <th>gold_evt_links</th>\n",
              "    </tr>\n",
              "  </thead>\n",
              "  <tbody>\n",
              "    <tr>\n",
              "      <th>0</th>\n",
              "      <td>[]</td>\n",
              "      <td>[]</td>\n",
              "      <td>nw_RC00c8620ef5810429342a1c339e6c76c1b0b9add3f...</td>\n",
              "      <td>[[27, 27, [['evt043arg01communicator', 1.0]]],...</td>\n",
              "      <td>eng</td>\n",
              "      <td>http://bbc.co.uk/sport/athletics/36295481</td>\n",
              "      <td>[[31, 31, [['contact.prevarication.broadcast',...</td>\n",
              "      <td>test</td>\n",
              "      <td>[[We, are, ashamed, of, them, ., \"], [However,...</td>\n",
              "      <td>[[[31, 31], [27, 27], evt043arg01communicator]...</td>\n",
              "    </tr>\n",
              "    <tr>\n",
              "      <th>1</th>\n",
              "      <td>[]</td>\n",
              "      <td>[]</td>\n",
              "      <td>nw_RC013c8e78b7e8a4fb22193483877058f712dfd8b75...</td>\n",
              "      <td>[[37, 37, [['evt090arg02victim', 1.0]]]]</td>\n",
              "      <td>eng</td>\n",
              "      <td>https://www.rt.com/news/333928-woman-severed-h...</td>\n",
              "      <td>[[40, 40, [['life.die.deathcausedbyviolenteven...</td>\n",
              "      <td>test</td>\n",
              "      <td>[[I, thought, ,, wow, ,, it, must, be, a, repl...</td>\n",
              "      <td>[[[40, 40], [37, 37], evt090arg02victim]]</td>\n",
              "    </tr>\n",
              "  </tbody>\n",
              "</table>\n",
              "</div>\n",
              "    <div class=\"colab-df-buttons\">\n",
              "\n",
              "  <div class=\"colab-df-container\">\n",
              "    <button class=\"colab-df-convert\" onclick=\"convertToInteractive('df-336f0bfd-975d-4ce4-abc0-9c2cd209e52a')\"\n",
              "            title=\"Convert this dataframe to an interactive table.\"\n",
              "            style=\"display:none;\">\n",
              "\n",
              "  <svg xmlns=\"http://www.w3.org/2000/svg\" height=\"24px\" viewBox=\"0 -960 960 960\">\n",
              "    <path d=\"M120-120v-720h720v720H120Zm60-500h600v-160H180v160Zm220 220h160v-160H400v160Zm0 220h160v-160H400v160ZM180-400h160v-160H180v160Zm440 0h160v-160H620v160ZM180-180h160v-160H180v160Zm440 0h160v-160H620v160Z\"/>\n",
              "  </svg>\n",
              "    </button>\n",
              "\n",
              "  <style>\n",
              "    .colab-df-container {\n",
              "      display:flex;\n",
              "      gap: 12px;\n",
              "    }\n",
              "\n",
              "    .colab-df-convert {\n",
              "      background-color: #E8F0FE;\n",
              "      border: none;\n",
              "      border-radius: 50%;\n",
              "      cursor: pointer;\n",
              "      display: none;\n",
              "      fill: #1967D2;\n",
              "      height: 32px;\n",
              "      padding: 0 0 0 0;\n",
              "      width: 32px;\n",
              "    }\n",
              "\n",
              "    .colab-df-convert:hover {\n",
              "      background-color: #E2EBFA;\n",
              "      box-shadow: 0px 1px 2px rgba(60, 64, 67, 0.3), 0px 1px 3px 1px rgba(60, 64, 67, 0.15);\n",
              "      fill: #174EA6;\n",
              "    }\n",
              "\n",
              "    .colab-df-buttons div {\n",
              "      margin-bottom: 4px;\n",
              "    }\n",
              "\n",
              "    [theme=dark] .colab-df-convert {\n",
              "      background-color: #3B4455;\n",
              "      fill: #D2E3FC;\n",
              "    }\n",
              "\n",
              "    [theme=dark] .colab-df-convert:hover {\n",
              "      background-color: #434B5C;\n",
              "      box-shadow: 0px 1px 3px 1px rgba(0, 0, 0, 0.15);\n",
              "      filter: drop-shadow(0px 1px 2px rgba(0, 0, 0, 0.3));\n",
              "      fill: #FFFFFF;\n",
              "    }\n",
              "  </style>\n",
              "\n",
              "    <script>\n",
              "      const buttonEl =\n",
              "        document.querySelector('#df-336f0bfd-975d-4ce4-abc0-9c2cd209e52a button.colab-df-convert');\n",
              "      buttonEl.style.display =\n",
              "        google.colab.kernel.accessAllowed ? 'block' : 'none';\n",
              "\n",
              "      async function convertToInteractive(key) {\n",
              "        const element = document.querySelector('#df-336f0bfd-975d-4ce4-abc0-9c2cd209e52a');\n",
              "        const dataTable =\n",
              "          await google.colab.kernel.invokeFunction('convertToInteractive',\n",
              "                                                    [key], {});\n",
              "        if (!dataTable) return;\n",
              "\n",
              "        const docLinkHtml = 'Like what you see? Visit the ' +\n",
              "          '<a target=\"_blank\" href=https://colab.research.google.com/notebooks/data_table.ipynb>data table notebook</a>'\n",
              "          + ' to learn more about interactive tables.';\n",
              "        element.innerHTML = '';\n",
              "        dataTable['output_type'] = 'display_data';\n",
              "        await google.colab.output.renderOutput(dataTable, element);\n",
              "        const docLink = document.createElement('div');\n",
              "        docLink.innerHTML = docLinkHtml;\n",
              "        element.appendChild(docLink);\n",
              "      }\n",
              "    </script>\n",
              "  </div>\n",
              "\n",
              "\n",
              "<div id=\"df-712d5831-37a5-4724-b452-3f381b7a3747\">\n",
              "  <button class=\"colab-df-quickchart\" onclick=\"quickchart('df-712d5831-37a5-4724-b452-3f381b7a3747')\"\n",
              "            title=\"Suggest charts\"\n",
              "            style=\"display:none;\">\n",
              "\n",
              "<svg xmlns=\"http://www.w3.org/2000/svg\" height=\"24px\"viewBox=\"0 0 24 24\"\n",
              "     width=\"24px\">\n",
              "    <g>\n",
              "        <path d=\"M19 3H5c-1.1 0-2 .9-2 2v14c0 1.1.9 2 2 2h14c1.1 0 2-.9 2-2V5c0-1.1-.9-2-2-2zM9 17H7v-7h2v7zm4 0h-2V7h2v10zm4 0h-2v-4h2v4z\"/>\n",
              "    </g>\n",
              "</svg>\n",
              "  </button>\n",
              "\n",
              "<style>\n",
              "  .colab-df-quickchart {\n",
              "      --bg-color: #E8F0FE;\n",
              "      --fill-color: #1967D2;\n",
              "      --hover-bg-color: #E2EBFA;\n",
              "      --hover-fill-color: #174EA6;\n",
              "      --disabled-fill-color: #AAA;\n",
              "      --disabled-bg-color: #DDD;\n",
              "  }\n",
              "\n",
              "  [theme=dark] .colab-df-quickchart {\n",
              "      --bg-color: #3B4455;\n",
              "      --fill-color: #D2E3FC;\n",
              "      --hover-bg-color: #434B5C;\n",
              "      --hover-fill-color: #FFFFFF;\n",
              "      --disabled-bg-color: #3B4455;\n",
              "      --disabled-fill-color: #666;\n",
              "  }\n",
              "\n",
              "  .colab-df-quickchart {\n",
              "    background-color: var(--bg-color);\n",
              "    border: none;\n",
              "    border-radius: 50%;\n",
              "    cursor: pointer;\n",
              "    display: none;\n",
              "    fill: var(--fill-color);\n",
              "    height: 32px;\n",
              "    padding: 0;\n",
              "    width: 32px;\n",
              "  }\n",
              "\n",
              "  .colab-df-quickchart:hover {\n",
              "    background-color: var(--hover-bg-color);\n",
              "    box-shadow: 0 1px 2px rgba(60, 64, 67, 0.3), 0 1px 3px 1px rgba(60, 64, 67, 0.15);\n",
              "    fill: var(--button-hover-fill-color);\n",
              "  }\n",
              "\n",
              "  .colab-df-quickchart-complete:disabled,\n",
              "  .colab-df-quickchart-complete:disabled:hover {\n",
              "    background-color: var(--disabled-bg-color);\n",
              "    fill: var(--disabled-fill-color);\n",
              "    box-shadow: none;\n",
              "  }\n",
              "\n",
              "  .colab-df-spinner {\n",
              "    border: 2px solid var(--fill-color);\n",
              "    border-color: transparent;\n",
              "    border-bottom-color: var(--fill-color);\n",
              "    animation:\n",
              "      spin 1s steps(1) infinite;\n",
              "  }\n",
              "\n",
              "  @keyframes spin {\n",
              "    0% {\n",
              "      border-color: transparent;\n",
              "      border-bottom-color: var(--fill-color);\n",
              "      border-left-color: var(--fill-color);\n",
              "    }\n",
              "    20% {\n",
              "      border-color: transparent;\n",
              "      border-left-color: var(--fill-color);\n",
              "      border-top-color: var(--fill-color);\n",
              "    }\n",
              "    30% {\n",
              "      border-color: transparent;\n",
              "      border-left-color: var(--fill-color);\n",
              "      border-top-color: var(--fill-color);\n",
              "      border-right-color: var(--fill-color);\n",
              "    }\n",
              "    40% {\n",
              "      border-color: transparent;\n",
              "      border-right-color: var(--fill-color);\n",
              "      border-top-color: var(--fill-color);\n",
              "    }\n",
              "    60% {\n",
              "      border-color: transparent;\n",
              "      border-right-color: var(--fill-color);\n",
              "    }\n",
              "    80% {\n",
              "      border-color: transparent;\n",
              "      border-right-color: var(--fill-color);\n",
              "      border-bottom-color: var(--fill-color);\n",
              "    }\n",
              "    90% {\n",
              "      border-color: transparent;\n",
              "      border-bottom-color: var(--fill-color);\n",
              "    }\n",
              "  }\n",
              "</style>\n",
              "\n",
              "  <script>\n",
              "    async function quickchart(key) {\n",
              "      const quickchartButtonEl =\n",
              "        document.querySelector('#' + key + ' button');\n",
              "      quickchartButtonEl.disabled = true;  // To prevent multiple clicks.\n",
              "      quickchartButtonEl.classList.add('colab-df-spinner');\n",
              "      try {\n",
              "        const charts = await google.colab.kernel.invokeFunction(\n",
              "            'suggestCharts', [key], {});\n",
              "      } catch (error) {\n",
              "        console.error('Error during call to suggestCharts:', error);\n",
              "      }\n",
              "      quickchartButtonEl.classList.remove('colab-df-spinner');\n",
              "      quickchartButtonEl.classList.add('colab-df-quickchart-complete');\n",
              "    }\n",
              "    (() => {\n",
              "      let quickchartButtonEl =\n",
              "        document.querySelector('#df-712d5831-37a5-4724-b452-3f381b7a3747 button');\n",
              "      quickchartButtonEl.style.display =\n",
              "        google.colab.kernel.accessAllowed ? 'block' : 'none';\n",
              "    })();\n",
              "  </script>\n",
              "</div>\n",
              "\n",
              "    </div>\n",
              "  </div>\n"
            ],
            "text/plain": [
              "  rel_triggers gold_rel_links  \\\n",
              "0           []             []   \n",
              "1           []             []   \n",
              "\n",
              "                                             doc_key  \\\n",
              "0  nw_RC00c8620ef5810429342a1c339e6c76c1b0b9add3f...   \n",
              "1  nw_RC013c8e78b7e8a4fb22193483877058f712dfd8b75...   \n",
              "\n",
              "                                           ent_spans language_id  \\\n",
              "0  [[27, 27, [['evt043arg01communicator', 1.0]]],...         eng   \n",
              "1           [[37, 37, [['evt090arg02victim', 1.0]]]]         eng   \n",
              "\n",
              "                                          source_url  \\\n",
              "0          http://bbc.co.uk/sport/athletics/36295481   \n",
              "1  https://www.rt.com/news/333928-woman-severed-h...   \n",
              "\n",
              "                                        evt_triggers split  \\\n",
              "0  [[31, 31, [['contact.prevarication.broadcast',...  test   \n",
              "1  [[40, 40, [['life.die.deathcausedbyviolenteven...  test   \n",
              "\n",
              "                                           sentences  \\\n",
              "0  [[We, are, ashamed, of, them, ., \"], [However,...   \n",
              "1  [[I, thought, ,, wow, ,, it, must, be, a, repl...   \n",
              "\n",
              "                                      gold_evt_links  \n",
              "0  [[[31, 31], [27, 27], evt043arg01communicator]...  \n",
              "1          [[[40, 40], [37, 37], evt090arg02victim]]  "
            ]
          },
          "execution_count": 47,
          "metadata": {},
          "output_type": "execute_result"
        }
      ],
      "source": [
        "dtest = pd.DataFrame(eg)\n",
        "dtest.head(2)"
      ]
    },
    {
      "cell_type": "code",
      "execution_count": null,
      "metadata": {
        "colab": {
          "base_uri": "https://localhost:8080/"
        },
        "id": "svit_Fpxi6Ha",
        "outputId": "c53ec041-7e96-4fbb-be16-b33a58d9b939"
      },
      "outputs": [
        {
          "name": "stdout",
          "output_type": "stream",
          "text": [
            "[['We', 'are', 'ashamed', 'of', 'them', '.', '\"'], ['However', ',', 'Mutko', 'stopped', 'short', 'of', 'admitting', 'the', 'doping', 'scandal', 'was', 'state', 'sponsored', '.'], ['\"', 'We', 'are', 'very', 'sorry', 'that', 'athletes', 'who', 'tried', 'to', 'deceive', 'us', ',', 'and', 'the', 'world', ',', 'were', 'not', 'caught', 'sooner', '.'], ['We', 'are', 'very', 'sorry', 'because', 'Russia', 'is', 'committed', 'to', 'upholding', 'the', 'highest', 'standards', 'in', 'sport', 'and', 'is', 'opposed', 'to', 'anything', 'that', 'threatens', 'the', 'Olympic', 'values', ',', '\"', 'he', 'said', '.'], ['English', 'former', 'heptathlete', 'and', 'Athens', '2004', 'bronze', 'medallist', 'Kelly', 'Sotherton', 'was', 'unhappy', 'with', 'Mutko', \"'s\", 'plea', 'for', 'Russia', \"'s\", 'ban', 'to', 'be', 'lifted', 'for', 'Rio']]\n"
          ]
        }
      ],
      "source": [
        "print(dtest['sentences'][0])"
      ]
    },
    {
      "cell_type": "code",
      "execution_count": null,
      "metadata": {
        "colab": {
          "base_uri": "https://localhost:8080/"
        },
        "id": "cm77CISXjMDN",
        "outputId": "7d364cb2-f5c6-4962-9184-27584361e551"
      },
      "outputs": [
        {
          "name": "stdout",
          "output_type": "stream",
          "text": [
            "[[[31, 31], [27, 27], 'evt043arg01communicator'], [[31, 31], [32, 36], 'evt043arg02recipient'], [[31, 31], [48, 48], 'evt043arg03place']] [[31, 31, [['contact.prevarication.broadcast', 1.0]]]]\n"
          ]
        }
      ],
      "source": [
        "print(dtest['gold_evt_links'][0],dtest['evt_triggers'][0])"
      ]
    },
    {
      "cell_type": "code",
      "execution_count": null,
      "metadata": {
        "colab": {
          "base_uri": "https://localhost:8080/"
        },
        "id": "u3Mk6DCigks8",
        "outputId": "4e4e2b7f-0f4b-4032-ecf7-f9a5ce23413d"
      },
      "outputs": [
        {
          "name": "stdout",
          "output_type": "stream",
          "text": [
            "CPU times: user 1.53 s, sys: 23.2 ms, total: 1.55 s\n",
            "Wall time: 1.54 s\n"
          ]
        }
      ],
      "source": [
        "%%time\n",
        "dataframe_list = []\n",
        "for idx in range(871):\n",
        "\n",
        "    row_tokens = []\n",
        "    trigger_tags = []\n",
        "    arg_tags = []\n",
        "    doc_key = []\n",
        "    sentence_num = []\n",
        "    for i in range(len(dtest['sentences'][idx])):\n",
        "        row_tokens.extend(dtest['sentences'][idx][i])\n",
        "        for j in range(len(dtest['sentences'][idx][i])):\n",
        "          sentence_num.append(str(i)+dtest['doc_key'][idx])\n",
        "\n",
        "    for i in range(len(row_tokens)):\n",
        "        trigger_tags.append('O')\n",
        "        arg_tags.append('O')\n",
        "        doc_key.append(dtest['doc_key'][idx])\n",
        "\n",
        "    gold_link = dtest['gold_evt_links'][idx]\n",
        "\n",
        "    for i in range(len(gold_link)):\n",
        "\n",
        "        trigger_list = gold_link[i][0]\n",
        "        arg_list = gold_link[i][1]\n",
        "        arg_label = gold_link[i][2]\n",
        "\n",
        "        trigger_beg = trigger_list[0]\n",
        "        trigger_end = trigger_list[1]\n",
        "        trigger_tags[trigger_beg] = 'B-'+ arg_label[:6]\n",
        "        if trigger_beg != trigger_end:\n",
        "            for trg in range(trigger_beg+1,trigger_end+1):\n",
        "                trigger_tags[trg] = 'I-'+ arg_label[:6]\n",
        "\n",
        "        arg_beg = arg_list[0]\n",
        "        arg_end = arg_list[1]\n",
        "        arg_tags[arg_beg] = 'B-'+ arg_label[11:]\n",
        "        if arg_beg != arg_end:\n",
        "            for arg in range(arg_beg+1,arg_end+1):\n",
        "                arg_tags[arg] = 'I-'+ arg_label[11:]\n",
        "\n",
        "    d1 = pd.DataFrame({'doc_key':sentence_num,'token':row_tokens,'event_tags':trigger_tags,'arg_tags':arg_tags})\n",
        "    dataframe_list.append(d1)"
      ]
    },
    {
      "cell_type": "code",
      "execution_count": null,
      "metadata": {
        "id": "17oUhlV0g3tf"
      },
      "outputs": [],
      "source": [
        "eg_test = pd.concat(dataframe_list)"
      ]
    },
    {
      "cell_type": "code",
      "execution_count": null,
      "metadata": {
        "id": "_gZKwy3EhE9d"
      },
      "outputs": [],
      "source": [
        "def create_dataset(data):\n",
        "    grouped_tokens = data.groupby('doc_key')['token'].apply(list).reset_index(name='token')\n",
        "    grouped_events = data.groupby('doc_key')['event_tags'].apply(list).reset_index(name='event_tags')\n",
        "    grouped_args = data.groupby('doc_key')['arg_tags'].apply(list).reset_index(name='arg_tags')\n",
        "\n",
        "    dataset_dict = {\n",
        "        \"id\": grouped_tokens['doc_key'],\n",
        "        \"tokens\": grouped_tokens['token'],\n",
        "        \"event_tags\": grouped_events['event_tags'],\n",
        "        \"arg_tags\": grouped_args['arg_tags'],\n",
        "    }\n",
        "\n",
        "    return Dataset.from_dict(dataset_dict)\n",
        "\n",
        "dataset1 = create_dataset(eg_test)"
      ]
    },
    {
      "cell_type": "code",
      "execution_count": null,
      "metadata": {
        "id": "qhLUCeZSfARH"
      },
      "outputs": [],
      "source": [
        "tokenizer = AutoTokenizer.from_pretrained(\"/content/drive/MyDrive/NLP_event_extraction/sentence_level_ee_rams_event_model/checkpoint-106605\",max_length=512,padding=True)"
      ]
    },
    {
      "cell_type": "code",
      "execution_count": null,
      "metadata": {
        "id": "bqKot5sDfQjP"
      },
      "outputs": [],
      "source": [
        "from transformers import AutoModelForTokenClassification\n",
        "model = AutoModelForTokenClassification.from_pretrained(\"/content/drive/MyDrive/NLP_event_extraction/sentence_level_ee_rams_event_model/checkpoint-106605\")"
      ]
    },
    {
      "cell_type": "code",
      "execution_count": null,
      "metadata": {
        "colab": {
          "base_uri": "https://localhost:8080/"
        },
        "id": "ppJ1todJfWzB",
        "outputId": "bf096900-cb58-4658-9fa1-4142f45631e6"
      },
      "outputs": [
        {
          "name": "stdout",
          "output_type": "stream",
          "text": [
            "25\n",
            "Russia has called for a thorough and unbiased investigation into a Saudi airstrike that killed over 140 people at a funeral in the Yemeni capital city of Sana’a , urging punitive measures against all those responsible for the attack .\n",
            "['O', 'O', 'O', 'O', 'O', 'O', 'O', 'O', 'O', 'O', 'O', 'O', 'O', 'O', 'O', 'O', 'O', 'O', 'O', 'O', 'O', 'O', 'O', 'O', 'O', 'O', 'O', 'O', 'O', 'O', 'O', 'O', 'O', 'O', 'O', 'O', 'O', 'O', 'O', 'O', 'O', 'O', 'O', 'O', 'O', 'O', 'O', 'O', 'O', 'O', 'O']\n",
            "['O', 'O', 'O', 'O', 'O', 'O', 'O', 'O', 'O', 'O', 'O', 'O', 'O', 'O', 'O', 'O', 'O', 'O', 'O', 'O', 'B-evt035', 'O', 'O', 'O', 'O', 'O', 'O', 'O', 'O', 'O', 'O', 'O', 'O', 'O', 'O', 'O', 'O', 'O', 'O', 'O']\n",
            "34\n",
            "Richard L. Campbell , the man accused of sucker - punching a 69-year - old protester outside a Donald Trump rally in Asheville , NC on Monday , is vigorously denying the charge — and has video that his attorney says proves his innocence .\n",
            "['O', 'O', 'O', 'O', 'O', 'O', 'O', 'O', 'O', 'O', 'O', 'O', 'O', 'O', 'O', 'O', 'O', 'O', 'O', 'O', 'O', 'O', 'O', 'O', 'O', 'O', 'O', 'O', 'O', 'O', 'O', 'O', 'O', 'O', 'O', 'O', 'O', 'O', 'O', 'O', 'O', 'O', 'O', 'O', 'O', 'O', 'O', 'O', 'O', 'O', 'O', 'O']\n",
            "['O', 'O', 'O', 'O', 'O', 'O', 'O', 'O', 'O', 'O', 'B-evt095', 'O', 'O', 'O', 'O', 'O', 'O', 'O', 'O', 'O', 'O', 'O', 'O', 'O', 'O', 'O', 'O', 'O', 'O', 'O', 'O', 'O', 'O', 'O', 'O', 'O', 'O', 'O', 'O', 'O', 'O', 'O', 'O', 'O', 'O']\n",
            "36\n",
            "Damascus has reacted harshly to the bombing of Kurdish militias in northern Syria on Thursday morning by Turkey ’s air force , vowing to intervene next time Ankara sends its planes over its border .\n",
            "['O', 'O', 'O', 'O', 'O', 'O', 'O', 'O', 'O', 'O', 'O', 'O', 'O', 'O', 'O', 'O', 'O', 'O', 'O', 'O', 'O', 'O', 'O', 'O', 'B-evt031', 'O', 'O', 'O', 'O', 'O', 'O', 'O', 'O', 'O', 'O', 'O', 'O', 'O', 'O']\n",
            "['O', 'O', 'O', 'O', 'O', 'O', 'O', 'O', 'O', 'O', 'O', 'O', 'O', 'O', 'O', 'O', 'O', 'O', 'O', 'O', 'O', 'O', 'B-evt029', 'O', 'O', 'O', 'O', 'O', 'O', 'O', 'O', 'O', 'O', 'O', 'O']\n",
            "79\n",
            "ISTANBUL ( Reuters ) - Turkey and Russia signed an agreement on Monday for the construction of a major undersea gas pipeline and vowed to seek common ground on the war in Syria , accelerating a normalization in ties nearly a year after Turkey shot down a Russian warplane .\n",
            "['O', 'O', 'O', 'O', 'O', 'O', 'O', 'O', 'O', 'O', 'O', 'O', 'O', 'O', 'O', 'O', 'O', 'O', 'O', 'O', 'O', 'O', 'O', 'O', 'O', 'B-evt031', 'O', 'O', 'O', 'O', 'O', 'O', 'O', 'O', 'O', 'O', 'O', 'O', 'O', 'O', 'O', 'O', 'O', 'O', 'O', 'O', 'O', 'O', 'O', 'O', 'O', 'O', 'O', 'O', 'O']\n",
            "['O', 'O', 'O', 'O', 'O', 'O', 'O', 'O', 'O', 'O', 'O', 'O', 'O', 'O', 'O', 'O', 'O', 'O', 'O', 'O', 'O', 'O', 'O', 'O', 'O', 'O', 'O', 'O', 'O', 'O', 'O', 'O', 'O', 'O', 'O', 'O', 'O', 'O', 'O', 'O', 'O', 'O', 'O', 'O', 'B-evt089', 'O', 'O', 'O', 'O', 'O']\n",
            "86\n",
            "On Wednesday ’s Breitbart News Daily , Sirius XM host Alex Marlow discussed leaked Hillary Clinton emails with former Navy SEAL and Blackwater CEO Erik Prince .\n",
            "['O', 'O', 'O', 'O', 'O', 'O', 'O', 'O', 'O', 'O', 'O', 'O', 'O', 'O', 'O', 'O', 'O', 'O', 'O', 'B-evt034', 'O', 'O', 'O', 'O', 'O', 'O', 'O', 'O', 'O', 'O', 'O', 'O', 'O', 'O', 'O', 'O']\n",
            "['O', 'O', 'O', 'O', 'O', 'O', 'O', 'O', 'O', 'O', 'O', 'O', 'B-evt034', 'O', 'O', 'O', 'O', 'O', 'O', 'O', 'O', 'O', 'O', 'O', 'O', 'O', 'O']\n",
            "96\n",
            "Hillary Clinton reiterated her unreserved support for both a “ no - fly zone ” and “ safe zones ” in Syria during Sunday ’s presidential debate — but in a partial transcript of private remarks she made at a Goldman Sachs event in 2013 , she acknowledged some of the complications involved .\n",
            "['O', 'O', 'O', 'O', 'O', 'O', 'O', 'O', 'O', 'O', 'O', 'O', 'O', 'O', 'O', 'O', 'O', 'O', 'O', 'O', 'O', 'O', 'O', 'O', 'O', 'O', 'O', 'O', 'O', 'O', 'O', 'O', 'O', 'O', 'O', 'O', 'O', 'O', 'O', 'O', 'O', 'O', 'O', 'O', 'O', 'O', 'O', 'O', 'O', 'O', 'O', 'O', 'O', 'O', 'O', 'O', 'O', 'O', 'O']\n",
            "['O', 'O', 'B-evt046', 'O', 'O', 'O', 'O', 'O', 'O', 'O', 'O', 'O', 'O', 'O', 'O', 'O', 'O', 'O', 'O', 'O', 'O', 'O', 'O', 'O', 'O', 'O', 'O', 'O', 'O', 'O', 'O', 'O', 'O', 'O', 'O', 'O', 'O', 'O', 'O', 'O', 'O', 'O', 'O', 'O', 'O', 'O', 'O', 'O', 'O', 'O', 'O', 'O', 'O', 'O']\n",
            "111\n",
            "A file photo showing Iranians while reacting to a public execution in Tehran .\n",
            "['O', 'O', 'O', 'O', 'O', 'O', 'O', 'O', 'O', 'O', 'O', 'O', 'B-evt087', 'O', 'O', 'O', 'O']\n",
            "['O', 'O', 'O', 'O', 'O', 'O', 'O', 'O', 'O', 'O', 'B-evt087', 'O', 'O', 'O']\n",
            "170\n",
            "Turkish President Tayyip Erdogan attends a joint news conference with his Russian counterpart Vladimir Putin ( not pictured ) following their meeting in Istanbul , Turkey , October 10 , 2016 .\n",
            "['O', 'O', 'O', 'O', 'O', 'O', 'O', 'O', 'O', 'O', 'O', 'O', 'O', 'O', 'O', 'O', 'O', 'O', 'O', 'O', 'O', 'O', 'O', 'O', 'O', 'O', 'O', 'O', 'O', 'O', 'O', 'O', 'O', 'O', 'O', 'O', 'O', 'O']\n",
            "['O', 'O', 'O', 'O', 'O', 'O', 'O', 'O', 'O', 'O', 'O', 'O', 'O', 'O', 'O', 'O', 'O', 'O', 'O', 'O', 'O', 'B-evt032', 'O', 'O', 'O', 'O', 'O', 'O', 'O', 'O', 'O', 'O']\n",
            "204\n",
            "NATO military vehicles with American flags that were put on display in a central square of Chisinau , Moldova ’s capital , had to withdraw before Monday ’s V - Day march and retreat outside the town after the show - off sparked fierce opposition from the locals .\n",
            "['O', 'O', 'O', 'O', 'O', 'O', 'O', 'O', 'O', 'O', 'O', 'O', 'O', 'O', 'O', 'O', 'O', 'O', 'O', 'O', 'O', 'O', 'O', 'O', 'O', 'O', 'O', 'O', 'O', 'O', 'O', 'O', 'O', 'O', 'O', 'O', 'O', 'O', 'O', 'O', 'O', 'O', 'O', 'O', 'O', 'O', 'O', 'O', 'O', 'O', 'O', 'O', 'O', 'O', 'O']\n",
            "['O', 'O', 'O', 'O', 'O', 'O', 'O', 'O', 'O', 'O', 'O', 'O', 'O', 'O', 'O', 'O', 'O', 'O', 'O', 'O', 'O', 'O', 'O', 'O', 'B-evt018', 'O', 'O', 'O', 'O', 'O', 'O', 'O', 'O', 'O', 'O', 'O', 'O', 'O', 'O', 'O', 'O', 'O', 'O', 'O', 'O', 'O', 'O', 'O', 'O']\n",
            "294\n",
            "Exclusive : Before the Democrats lock in their choice for President , they might want to know if Hillary Clinton broke the law with her unsecure emails and may be indicted , a question that ex - CIA analyst Ray McGovern addresses .\n",
            "['O', 'O', 'O', 'O', 'O', 'O', 'O', 'O', 'O', 'O', 'O', 'O', 'O', 'O', 'O', 'O', 'O', 'O', 'O', 'O', 'O', 'O', 'O', 'O', 'O', 'O', 'O', 'O', 'O', 'O', 'O', 'O', 'O', 'B-evt081', 'O', 'O', 'O', 'O', 'O', 'O', 'O', 'O', 'O', 'O', 'O', 'O', 'O', 'O', 'O']\n",
            "['O', 'O', 'O', 'O', 'O', 'O', 'O', 'O', 'O', 'O', 'O', 'O', 'O', 'O', 'O', 'O', 'O', 'O', 'O', 'O', 'O', 'O', 'O', 'O', 'O', 'O', 'O', 'O', 'O', 'O', 'B-evt081', 'O', 'O', 'O', 'O', 'O', 'O', 'O', 'O', 'O', 'O', 'O', 'O']\n",
            "308\n",
            "Tensions between Turkey and the US have escalated following the attempted coup against the Erdogan administration , with the country 's leader demanding the extradition of a US - based cleric accused of orchestrating the violence .\n",
            "['O', 'O', 'O', 'O', 'O', 'O', 'O', 'O', 'O', 'O', 'O', 'O', 'O', 'O', 'O', 'O', 'O', 'O', 'O', 'O', 'O', 'O', 'O', 'O', 'O', 'O', 'O', 'O', 'O', 'O', 'O', 'O', 'O', 'O', 'O', 'O', 'O', 'O', 'O', 'O', 'O', 'O', 'O', 'O']\n",
            "['O', 'O', 'O', 'O', 'O', 'O', 'O', 'O', 'O', 'O', 'O', 'B-evt011', 'O', 'O', 'O', 'O', 'O', 'O', 'O', 'O', 'O', 'O', 'O', 'O', 'O', 'O', 'O', 'O', 'O', 'O', 'O', 'O', 'O', 'O', 'O', 'O', 'O']\n",
            "328\n",
            "Damascus has reacted harshly to the bombing of Kurdish militias in northern Syria on Thursday morning by Turkey ’s air force , vowing to intervene next time Ankara sends its planes over its border .\n",
            "['O', 'O', 'O', 'O', 'O', 'O', 'O', 'O', 'O', 'O', 'O', 'O', 'O', 'O', 'O', 'O', 'O', 'O', 'O', 'O', 'O', 'O', 'O', 'O', 'B-evt031', 'O', 'O', 'O', 'O', 'O', 'O', 'O', 'O', 'O', 'O', 'O', 'O', 'O', 'O']\n",
            "['O', 'O', 'O', 'O', 'O', 'O', 'B-evt004', 'O', 'O', 'O', 'O', 'O', 'O', 'O', 'O', 'O', 'O', 'O', 'O', 'O', 'O', 'O', 'O', 'O', 'O', 'O', 'O', 'O', 'O', 'O', 'O', 'O', 'O', 'O', 'O']\n",
            "477\n",
            "Bernie Sanders is the only self - proclaimed “ Democratic socialist ” running in the 2016 race for the White House .\n",
            "['O', 'O', 'O', 'O', 'O', 'O', 'O', 'O', 'O', 'O', 'O', 'O', 'O', 'O', 'O', 'O', 'O', 'O', 'O', 'O', 'O', 'O', 'O', 'O']\n",
            "['O', 'O', 'O', 'O', 'O', 'O', 'O', 'B-evt046', 'O', 'O', 'O', 'O', 'O', 'O', 'O', 'O', 'O', 'O', 'O', 'O', 'O', 'O']\n",
            "515\n",
            "A mysterious online group calling itself “ The Shadow Brokers ” is claiming to have penetrated the National Security Agency , stolen some of its malware , and is auctioning off the files to the highest bidder .\n",
            "['O', 'O', 'O', 'O', 'O', 'O', 'O', 'O', 'O', 'O', 'O', 'O', 'O', 'O', 'O', 'O', 'O', 'O', 'O', 'O', 'O', 'O', 'O', 'O', 'O', 'O', 'O', 'O', 'O', 'O', 'O', 'O', 'O', 'O', 'O', 'O', 'O', 'O', 'O', 'O', 'O', 'O', 'O', 'O']\n",
            "['O', 'O', 'O', 'O', 'O', 'O', 'O', 'O', 'O', 'O', 'O', 'O', 'O', 'O', 'O', 'O', 'O', 'O', 'O', 'O', 'O', 'O', 'O', 'O', 'O', 'O', 'O', 'O', 'O', 'B-evt139', 'O', 'O', 'O', 'O', 'O', 'O', 'O', 'O']\n",
            "530\n",
            "As Hillary Clinton supporters fret about a WikiLeaks “ October surprise , ” dozens of defense and security experts from both parties are urging the Obama administration to take tough action if it concludes that Russia orchestrated a series of cyberattacks on the Democratic Party .\n",
            "['O', 'O', 'O', 'O', 'O', 'O', 'O', 'O', 'O', 'O', 'O', 'O', 'O', 'O', 'O', 'O', 'O', 'O', 'O', 'O', 'O', 'O', 'O', 'O', 'O', 'O', 'O', 'O', 'B-evt049', 'O', 'O', 'O', 'O', 'O', 'O', 'O', 'O', 'O', 'O', 'O', 'O', 'O', 'O', 'O', 'O', 'O', 'O', 'O', 'O', 'O', 'O', 'O', 'O', 'O', 'O']\n",
            "['O', 'O', 'O', 'O', 'O', 'O', 'O', 'O', 'O', 'O', 'O', 'O', 'O', 'O', 'O', 'O', 'O', 'O', 'O', 'O', 'O', 'O', 'O', 'B-evt026', 'O', 'O', 'O', 'O', 'O', 'O', 'O', 'O', 'O', 'O', 'O', 'O', 'O', 'O', 'O', 'O', 'O', 'O', 'O', 'O', 'O', 'O']\n",
            "585\n",
            "A mysterious online group calling itself “ The Shadow Brokers ” is claiming to have penetrated the National Security Agency , stolen some of its malware , and is auctioning off the files to the highest bidder .\n",
            "['O', 'O', 'O', 'O', 'O', 'O', 'O', 'O', 'O', 'O', 'O', 'O', 'O', 'O', 'O', 'O', 'O', 'O', 'O', 'O', 'O', 'O', 'O', 'O', 'O', 'O', 'O', 'O', 'O', 'O', 'O', 'O', 'O', 'O', 'O', 'O', 'O', 'O', 'O', 'O', 'O', 'O', 'O', 'O']\n",
            "['O', 'O', 'O', 'O', 'O', 'O', 'O', 'O', 'O', 'O', 'O', 'O', 'O', 'O', 'O', 'O', 'O', 'O', 'O', 'O', 'O', 'O', 'O', 'O', 'O', 'O', 'O', 'O', 'O', 'B-evt143', 'O', 'O', 'O', 'O', 'O', 'O', 'O', 'O']\n",
            "620\n",
            "Rebel fighters and civilians inspect the wreckage of a Russian helicopter that had been shot down in the north of Syria 's rebel - held Idlib province , Syria August 1 , 2016 .\n",
            "['O', 'O', 'O', 'O', 'O', 'O', 'O', 'O', 'O', 'O', 'O', 'O', 'O', 'O', 'O', 'O', 'O', 'O', 'O', 'O', 'O', 'O', 'O', 'O', 'O', 'O', 'O', 'O', 'O', 'O', 'O', 'O', 'O', 'O', 'O', 'O', 'O', 'O']\n",
            "['O', 'O', 'O', 'O', 'B-evt077', 'O', 'O', 'O', 'O', 'O', 'O', 'O', 'O', 'O', 'O', 'O', 'O', 'O', 'O', 'O', 'O', 'O', 'O', 'O', 'O', 'O', 'O', 'O', 'O', 'O', 'O', 'O', 'O', 'O']\n",
            "637\n",
            "Image copyright AFP Image caption Julian Assange has been claiming asylum at London 's Ecuadorean embassy since 2012\n",
            "['O', 'O', 'O', 'O', 'O', 'O', 'O', 'O', 'O', 'O', 'O', 'O', 'O', 'O', 'O', 'O', 'O', 'O', 'O', 'O', 'O', 'O', 'O', 'O', 'O']\n",
            "['O', 'O', 'O', 'O', 'O', 'O', 'O', 'O', 'O', 'O', 'B-evt117', 'O', 'O', 'O', 'O', 'O', 'O', 'O']\n",
            "656\n",
            "When a Russian FSB agent and a Russian soldier were killed by a team of Ukrainian saboteurs , and one of the captured Ukrainians was shown on Russian media in handcuffs , US ambassador to Ukraine Geoffrey Pyatt tweeted\n",
            "['O', 'O', 'O', 'O', 'O', 'O', 'O', 'O', 'O', 'O', 'O', 'O', 'O', 'O', 'O', 'O', 'O', 'O', 'O', 'O', 'O', 'O', 'O', 'O', 'O', 'O', 'O', 'O', 'O', 'O', 'O', 'O', 'O', 'O', 'O', 'O', 'O', 'O', 'O', 'O', 'O', 'O', 'O', 'O', 'O', 'O', 'O', 'O', 'O']\n",
            "['O', 'O', 'O', 'O', 'O', 'O', 'O', 'O', 'O', 'O', 'O', 'O', 'O', 'O', 'O', 'O', 'O', 'O', 'O', 'O', 'O', 'O', 'B-evt120', 'O', 'O', 'O', 'O', 'O', 'O', 'O', 'O', 'O', 'O', 'O', 'O', 'O', 'O', 'O', 'O']\n",
            "664\n",
            "As Hillary Clinton begins her final charge for the White House , her advisers are already recommending air strikes and other new military measures against the Assad regime in Syria .\n",
            "['O', 'O', 'O', 'O', 'O', 'O', 'O', 'O', 'O', 'O', 'O', 'O', 'O', 'O', 'O', 'O', 'O', 'O', 'O', 'O', 'O', 'O', 'O', 'O', 'O', 'O', 'O', 'O', 'O', 'O', 'O', 'O', 'O', 'O', 'O']\n",
            "['O', 'O', 'O', 'O', 'O', 'O', 'O', 'O', 'O', 'O', 'O', 'O', 'O', 'O', 'O', 'O', 'B-evt051', 'O', 'O', 'O', 'O', 'O', 'O', 'O', 'O', 'O', 'O', 'O', 'O', 'O', 'O']\n",
            "689\n",
            "MADRID Two Indian men arrested in Spain for smuggling Russian anti - aircraft missiles were extradited to the United States , Spanish military police said in a statement on Thursday .\n",
            "['O', 'O', 'O', 'O', 'O', 'O', 'O', 'O', 'O', 'O', 'O', 'O', 'O', 'O', 'O', 'O', 'O', 'O', 'O', 'O', 'O', 'O', 'O', 'O', 'O', 'O', 'O', 'O', 'O', 'O', 'O', 'O', 'O', 'O', 'O']\n",
            "['O', 'O', 'O', 'O', 'O', 'O', 'O', 'O', 'B-evt105', 'O', 'O', 'O', 'O', 'O', 'O', 'O', 'O', 'O', 'O', 'O', 'O', 'O', 'O', 'O', 'O', 'O', 'O', 'O', 'O', 'O', 'O']\n",
            "718\n",
            "Socialism demands that we place blind trust in whoever takes the power to distribute society ’s goods and services .\n",
            "['O', 'O', 'O', 'O', 'O', 'O', 'O', 'O', 'O', 'O', 'O', 'O', 'O', 'O', 'O', 'O', 'O', 'O', 'O', 'O', 'O', 'O', 'O']\n",
            "['O', 'B-evt027', 'O', 'O', 'O', 'O', 'O', 'O', 'O', 'O', 'O', 'O', 'O', 'O', 'O', 'O', 'O', 'O', 'O', 'O']\n",
            "766\n",
            "A mysterious online group calling itself “ The Shadow Brokers ” is claiming to have penetrated the National Security Agency , stolen some of its malware , and is auctioning off the files to the highest bidder .\n",
            "['O', 'O', 'O', 'O', 'O', 'O', 'O', 'O', 'O', 'O', 'O', 'O', 'O', 'O', 'O', 'O', 'O', 'O', 'O', 'O', 'O', 'O', 'O', 'O', 'O', 'O', 'O', 'O', 'O', 'O', 'O', 'O', 'O', 'O', 'O', 'O', 'O', 'O', 'O', 'O', 'O', 'O', 'O', 'O']\n",
            "['O', 'O', 'O', 'O', 'O', 'O', 'O', 'O', 'O', 'O', 'O', 'O', 'O', 'O', 'O', 'O', 'O', 'O', 'O', 'O', 'O', 'O', 'O', 'O', 'O', 'O', 'O', 'O', 'O', 'B-evt138', 'O', 'O', 'O', 'O', 'O', 'O', 'O', 'O']\n",
            "785\n",
            "Weddings and funerals have been banned and Pyongyang is in lockdown as preparations for a once - in - a - generation party congress get underway in North Korea .\n",
            "['O', 'O', 'O', 'O', 'O', 'O', 'O', 'O', 'O', 'O', 'O', 'O', 'O', 'O', 'O', 'O', 'O', 'O', 'O', 'O', 'O', 'O', 'O', 'O', 'O', 'O', 'O', 'O', 'O', 'O', 'O', 'O', 'O', 'O', 'O', 'O', 'O']\n",
            "['O', 'O', 'B-evt036', 'O', 'O', 'O', 'O', 'O', 'O', 'O', 'O', 'O', 'O', 'O', 'O', 'O', 'O', 'O', 'O', 'O', 'O', 'O', 'O', 'O', 'O', 'O', 'O', 'O', 'O', 'O']\n",
            "808\n",
            "By By Kesavan Unnikrishnan Mar 13 , 2016 in Environment A newly released government document says the Canadian government is spending $ 2.5 million to monitor the annual commercial seal hunt , the largest marine mammal cull on the planet , which had an export value of only $ 500,000 .\n",
            "['O', 'O', 'O', 'O', 'O', 'O', 'O', 'O', 'O', 'O', 'O', 'O', 'O', 'O', 'O', 'O', 'O', 'O', 'O', 'O', 'O', 'O', 'O', 'O', 'O', 'O', 'O', 'O', 'O', 'O', 'O', 'O', 'O', 'O', 'O', 'O', 'O', 'O', 'O', 'O', 'O', 'O', 'O', 'O', 'O', 'O', 'O', 'O', 'O', 'O', 'O', 'O', 'O', 'O', 'O', 'O', 'O', 'O', 'O', 'O', 'O', 'O', 'O']\n",
            "['O', 'O', 'O', 'O', 'O', 'O', 'O', 'O', 'O', 'O', 'O', 'O', 'O', 'O', 'O', 'O', 'O', 'O', 'O', 'O', 'O', 'O', 'O', 'O', 'O', 'O', 'O', 'O', 'O', 'O', 'O', 'O', 'O', 'O', 'O', 'O', 'O', 'O', 'O', 'O', 'O', 'O', 'O', 'O', 'B-evt110', 'O', 'O', 'O', 'O', 'O', 'O']\n",
            "816\n",
            "Anti - American sentiment among Turks is on the rise and can only be calmed by the United States extraditing the Muslim cleric Ankara accuses of orchestrating last month ’s failed coup , Turkey ’s justice minister said on Tuesday .\n",
            "['O', 'O', 'O', 'O', 'O', 'O', 'O', 'O', 'O', 'O', 'O', 'O', 'O', 'O', 'O', 'O', 'O', 'O', 'O', 'O', 'O', 'O', 'O', 'O', 'O', 'O', 'O', 'O', 'O', 'O', 'O', 'O', 'O', 'O', 'O', 'O', 'O', 'O', 'O', 'O', 'O', 'O', 'O', 'O', 'O', 'O', 'O', 'O', 'O']\n",
            "['O', 'O', 'O', 'O', 'O', 'O', 'O', 'O', 'O', 'O', 'O', 'O', 'O', 'O', 'O', 'O', 'O', 'O', 'O', 'O', 'O', 'O', 'O', 'O', 'O', 'O', 'O', 'O', 'O', 'O', 'O', 'B-evt011', 'O', 'O', 'O', 'O', 'O', 'O', 'O', 'O', 'O']\n",
            "864\n",
            "MADRID Two Indian men arrested in Spain for smuggling Russian anti - aircraft missiles were extradited to the United States , Spanish military police said in a statement on Thursday .\n",
            "['O', 'O', 'O', 'O', 'O', 'O', 'O', 'O', 'O', 'O', 'O', 'O', 'O', 'O', 'O', 'O', 'O', 'O', 'O', 'O', 'O', 'O', 'O', 'O', 'O', 'O', 'O', 'O', 'O', 'O', 'O', 'O', 'O', 'O', 'O']\n",
            "['O', 'O', 'O', 'O', 'O', 'O', 'O', 'O', 'O', 'O', 'O', 'O', 'O', 'O', 'O', 'B-evt085', 'O', 'O', 'O', 'O', 'O', 'O', 'O', 'O', 'O', 'O', 'O', 'O', 'O', 'O', 'O']\n",
            "883\n",
            "Police have detained a nanny on suspicion of murder after she was found at a Moscow metro station holding the severed head of a child .\n",
            "['O', 'O', 'O', 'O', 'O', 'O', 'O', 'O', 'O', 'O', 'O', 'O', 'O', 'O', 'O', 'O', 'O', 'O', 'O', 'O', 'O', 'O', 'O', 'O', 'O', 'O', 'O', 'O']\n",
            "['O', 'O', 'O', 'O', 'O', 'O', 'O', 'O', 'B-evt090', 'O', 'O', 'O', 'O', 'O', 'O', 'O', 'O', 'O', 'O', 'O', 'O', 'O', 'O', 'O', 'O', 'O']\n",
            "912\n",
            "By denying the Russian surveillance flight access to airspace along the Turkey - Syria border , Moscow claims that Ankara has violated an international treaty known as Open Skies .\n",
            "['O', 'O', 'O', 'O', 'O', 'O', 'O', 'O', 'O', 'O', 'O', 'O', 'O', 'O', 'O', 'O', 'O', 'O', 'O', 'O', 'O', 'O', 'O', 'O', 'O', 'O', 'O', 'O', 'O', 'O', 'O', 'O']\n",
            "['O', 'O', 'O', 'O', 'B-evt070', 'O', 'O', 'O', 'O', 'O', 'O', 'O', 'O', 'O', 'O', 'O', 'O', 'O', 'O', 'O', 'O', 'O', 'O', 'O', 'O', 'O', 'O', 'O', 'O', 'O']\n",
            "940\n",
            "\" We do not agree with what Russia is doing , bombarding Aleppo .\n",
            "['O', 'O', 'O', 'O', 'O', 'O', 'O', 'O', 'O', 'O', 'O', 'O', 'B-evt011', 'B-evt011', 'O', 'O', 'O']\n",
            "['O', 'O', 'O', 'O', 'O', 'O', 'O', 'O', 'O', 'O', 'O', 'B-evt011', 'O', 'O']\n"
          ]
        }
      ],
      "source": [
        "def all_same(items):\n",
        "    return all(x == items[0] for x in items)\n",
        "\n",
        "for i in range(1000):\n",
        "  idx = i\n",
        "  c = dataset1[idx]['tokens']\n",
        "  b = dataset1[idx]['event_tags']\n",
        "  if all_same(b):\n",
        "    pass\n",
        "  else:\n",
        "    text = ' '.join(c)\n",
        "    print(i)\n",
        "    print(text)\n",
        "\n",
        "    inputs = tokenizer(text,return_tensors=\"pt\")\n",
        "    # inputs = tokenize_and_align_labels(dataset1[idx])\n",
        "    with torch.no_grad():\n",
        "        logits = model(**inputs).logits\n",
        "\n",
        "\n",
        "    predictions = torch.argmax(logits, dim=2)\n",
        "    predicted_token_class = [model.config.id2label[t.item()] for t in predictions[0]]\n",
        "    print(predicted_token_class)\n",
        "    print(b)"
      ]
    },
    {
      "cell_type": "code",
      "execution_count": null,
      "metadata": {
        "id": "hFe4JIPfoX-l"
      },
      "outputs": [],
      "source": []
    }
  ],
  "metadata": {
    "accelerator": "GPU",
    "colab": {
      "gpuType": "T4",
      "provenance": [],
      "mount_file_id": "1fl_x-2oeUg15lM26zhRRlp7GIQEDGkUW",
      "authorship_tag": "ABX9TyPK6xynykDg+VSPtCsNWKvE",
      "include_colab_link": true
    },
    "kernelspec": {
      "display_name": "Python 3",
      "name": "python3"
    },
    "language_info": {
      "name": "python"
    },
    "widgets": {
      "application/vnd.jupyter.widget-state+json": {
        "041a3280e4334c7eaef947b9d18ca1bf": {
          "model_module": "@jupyter-widgets/controls",
          "model_module_version": "1.5.0",
          "model_name": "DescriptionStyleModel",
          "state": {
            "_model_module": "@jupyter-widgets/controls",
            "_model_module_version": "1.5.0",
            "_model_name": "DescriptionStyleModel",
            "_view_count": null,
            "_view_module": "@jupyter-widgets/base",
            "_view_module_version": "1.2.0",
            "_view_name": "StyleView",
            "description_width": ""
          }
        },
        "0664aea56b0d441f9e7c20db4600524e": {
          "model_module": "@jupyter-widgets/controls",
          "model_module_version": "1.5.0",
          "model_name": "HTMLModel",
          "state": {
            "_dom_classes": [],
            "_model_module": "@jupyter-widgets/controls",
            "_model_module_version": "1.5.0",
            "_model_name": "HTMLModel",
            "_view_count": null,
            "_view_module": "@jupyter-widgets/controls",
            "_view_module_version": "1.5.0",
            "_view_name": "HTMLView",
            "description": "",
            "description_tooltip": null,
            "layout": "IPY_MODEL_8a9ecf563ad941dfaaeb7739a45df140",
            "placeholder": "​",
            "style": "IPY_MODEL_041a3280e4334c7eaef947b9d18ca1bf",
            "value": "Downloading builder script: 100%"
          }
        },
        "1f59613a75f74983a8533433220e2edf": {
          "model_module": "@jupyter-widgets/base",
          "model_module_version": "1.2.0",
          "model_name": "LayoutModel",
          "state": {
            "_model_module": "@jupyter-widgets/base",
            "_model_module_version": "1.2.0",
            "_model_name": "LayoutModel",
            "_view_count": null,
            "_view_module": "@jupyter-widgets/base",
            "_view_module_version": "1.2.0",
            "_view_name": "LayoutView",
            "align_content": null,
            "align_items": null,
            "align_self": null,
            "border": null,
            "bottom": null,
            "display": null,
            "flex": null,
            "flex_flow": null,
            "grid_area": null,
            "grid_auto_columns": null,
            "grid_auto_flow": null,
            "grid_auto_rows": null,
            "grid_column": null,
            "grid_gap": null,
            "grid_row": null,
            "grid_template_areas": null,
            "grid_template_columns": null,
            "grid_template_rows": null,
            "height": null,
            "justify_content": null,
            "justify_items": null,
            "left": null,
            "margin": null,
            "max_height": null,
            "max_width": null,
            "min_height": null,
            "min_width": null,
            "object_fit": null,
            "object_position": null,
            "order": null,
            "overflow": null,
            "overflow_x": null,
            "overflow_y": null,
            "padding": null,
            "right": null,
            "top": null,
            "visibility": null,
            "width": null
          }
        },
        "2ad68f185cc34337aa47ba098965aedb": {
          "model_module": "@jupyter-widgets/controls",
          "model_module_version": "1.5.0",
          "model_name": "HTMLModel",
          "state": {
            "_dom_classes": [],
            "_model_module": "@jupyter-widgets/controls",
            "_model_module_version": "1.5.0",
            "_model_name": "HTMLModel",
            "_view_count": null,
            "_view_module": "@jupyter-widgets/controls",
            "_view_module_version": "1.5.0",
            "_view_name": "HTMLView",
            "description": "",
            "description_tooltip": null,
            "layout": "IPY_MODEL_30e4006ea35945b798d4662559a250e0",
            "placeholder": "​",
            "style": "IPY_MODEL_66f016c36b9a42ca8e551997631e64e9",
            "value": " 6.34k/6.34k [00:00&lt;00:00, 241kB/s]"
          }
        },
        "30e4006ea35945b798d4662559a250e0": {
          "model_module": "@jupyter-widgets/base",
          "model_module_version": "1.2.0",
          "model_name": "LayoutModel",
          "state": {
            "_model_module": "@jupyter-widgets/base",
            "_model_module_version": "1.2.0",
            "_model_name": "LayoutModel",
            "_view_count": null,
            "_view_module": "@jupyter-widgets/base",
            "_view_module_version": "1.2.0",
            "_view_name": "LayoutView",
            "align_content": null,
            "align_items": null,
            "align_self": null,
            "border": null,
            "bottom": null,
            "display": null,
            "flex": null,
            "flex_flow": null,
            "grid_area": null,
            "grid_auto_columns": null,
            "grid_auto_flow": null,
            "grid_auto_rows": null,
            "grid_column": null,
            "grid_gap": null,
            "grid_row": null,
            "grid_template_areas": null,
            "grid_template_columns": null,
            "grid_template_rows": null,
            "height": null,
            "justify_content": null,
            "justify_items": null,
            "left": null,
            "margin": null,
            "max_height": null,
            "max_width": null,
            "min_height": null,
            "min_width": null,
            "object_fit": null,
            "object_position": null,
            "order": null,
            "overflow": null,
            "overflow_x": null,
            "overflow_y": null,
            "padding": null,
            "right": null,
            "top": null,
            "visibility": null,
            "width": null
          }
        },
        "4a299a718b144cca930ca5aab2f14aa2": {
          "model_module": "@jupyter-widgets/controls",
          "model_module_version": "1.5.0",
          "model_name": "HBoxModel",
          "state": {
            "_dom_classes": [],
            "_model_module": "@jupyter-widgets/controls",
            "_model_module_version": "1.5.0",
            "_model_name": "HBoxModel",
            "_view_count": null,
            "_view_module": "@jupyter-widgets/controls",
            "_view_module_version": "1.5.0",
            "_view_name": "HBoxView",
            "box_style": "",
            "children": [
              "IPY_MODEL_0664aea56b0d441f9e7c20db4600524e",
              "IPY_MODEL_aa7baf2f2df54641aae46744748d6fe2",
              "IPY_MODEL_2ad68f185cc34337aa47ba098965aedb"
            ],
            "layout": "IPY_MODEL_4ff23dd400c5432eacdbafb4ae1ba23a"
          }
        },
        "4ff23dd400c5432eacdbafb4ae1ba23a": {
          "model_module": "@jupyter-widgets/base",
          "model_module_version": "1.2.0",
          "model_name": "LayoutModel",
          "state": {
            "_model_module": "@jupyter-widgets/base",
            "_model_module_version": "1.2.0",
            "_model_name": "LayoutModel",
            "_view_count": null,
            "_view_module": "@jupyter-widgets/base",
            "_view_module_version": "1.2.0",
            "_view_name": "LayoutView",
            "align_content": null,
            "align_items": null,
            "align_self": null,
            "border": null,
            "bottom": null,
            "display": null,
            "flex": null,
            "flex_flow": null,
            "grid_area": null,
            "grid_auto_columns": null,
            "grid_auto_flow": null,
            "grid_auto_rows": null,
            "grid_column": null,
            "grid_gap": null,
            "grid_row": null,
            "grid_template_areas": null,
            "grid_template_columns": null,
            "grid_template_rows": null,
            "height": null,
            "justify_content": null,
            "justify_items": null,
            "left": null,
            "margin": null,
            "max_height": null,
            "max_width": null,
            "min_height": null,
            "min_width": null,
            "object_fit": null,
            "object_position": null,
            "order": null,
            "overflow": null,
            "overflow_x": null,
            "overflow_y": null,
            "padding": null,
            "right": null,
            "top": null,
            "visibility": null,
            "width": null
          }
        },
        "66f016c36b9a42ca8e551997631e64e9": {
          "model_module": "@jupyter-widgets/controls",
          "model_module_version": "1.5.0",
          "model_name": "DescriptionStyleModel",
          "state": {
            "_model_module": "@jupyter-widgets/controls",
            "_model_module_version": "1.5.0",
            "_model_name": "DescriptionStyleModel",
            "_view_count": null,
            "_view_module": "@jupyter-widgets/base",
            "_view_module_version": "1.2.0",
            "_view_name": "StyleView",
            "description_width": ""
          }
        },
        "8a9ecf563ad941dfaaeb7739a45df140": {
          "model_module": "@jupyter-widgets/base",
          "model_module_version": "1.2.0",
          "model_name": "LayoutModel",
          "state": {
            "_model_module": "@jupyter-widgets/base",
            "_model_module_version": "1.2.0",
            "_model_name": "LayoutModel",
            "_view_count": null,
            "_view_module": "@jupyter-widgets/base",
            "_view_module_version": "1.2.0",
            "_view_name": "LayoutView",
            "align_content": null,
            "align_items": null,
            "align_self": null,
            "border": null,
            "bottom": null,
            "display": null,
            "flex": null,
            "flex_flow": null,
            "grid_area": null,
            "grid_auto_columns": null,
            "grid_auto_flow": null,
            "grid_auto_rows": null,
            "grid_column": null,
            "grid_gap": null,
            "grid_row": null,
            "grid_template_areas": null,
            "grid_template_columns": null,
            "grid_template_rows": null,
            "height": null,
            "justify_content": null,
            "justify_items": null,
            "left": null,
            "margin": null,
            "max_height": null,
            "max_width": null,
            "min_height": null,
            "min_width": null,
            "object_fit": null,
            "object_position": null,
            "order": null,
            "overflow": null,
            "overflow_x": null,
            "overflow_y": null,
            "padding": null,
            "right": null,
            "top": null,
            "visibility": null,
            "width": null
          }
        },
        "aa7baf2f2df54641aae46744748d6fe2": {
          "model_module": "@jupyter-widgets/controls",
          "model_module_version": "1.5.0",
          "model_name": "FloatProgressModel",
          "state": {
            "_dom_classes": [],
            "_model_module": "@jupyter-widgets/controls",
            "_model_module_version": "1.5.0",
            "_model_name": "FloatProgressModel",
            "_view_count": null,
            "_view_module": "@jupyter-widgets/controls",
            "_view_module_version": "1.5.0",
            "_view_name": "ProgressView",
            "bar_style": "success",
            "description": "",
            "description_tooltip": null,
            "layout": "IPY_MODEL_1f59613a75f74983a8533433220e2edf",
            "max": 6338,
            "min": 0,
            "orientation": "horizontal",
            "style": "IPY_MODEL_f472584c327948eeb87ce932ad108d21",
            "value": 6338
          }
        },
        "f472584c327948eeb87ce932ad108d21": {
          "model_module": "@jupyter-widgets/controls",
          "model_module_version": "1.5.0",
          "model_name": "ProgressStyleModel",
          "state": {
            "_model_module": "@jupyter-widgets/controls",
            "_model_module_version": "1.5.0",
            "_model_name": "ProgressStyleModel",
            "_view_count": null,
            "_view_module": "@jupyter-widgets/base",
            "_view_module_version": "1.2.0",
            "_view_name": "StyleView",
            "bar_color": null,
            "description_width": ""
          }
        }
      }
    }
  },
  "nbformat": 4,
  "nbformat_minor": 0
}