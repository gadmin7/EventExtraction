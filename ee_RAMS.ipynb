{
  "cells": [
    {
      "cell_type": "markdown",
      "metadata": {
        "id": "view-in-github",
        "colab_type": "text"
      },
      "source": [
        "<a href=\"https://colab.research.google.com/github/gadmin7/EventExtraction/blob/main/ee_RAMS.ipynb\" target=\"_parent\"><img src=\"https://colab.research.google.com/assets/colab-badge.svg\" alt=\"Open In Colab\"/></a>"
      ]
    },
    {
      "cell_type": "code",
      "execution_count": null,
      "metadata": {
        "colab": {
          "base_uri": "https://localhost:8080/"
        },
        "id": "QN4gFAoLn-sG",
        "outputId": "7a0c5f9e-7dfc-4108-f96c-5dd946f2945b"
      },
      "outputs": [
        {
          "name": "stdout",
          "output_type": "stream",
          "text": [
            "\u001b[2K     \u001b[90m━━━━━━━━━━━━━━━━━━━━━━━━━━━━━━━━━━━━━━━━\u001b[0m \u001b[32m84.1/84.1 kB\u001b[0m \u001b[31m1.5 MB/s\u001b[0m eta \u001b[36m0:00:00\u001b[0m\n",
            "\u001b[2K     \u001b[90m━━━━━━━━━━━━━━━━━━━━━━━━━━━━━━━━━━━━━━━━\u001b[0m \u001b[32m542.0/542.0 kB\u001b[0m \u001b[31m11.7 MB/s\u001b[0m eta \u001b[36m0:00:00\u001b[0m\n",
            "\u001b[2K     \u001b[90m━━━━━━━━━━━━━━━━━━━━━━━━━━━━━━━━━━━━━━━━\u001b[0m \u001b[32m116.3/116.3 kB\u001b[0m \u001b[31m11.9 MB/s\u001b[0m eta \u001b[36m0:00:00\u001b[0m\n",
            "\u001b[2K     \u001b[90m━━━━━━━━━━━━━━━━━━━━━━━━━━━━━━━━━━━━━━━━\u001b[0m \u001b[32m194.1/194.1 kB\u001b[0m \u001b[31m18.4 MB/s\u001b[0m eta \u001b[36m0:00:00\u001b[0m\n",
            "\u001b[2K     \u001b[90m━━━━━━━━━━━━━━━━━━━━━━━━━━━━━━━━━━━━━━━━\u001b[0m \u001b[32m134.8/134.8 kB\u001b[0m \u001b[31m12.8 MB/s\u001b[0m eta \u001b[36m0:00:00\u001b[0m\n",
            "\u001b[2K     \u001b[90m━━━━━━━━━━━━━━━━━━━━━━━━━━━━━━━━━━━━━━━━\u001b[0m \u001b[32m401.2/401.2 kB\u001b[0m \u001b[31m25.4 MB/s\u001b[0m eta \u001b[36m0:00:00\u001b[0m\n",
            "\u001b[2K     \u001b[90m━━━━━━━━━━━━━━━━━━━━━━━━━━━━━━━━━━━━━━━━\u001b[0m \u001b[32m43.6/43.6 kB\u001b[0m \u001b[31m689.1 kB/s\u001b[0m eta \u001b[36m0:00:00\u001b[0m\n",
            "\u001b[?25h  Preparing metadata (setup.py) ... \u001b[?25l\u001b[?25hdone\n",
            "  Building wheel for seqeval (setup.py) ... \u001b[?25l\u001b[?25hdone\n"
          ]
        }
      ],
      "source": [
        "!pip install -q evaluate\n",
        "!pip install -q seqeval"
      ]
    },
    {
      "cell_type": "code",
      "execution_count": null,
      "metadata": {
        "colab": {
          "background_save": true
        },
        "id": "KAC2M2ZKpjp1"
      },
      "outputs": [],
      "source": [
        "import json\n",
        "import evaluate\n",
        "import pandas as pd\n",
        "import numpy as np\n",
        "from sklearn.preprocessing import LabelEncoder\n",
        "from datasets import Dataset, DatasetDict, ClassLabel,Features\n",
        "import datasets\n",
        "import torch\n",
        "from transformers import AutoTokenizer\n",
        "from transformers import DataCollatorForTokenClassification\n",
        "from transformers import AutoModelForTokenClassification, TrainingArguments, Trainer"
      ]
    },
    {
      "cell_type": "code",
      "execution_count": null,
      "metadata": {
        "colab": {
          "background_save": true
        },
        "id": "lqL2Q4Zx-1f8"
      },
      "outputs": [],
      "source": [
        "device = torch.device(\"cuda\" if torch.cuda.is_available() else \"cpu\")"
      ]
    },
    {
      "cell_type": "code",
      "execution_count": null,
      "metadata": {
        "colab": {
          "background_save": true
        },
        "id": "ZV6r2iB4oJDK"
      },
      "outputs": [],
      "source": [
        "data = []\n",
        "with open(r\"/content/drive/MyDrive/NLP_event_extraction/train.jsonlines\",encoding='utf-8') as f:\n",
        "    for line in f:\n",
        "        data.append(json.loads(line))"
      ]
    },
    {
      "cell_type": "code",
      "execution_count": null,
      "metadata": {
        "colab": {
          "background_save": true
        },
        "id": "MrPpr5vzW3fI"
      },
      "outputs": [],
      "source": [
        "data_test = []\n",
        "with open(r\"/content/drive/MyDrive/NLP_event_extraction/dev.jsonlines\",encoding='utf-8') as f:\n",
        "    for line in f:\n",
        "        data_test.append(json.loads(line))"
      ]
    },
    {
      "cell_type": "code",
      "execution_count": null,
      "metadata": {
        "colab": {
          "background_save": true,
          "base_uri": "https://localhost:8080/",
          "height": 271
        },
        "id": "w9wJPHsHXPr1",
        "outputId": "cfcc802d-558d-4559-8be2-061c0da51b74"
      },
      "outputs": [
        {
          "data": {
            "application/vnd.google.colaboratory.intrinsic+json": {
              "summary": "{\n  \"name\": \"df1\",\n  \"rows\": 924,\n  \"fields\": [\n    {\n      \"column\": \"rel_triggers\",\n      \"properties\": {\n        \"dtype\": \"object\",\n        \"semantic_type\": \"\",\n        \"description\": \"\"\n      }\n    },\n    {\n      \"column\": \"gold_rel_links\",\n      \"properties\": {\n        \"dtype\": \"object\",\n        \"semantic_type\": \"\",\n        \"description\": \"\"\n      }\n    },\n    {\n      \"column\": \"doc_key\",\n      \"properties\": {\n        \"dtype\": \"string\",\n        \"num_unique_values\": 924,\n        \"samples\": [\n          \"nw_RC579198be5b8132b10accdafecb84b9c85aa0211d035bf9ea7baf8430\",\n          \"nw_RCef10f9f1b095e68c10e2856e62560311223d60d3b42ef560894d86f6\",\n          \"nw_RC0822ba71f1508f1a7df6646c6b8fbf62da95475b3f898846112caa0e\"\n        ],\n        \"semantic_type\": \"\",\n        \"description\": \"\"\n      }\n    },\n    {\n      \"column\": \"ent_spans\",\n      \"properties\": {\n        \"dtype\": \"object\",\n        \"semantic_type\": \"\",\n        \"description\": \"\"\n      }\n    },\n    {\n      \"column\": \"language_id\",\n      \"properties\": {\n        \"dtype\": \"category\",\n        \"num_unique_values\": 1,\n        \"samples\": [\n          \"eng\"\n        ],\n        \"semantic_type\": \"\",\n        \"description\": \"\"\n      }\n    },\n    {\n      \"column\": \"source_url\",\n      \"properties\": {\n        \"dtype\": \"category\",\n        \"num_unique_values\": 399,\n        \"samples\": [\n          \"https://www.peoplespunditdaily.com/policy/2016/10/29/hillary-clintons-38-year-history-sleaze-corruption/\"\n        ],\n        \"semantic_type\": \"\",\n        \"description\": \"\"\n      }\n    },\n    {\n      \"column\": \"evt_triggers\",\n      \"properties\": {\n        \"dtype\": \"object\",\n        \"semantic_type\": \"\",\n        \"description\": \"\"\n      }\n    },\n    {\n      \"column\": \"split\",\n      \"properties\": {\n        \"dtype\": \"category\",\n        \"num_unique_values\": 1,\n        \"samples\": [\n          \"dev\"\n        ],\n        \"semantic_type\": \"\",\n        \"description\": \"\"\n      }\n    },\n    {\n      \"column\": \"sentences\",\n      \"properties\": {\n        \"dtype\": \"object\",\n        \"semantic_type\": \"\",\n        \"description\": \"\"\n      }\n    },\n    {\n      \"column\": \"gold_evt_links\",\n      \"properties\": {\n        \"dtype\": \"object\",\n        \"semantic_type\": \"\",\n        \"description\": \"\"\n      }\n    }\n  ]\n}",
              "type": "dataframe",
              "variable_name": "df1"
            },
            "text/html": [
              "\n",
              "  <div id=\"df-f6d0b750-15f9-4273-900d-36ad3ef19465\" class=\"colab-df-container\">\n",
              "    <div>\n",
              "<style scoped>\n",
              "    .dataframe tbody tr th:only-of-type {\n",
              "        vertical-align: middle;\n",
              "    }\n",
              "\n",
              "    .dataframe tbody tr th {\n",
              "        vertical-align: top;\n",
              "    }\n",
              "\n",
              "    .dataframe thead th {\n",
              "        text-align: right;\n",
              "    }\n",
              "</style>\n",
              "<table border=\"1\" class=\"dataframe\">\n",
              "  <thead>\n",
              "    <tr style=\"text-align: right;\">\n",
              "      <th></th>\n",
              "      <th>rel_triggers</th>\n",
              "      <th>gold_rel_links</th>\n",
              "      <th>doc_key</th>\n",
              "      <th>ent_spans</th>\n",
              "      <th>language_id</th>\n",
              "      <th>source_url</th>\n",
              "      <th>evt_triggers</th>\n",
              "      <th>split</th>\n",
              "      <th>sentences</th>\n",
              "      <th>gold_evt_links</th>\n",
              "    </tr>\n",
              "  </thead>\n",
              "  <tbody>\n",
              "    <tr>\n",
              "      <th>0</th>\n",
              "      <td>[]</td>\n",
              "      <td>[]</td>\n",
              "      <td>nw_RC00e90a0209cf7c63e3faf5008f034002ef61cea93...</td>\n",
              "      <td>[[28, 28, [['evt089arg02place', 1.0]]], [33, 3...</td>\n",
              "      <td>eng</td>\n",
              "      <td>http://www.huffingtonpost.com/james-waters/nav...</td>\n",
              "      <td>[[40, 40, [['life.die.n/a', 1.0]]]]</td>\n",
              "      <td>dev</td>\n",
              "      <td>[[Three, specific, points, illustrate, why, Am...</td>\n",
              "      <td>[[[40, 40], [33, 33], evt089arg01victim], [[40...</td>\n",
              "    </tr>\n",
              "    <tr>\n",
              "      <th>1</th>\n",
              "      <td>[]</td>\n",
              "      <td>[]</td>\n",
              "      <td>nw_RC010f29c9438b939daa050b70d8127eb5b2b3cb927...</td>\n",
              "      <td>[[64, 64, [['evt011arg02target', 1.0]]], [72, ...</td>\n",
              "      <td>eng</td>\n",
              "      <td>http://edition.cnn.com/2016/06/12/world/euro-2...</td>\n",
              "      <td>[[65, 65, [['conflict.attack.selfdirectedbattl...</td>\n",
              "      <td>dev</td>\n",
              "      <td>[[The, fixture, ,, anticipated, by, fans, as, ...</td>\n",
              "      <td>[[[65, 65], [64, 64], evt011arg01attacker], [[...</td>\n",
              "    </tr>\n",
              "  </tbody>\n",
              "</table>\n",
              "</div>\n",
              "    <div class=\"colab-df-buttons\">\n",
              "\n",
              "  <div class=\"colab-df-container\">\n",
              "    <button class=\"colab-df-convert\" onclick=\"convertToInteractive('df-f6d0b750-15f9-4273-900d-36ad3ef19465')\"\n",
              "            title=\"Convert this dataframe to an interactive table.\"\n",
              "            style=\"display:none;\">\n",
              "\n",
              "  <svg xmlns=\"http://www.w3.org/2000/svg\" height=\"24px\" viewBox=\"0 -960 960 960\">\n",
              "    <path d=\"M120-120v-720h720v720H120Zm60-500h600v-160H180v160Zm220 220h160v-160H400v160Zm0 220h160v-160H400v160ZM180-400h160v-160H180v160Zm440 0h160v-160H620v160ZM180-180h160v-160H180v160Zm440 0h160v-160H620v160Z\"/>\n",
              "  </svg>\n",
              "    </button>\n",
              "\n",
              "  <style>\n",
              "    .colab-df-container {\n",
              "      display:flex;\n",
              "      gap: 12px;\n",
              "    }\n",
              "\n",
              "    .colab-df-convert {\n",
              "      background-color: #E8F0FE;\n",
              "      border: none;\n",
              "      border-radius: 50%;\n",
              "      cursor: pointer;\n",
              "      display: none;\n",
              "      fill: #1967D2;\n",
              "      height: 32px;\n",
              "      padding: 0 0 0 0;\n",
              "      width: 32px;\n",
              "    }\n",
              "\n",
              "    .colab-df-convert:hover {\n",
              "      background-color: #E2EBFA;\n",
              "      box-shadow: 0px 1px 2px rgba(60, 64, 67, 0.3), 0px 1px 3px 1px rgba(60, 64, 67, 0.15);\n",
              "      fill: #174EA6;\n",
              "    }\n",
              "\n",
              "    .colab-df-buttons div {\n",
              "      margin-bottom: 4px;\n",
              "    }\n",
              "\n",
              "    [theme=dark] .colab-df-convert {\n",
              "      background-color: #3B4455;\n",
              "      fill: #D2E3FC;\n",
              "    }\n",
              "\n",
              "    [theme=dark] .colab-df-convert:hover {\n",
              "      background-color: #434B5C;\n",
              "      box-shadow: 0px 1px 3px 1px rgba(0, 0, 0, 0.15);\n",
              "      filter: drop-shadow(0px 1px 2px rgba(0, 0, 0, 0.3));\n",
              "      fill: #FFFFFF;\n",
              "    }\n",
              "  </style>\n",
              "\n",
              "    <script>\n",
              "      const buttonEl =\n",
              "        document.querySelector('#df-f6d0b750-15f9-4273-900d-36ad3ef19465 button.colab-df-convert');\n",
              "      buttonEl.style.display =\n",
              "        google.colab.kernel.accessAllowed ? 'block' : 'none';\n",
              "\n",
              "      async function convertToInteractive(key) {\n",
              "        const element = document.querySelector('#df-f6d0b750-15f9-4273-900d-36ad3ef19465');\n",
              "        const dataTable =\n",
              "          await google.colab.kernel.invokeFunction('convertToInteractive',\n",
              "                                                    [key], {});\n",
              "        if (!dataTable) return;\n",
              "\n",
              "        const docLinkHtml = 'Like what you see? Visit the ' +\n",
              "          '<a target=\"_blank\" href=https://colab.research.google.com/notebooks/data_table.ipynb>data table notebook</a>'\n",
              "          + ' to learn more about interactive tables.';\n",
              "        element.innerHTML = '';\n",
              "        dataTable['output_type'] = 'display_data';\n",
              "        await google.colab.output.renderOutput(dataTable, element);\n",
              "        const docLink = document.createElement('div');\n",
              "        docLink.innerHTML = docLinkHtml;\n",
              "        element.appendChild(docLink);\n",
              "      }\n",
              "    </script>\n",
              "  </div>\n",
              "\n",
              "\n",
              "<div id=\"df-902734ff-b89d-49e4-b20e-49cfc59b9c20\">\n",
              "  <button class=\"colab-df-quickchart\" onclick=\"quickchart('df-902734ff-b89d-49e4-b20e-49cfc59b9c20')\"\n",
              "            title=\"Suggest charts\"\n",
              "            style=\"display:none;\">\n",
              "\n",
              "<svg xmlns=\"http://www.w3.org/2000/svg\" height=\"24px\"viewBox=\"0 0 24 24\"\n",
              "     width=\"24px\">\n",
              "    <g>\n",
              "        <path d=\"M19 3H5c-1.1 0-2 .9-2 2v14c0 1.1.9 2 2 2h14c1.1 0 2-.9 2-2V5c0-1.1-.9-2-2-2zM9 17H7v-7h2v7zm4 0h-2V7h2v10zm4 0h-2v-4h2v4z\"/>\n",
              "    </g>\n",
              "</svg>\n",
              "  </button>\n",
              "\n",
              "<style>\n",
              "  .colab-df-quickchart {\n",
              "      --bg-color: #E8F0FE;\n",
              "      --fill-color: #1967D2;\n",
              "      --hover-bg-color: #E2EBFA;\n",
              "      --hover-fill-color: #174EA6;\n",
              "      --disabled-fill-color: #AAA;\n",
              "      --disabled-bg-color: #DDD;\n",
              "  }\n",
              "\n",
              "  [theme=dark] .colab-df-quickchart {\n",
              "      --bg-color: #3B4455;\n",
              "      --fill-color: #D2E3FC;\n",
              "      --hover-bg-color: #434B5C;\n",
              "      --hover-fill-color: #FFFFFF;\n",
              "      --disabled-bg-color: #3B4455;\n",
              "      --disabled-fill-color: #666;\n",
              "  }\n",
              "\n",
              "  .colab-df-quickchart {\n",
              "    background-color: var(--bg-color);\n",
              "    border: none;\n",
              "    border-radius: 50%;\n",
              "    cursor: pointer;\n",
              "    display: none;\n",
              "    fill: var(--fill-color);\n",
              "    height: 32px;\n",
              "    padding: 0;\n",
              "    width: 32px;\n",
              "  }\n",
              "\n",
              "  .colab-df-quickchart:hover {\n",
              "    background-color: var(--hover-bg-color);\n",
              "    box-shadow: 0 1px 2px rgba(60, 64, 67, 0.3), 0 1px 3px 1px rgba(60, 64, 67, 0.15);\n",
              "    fill: var(--button-hover-fill-color);\n",
              "  }\n",
              "\n",
              "  .colab-df-quickchart-complete:disabled,\n",
              "  .colab-df-quickchart-complete:disabled:hover {\n",
              "    background-color: var(--disabled-bg-color);\n",
              "    fill: var(--disabled-fill-color);\n",
              "    box-shadow: none;\n",
              "  }\n",
              "\n",
              "  .colab-df-spinner {\n",
              "    border: 2px solid var(--fill-color);\n",
              "    border-color: transparent;\n",
              "    border-bottom-color: var(--fill-color);\n",
              "    animation:\n",
              "      spin 1s steps(1) infinite;\n",
              "  }\n",
              "\n",
              "  @keyframes spin {\n",
              "    0% {\n",
              "      border-color: transparent;\n",
              "      border-bottom-color: var(--fill-color);\n",
              "      border-left-color: var(--fill-color);\n",
              "    }\n",
              "    20% {\n",
              "      border-color: transparent;\n",
              "      border-left-color: var(--fill-color);\n",
              "      border-top-color: var(--fill-color);\n",
              "    }\n",
              "    30% {\n",
              "      border-color: transparent;\n",
              "      border-left-color: var(--fill-color);\n",
              "      border-top-color: var(--fill-color);\n",
              "      border-right-color: var(--fill-color);\n",
              "    }\n",
              "    40% {\n",
              "      border-color: transparent;\n",
              "      border-right-color: var(--fill-color);\n",
              "      border-top-color: var(--fill-color);\n",
              "    }\n",
              "    60% {\n",
              "      border-color: transparent;\n",
              "      border-right-color: var(--fill-color);\n",
              "    }\n",
              "    80% {\n",
              "      border-color: transparent;\n",
              "      border-right-color: var(--fill-color);\n",
              "      border-bottom-color: var(--fill-color);\n",
              "    }\n",
              "    90% {\n",
              "      border-color: transparent;\n",
              "      border-bottom-color: var(--fill-color);\n",
              "    }\n",
              "  }\n",
              "</style>\n",
              "\n",
              "  <script>\n",
              "    async function quickchart(key) {\n",
              "      const quickchartButtonEl =\n",
              "        document.querySelector('#' + key + ' button');\n",
              "      quickchartButtonEl.disabled = true;  // To prevent multiple clicks.\n",
              "      quickchartButtonEl.classList.add('colab-df-spinner');\n",
              "      try {\n",
              "        const charts = await google.colab.kernel.invokeFunction(\n",
              "            'suggestCharts', [key], {});\n",
              "      } catch (error) {\n",
              "        console.error('Error during call to suggestCharts:', error);\n",
              "      }\n",
              "      quickchartButtonEl.classList.remove('colab-df-spinner');\n",
              "      quickchartButtonEl.classList.add('colab-df-quickchart-complete');\n",
              "    }\n",
              "    (() => {\n",
              "      let quickchartButtonEl =\n",
              "        document.querySelector('#df-902734ff-b89d-49e4-b20e-49cfc59b9c20 button');\n",
              "      quickchartButtonEl.style.display =\n",
              "        google.colab.kernel.accessAllowed ? 'block' : 'none';\n",
              "    })();\n",
              "  </script>\n",
              "</div>\n",
              "\n",
              "    </div>\n",
              "  </div>\n"
            ],
            "text/plain": [
              "  rel_triggers gold_rel_links  \\\n",
              "0           []             []   \n",
              "1           []             []   \n",
              "\n",
              "                                             doc_key  \\\n",
              "0  nw_RC00e90a0209cf7c63e3faf5008f034002ef61cea93...   \n",
              "1  nw_RC010f29c9438b939daa050b70d8127eb5b2b3cb927...   \n",
              "\n",
              "                                           ent_spans language_id  \\\n",
              "0  [[28, 28, [['evt089arg02place', 1.0]]], [33, 3...         eng   \n",
              "1  [[64, 64, [['evt011arg02target', 1.0]]], [72, ...         eng   \n",
              "\n",
              "                                          source_url  \\\n",
              "0  http://www.huffingtonpost.com/james-waters/nav...   \n",
              "1  http://edition.cnn.com/2016/06/12/world/euro-2...   \n",
              "\n",
              "                                        evt_triggers split  \\\n",
              "0                [[40, 40, [['life.die.n/a', 1.0]]]]   dev   \n",
              "1  [[65, 65, [['conflict.attack.selfdirectedbattl...   dev   \n",
              "\n",
              "                                           sentences  \\\n",
              "0  [[Three, specific, points, illustrate, why, Am...   \n",
              "1  [[The, fixture, ,, anticipated, by, fans, as, ...   \n",
              "\n",
              "                                      gold_evt_links  \n",
              "0  [[[40, 40], [33, 33], evt089arg01victim], [[40...  \n",
              "1  [[[65, 65], [64, 64], evt011arg01attacker], [[...  "
            ]
          },
          "execution_count": 6,
          "metadata": {},
          "output_type": "execute_result"
        }
      ],
      "source": [
        "df1 = pd.DataFrame(data_test)\n",
        "df1.head(2)"
      ]
    },
    {
      "cell_type": "code",
      "execution_count": null,
      "metadata": {
        "colab": {
          "background_save": true,
          "base_uri": "https://localhost:8080/",
          "height": 219
        },
        "id": "ABqL5Y2VoLIs",
        "outputId": "2d9531d0-9308-41d7-d22f-e05668b5bbf7"
      },
      "outputs": [
        {
          "data": {
            "application/vnd.google.colaboratory.intrinsic+json": {
              "summary": "{\n  \"name\": \"df\",\n  \"rows\": 7329,\n  \"fields\": [\n    {\n      \"column\": \"rel_triggers\",\n      \"properties\": {\n        \"dtype\": \"object\",\n        \"semantic_type\": \"\",\n        \"description\": \"\"\n      }\n    },\n    {\n      \"column\": \"gold_rel_links\",\n      \"properties\": {\n        \"dtype\": \"object\",\n        \"semantic_type\": \"\",\n        \"description\": \"\"\n      }\n    },\n    {\n      \"column\": \"doc_key\",\n      \"properties\": {\n        \"dtype\": \"string\",\n        \"num_unique_values\": 7329,\n        \"samples\": [\n          \"nw_RC5b976784c1bf25d9c4ed0168acaa8e39a1b4b8869c7b191475a08cf8\",\n          \"nw_RC374996b597dd37699935f3cac64d611fd44ca130cb633151184eac5a\",\n          \"nw_RC1e0c6d82cab9d99b5863711934de87e0ff6a4e84dcf79e5819553b5e\"\n        ],\n        \"semantic_type\": \"\",\n        \"description\": \"\"\n      }\n    },\n    {\n      \"column\": \"ent_spans\",\n      \"properties\": {\n        \"dtype\": \"object\",\n        \"semantic_type\": \"\",\n        \"description\": \"\"\n      }\n    },\n    {\n      \"column\": \"language_id\",\n      \"properties\": {\n        \"dtype\": \"category\",\n        \"num_unique_values\": 1,\n        \"samples\": [\n          \"eng\"\n        ],\n        \"semantic_type\": \"\",\n        \"description\": \"\"\n      }\n    },\n    {\n      \"column\": \"source_url\",\n      \"properties\": {\n        \"dtype\": \"category\",\n        \"num_unique_values\": 3194,\n        \"samples\": [\n          \"http://mobile.nytimes.com/2016/10/21/us/hillary-clinton-david-sanger-putin-russia.html?_r=0&amp;referer=\"\n        ],\n        \"semantic_type\": \"\",\n        \"description\": \"\"\n      }\n    },\n    {\n      \"column\": \"evt_triggers\",\n      \"properties\": {\n        \"dtype\": \"object\",\n        \"semantic_type\": \"\",\n        \"description\": \"\"\n      }\n    },\n    {\n      \"column\": \"split\",\n      \"properties\": {\n        \"dtype\": \"category\",\n        \"num_unique_values\": 1,\n        \"samples\": [\n          \"train\"\n        ],\n        \"semantic_type\": \"\",\n        \"description\": \"\"\n      }\n    },\n    {\n      \"column\": \"sentences\",\n      \"properties\": {\n        \"dtype\": \"object\",\n        \"semantic_type\": \"\",\n        \"description\": \"\"\n      }\n    },\n    {\n      \"column\": \"gold_evt_links\",\n      \"properties\": {\n        \"dtype\": \"object\",\n        \"semantic_type\": \"\",\n        \"description\": \"\"\n      }\n    }\n  ]\n}",
              "type": "dataframe",
              "variable_name": "df"
            },
            "text/html": [
              "\n",
              "  <div id=\"df-690ff156-4dc9-4243-b7da-9d2e0067a537\" class=\"colab-df-container\">\n",
              "    <div>\n",
              "<style scoped>\n",
              "    .dataframe tbody tr th:only-of-type {\n",
              "        vertical-align: middle;\n",
              "    }\n",
              "\n",
              "    .dataframe tbody tr th {\n",
              "        vertical-align: top;\n",
              "    }\n",
              "\n",
              "    .dataframe thead th {\n",
              "        text-align: right;\n",
              "    }\n",
              "</style>\n",
              "<table border=\"1\" class=\"dataframe\">\n",
              "  <thead>\n",
              "    <tr style=\"text-align: right;\">\n",
              "      <th></th>\n",
              "      <th>rel_triggers</th>\n",
              "      <th>gold_rel_links</th>\n",
              "      <th>doc_key</th>\n",
              "      <th>ent_spans</th>\n",
              "      <th>language_id</th>\n",
              "      <th>source_url</th>\n",
              "      <th>evt_triggers</th>\n",
              "      <th>split</th>\n",
              "      <th>sentences</th>\n",
              "      <th>gold_evt_links</th>\n",
              "    </tr>\n",
              "  </thead>\n",
              "  <tbody>\n",
              "    <tr>\n",
              "      <th>0</th>\n",
              "      <td>[]</td>\n",
              "      <td>[]</td>\n",
              "      <td>nw_RC000462ebb18ca0b29222d5e557fa31072af8337e3...</td>\n",
              "      <td>[[42, 43, [['evt090arg02victim', 1.0]]], [85, ...</td>\n",
              "      <td>eng</td>\n",
              "      <td>https://www.washingtonpost.com/news/powerpost/...</td>\n",
              "      <td>[[69, 69, [['life.die.deathcausedbyviolenteven...</td>\n",
              "      <td>train</td>\n",
              "      <td>[[Transportation, officials, are, urging, carp...</td>\n",
              "      <td>[[[69, 69], [85, 88], evt090arg01killer], [[69...</td>\n",
              "    </tr>\n",
              "    <tr>\n",
              "      <th>1</th>\n",
              "      <td>[]</td>\n",
              "      <td>[]</td>\n",
              "      <td>nw_RC0006850e77f498cb669777ce71e4ebfc471911174...</td>\n",
              "      <td>[[83, 85, [['evt105arg05origin', 1.0]]], [26, ...</td>\n",
              "      <td>eng</td>\n",
              "      <td>http://www.expressen.se/nyheter/womens-secret-...</td>\n",
              "      <td>[[51, 51, [['movement.transportartifact.hide',...</td>\n",
              "      <td>train</td>\n",
              "      <td>[[2014, :, ISIS, marches, into, Raqqa, and, ma...</td>\n",
              "      <td>[[[51, 51], [26, 30], evt105arg01transporter],...</td>\n",
              "    </tr>\n",
              "  </tbody>\n",
              "</table>\n",
              "</div>\n",
              "    <div class=\"colab-df-buttons\">\n",
              "\n",
              "  <div class=\"colab-df-container\">\n",
              "    <button class=\"colab-df-convert\" onclick=\"convertToInteractive('df-690ff156-4dc9-4243-b7da-9d2e0067a537')\"\n",
              "            title=\"Convert this dataframe to an interactive table.\"\n",
              "            style=\"display:none;\">\n",
              "\n",
              "  <svg xmlns=\"http://www.w3.org/2000/svg\" height=\"24px\" viewBox=\"0 -960 960 960\">\n",
              "    <path d=\"M120-120v-720h720v720H120Zm60-500h600v-160H180v160Zm220 220h160v-160H400v160Zm0 220h160v-160H400v160ZM180-400h160v-160H180v160Zm440 0h160v-160H620v160ZM180-180h160v-160H180v160Zm440 0h160v-160H620v160Z\"/>\n",
              "  </svg>\n",
              "    </button>\n",
              "\n",
              "  <style>\n",
              "    .colab-df-container {\n",
              "      display:flex;\n",
              "      gap: 12px;\n",
              "    }\n",
              "\n",
              "    .colab-df-convert {\n",
              "      background-color: #E8F0FE;\n",
              "      border: none;\n",
              "      border-radius: 50%;\n",
              "      cursor: pointer;\n",
              "      display: none;\n",
              "      fill: #1967D2;\n",
              "      height: 32px;\n",
              "      padding: 0 0 0 0;\n",
              "      width: 32px;\n",
              "    }\n",
              "\n",
              "    .colab-df-convert:hover {\n",
              "      background-color: #E2EBFA;\n",
              "      box-shadow: 0px 1px 2px rgba(60, 64, 67, 0.3), 0px 1px 3px 1px rgba(60, 64, 67, 0.15);\n",
              "      fill: #174EA6;\n",
              "    }\n",
              "\n",
              "    .colab-df-buttons div {\n",
              "      margin-bottom: 4px;\n",
              "    }\n",
              "\n",
              "    [theme=dark] .colab-df-convert {\n",
              "      background-color: #3B4455;\n",
              "      fill: #D2E3FC;\n",
              "    }\n",
              "\n",
              "    [theme=dark] .colab-df-convert:hover {\n",
              "      background-color: #434B5C;\n",
              "      box-shadow: 0px 1px 3px 1px rgba(0, 0, 0, 0.15);\n",
              "      filter: drop-shadow(0px 1px 2px rgba(0, 0, 0, 0.3));\n",
              "      fill: #FFFFFF;\n",
              "    }\n",
              "  </style>\n",
              "\n",
              "    <script>\n",
              "      const buttonEl =\n",
              "        document.querySelector('#df-690ff156-4dc9-4243-b7da-9d2e0067a537 button.colab-df-convert');\n",
              "      buttonEl.style.display =\n",
              "        google.colab.kernel.accessAllowed ? 'block' : 'none';\n",
              "\n",
              "      async function convertToInteractive(key) {\n",
              "        const element = document.querySelector('#df-690ff156-4dc9-4243-b7da-9d2e0067a537');\n",
              "        const dataTable =\n",
              "          await google.colab.kernel.invokeFunction('convertToInteractive',\n",
              "                                                    [key], {});\n",
              "        if (!dataTable) return;\n",
              "\n",
              "        const docLinkHtml = 'Like what you see? Visit the ' +\n",
              "          '<a target=\"_blank\" href=https://colab.research.google.com/notebooks/data_table.ipynb>data table notebook</a>'\n",
              "          + ' to learn more about interactive tables.';\n",
              "        element.innerHTML = '';\n",
              "        dataTable['output_type'] = 'display_data';\n",
              "        await google.colab.output.renderOutput(dataTable, element);\n",
              "        const docLink = document.createElement('div');\n",
              "        docLink.innerHTML = docLinkHtml;\n",
              "        element.appendChild(docLink);\n",
              "      }\n",
              "    </script>\n",
              "  </div>\n",
              "\n",
              "\n",
              "<div id=\"df-3e609005-a8a3-4db3-b161-48e7b453ea33\">\n",
              "  <button class=\"colab-df-quickchart\" onclick=\"quickchart('df-3e609005-a8a3-4db3-b161-48e7b453ea33')\"\n",
              "            title=\"Suggest charts\"\n",
              "            style=\"display:none;\">\n",
              "\n",
              "<svg xmlns=\"http://www.w3.org/2000/svg\" height=\"24px\"viewBox=\"0 0 24 24\"\n",
              "     width=\"24px\">\n",
              "    <g>\n",
              "        <path d=\"M19 3H5c-1.1 0-2 .9-2 2v14c0 1.1.9 2 2 2h14c1.1 0 2-.9 2-2V5c0-1.1-.9-2-2-2zM9 17H7v-7h2v7zm4 0h-2V7h2v10zm4 0h-2v-4h2v4z\"/>\n",
              "    </g>\n",
              "</svg>\n",
              "  </button>\n",
              "\n",
              "<style>\n",
              "  .colab-df-quickchart {\n",
              "      --bg-color: #E8F0FE;\n",
              "      --fill-color: #1967D2;\n",
              "      --hover-bg-color: #E2EBFA;\n",
              "      --hover-fill-color: #174EA6;\n",
              "      --disabled-fill-color: #AAA;\n",
              "      --disabled-bg-color: #DDD;\n",
              "  }\n",
              "\n",
              "  [theme=dark] .colab-df-quickchart {\n",
              "      --bg-color: #3B4455;\n",
              "      --fill-color: #D2E3FC;\n",
              "      --hover-bg-color: #434B5C;\n",
              "      --hover-fill-color: #FFFFFF;\n",
              "      --disabled-bg-color: #3B4455;\n",
              "      --disabled-fill-color: #666;\n",
              "  }\n",
              "\n",
              "  .colab-df-quickchart {\n",
              "    background-color: var(--bg-color);\n",
              "    border: none;\n",
              "    border-radius: 50%;\n",
              "    cursor: pointer;\n",
              "    display: none;\n",
              "    fill: var(--fill-color);\n",
              "    height: 32px;\n",
              "    padding: 0;\n",
              "    width: 32px;\n",
              "  }\n",
              "\n",
              "  .colab-df-quickchart:hover {\n",
              "    background-color: var(--hover-bg-color);\n",
              "    box-shadow: 0 1px 2px rgba(60, 64, 67, 0.3), 0 1px 3px 1px rgba(60, 64, 67, 0.15);\n",
              "    fill: var(--button-hover-fill-color);\n",
              "  }\n",
              "\n",
              "  .colab-df-quickchart-complete:disabled,\n",
              "  .colab-df-quickchart-complete:disabled:hover {\n",
              "    background-color: var(--disabled-bg-color);\n",
              "    fill: var(--disabled-fill-color);\n",
              "    box-shadow: none;\n",
              "  }\n",
              "\n",
              "  .colab-df-spinner {\n",
              "    border: 2px solid var(--fill-color);\n",
              "    border-color: transparent;\n",
              "    border-bottom-color: var(--fill-color);\n",
              "    animation:\n",
              "      spin 1s steps(1) infinite;\n",
              "  }\n",
              "\n",
              "  @keyframes spin {\n",
              "    0% {\n",
              "      border-color: transparent;\n",
              "      border-bottom-color: var(--fill-color);\n",
              "      border-left-color: var(--fill-color);\n",
              "    }\n",
              "    20% {\n",
              "      border-color: transparent;\n",
              "      border-left-color: var(--fill-color);\n",
              "      border-top-color: var(--fill-color);\n",
              "    }\n",
              "    30% {\n",
              "      border-color: transparent;\n",
              "      border-left-color: var(--fill-color);\n",
              "      border-top-color: var(--fill-color);\n",
              "      border-right-color: var(--fill-color);\n",
              "    }\n",
              "    40% {\n",
              "      border-color: transparent;\n",
              "      border-right-color: var(--fill-color);\n",
              "      border-top-color: var(--fill-color);\n",
              "    }\n",
              "    60% {\n",
              "      border-color: transparent;\n",
              "      border-right-color: var(--fill-color);\n",
              "    }\n",
              "    80% {\n",
              "      border-color: transparent;\n",
              "      border-right-color: var(--fill-color);\n",
              "      border-bottom-color: var(--fill-color);\n",
              "    }\n",
              "    90% {\n",
              "      border-color: transparent;\n",
              "      border-bottom-color: var(--fill-color);\n",
              "    }\n",
              "  }\n",
              "</style>\n",
              "\n",
              "  <script>\n",
              "    async function quickchart(key) {\n",
              "      const quickchartButtonEl =\n",
              "        document.querySelector('#' + key + ' button');\n",
              "      quickchartButtonEl.disabled = true;  // To prevent multiple clicks.\n",
              "      quickchartButtonEl.classList.add('colab-df-spinner');\n",
              "      try {\n",
              "        const charts = await google.colab.kernel.invokeFunction(\n",
              "            'suggestCharts', [key], {});\n",
              "      } catch (error) {\n",
              "        console.error('Error during call to suggestCharts:', error);\n",
              "      }\n",
              "      quickchartButtonEl.classList.remove('colab-df-spinner');\n",
              "      quickchartButtonEl.classList.add('colab-df-quickchart-complete');\n",
              "    }\n",
              "    (() => {\n",
              "      let quickchartButtonEl =\n",
              "        document.querySelector('#df-3e609005-a8a3-4db3-b161-48e7b453ea33 button');\n",
              "      quickchartButtonEl.style.display =\n",
              "        google.colab.kernel.accessAllowed ? 'block' : 'none';\n",
              "    })();\n",
              "  </script>\n",
              "</div>\n",
              "\n",
              "    </div>\n",
              "  </div>\n"
            ],
            "text/plain": [
              "  rel_triggers gold_rel_links  \\\n",
              "0           []             []   \n",
              "1           []             []   \n",
              "\n",
              "                                             doc_key  \\\n",
              "0  nw_RC000462ebb18ca0b29222d5e557fa31072af8337e3...   \n",
              "1  nw_RC0006850e77f498cb669777ce71e4ebfc471911174...   \n",
              "\n",
              "                                           ent_spans language_id  \\\n",
              "0  [[42, 43, [['evt090arg02victim', 1.0]]], [85, ...         eng   \n",
              "1  [[83, 85, [['evt105arg05origin', 1.0]]], [26, ...         eng   \n",
              "\n",
              "                                          source_url  \\\n",
              "0  https://www.washingtonpost.com/news/powerpost/...   \n",
              "1  http://www.expressen.se/nyheter/womens-secret-...   \n",
              "\n",
              "                                        evt_triggers  split  \\\n",
              "0  [[69, 69, [['life.die.deathcausedbyviolenteven...  train   \n",
              "1  [[51, 51, [['movement.transportartifact.hide',...  train   \n",
              "\n",
              "                                           sentences  \\\n",
              "0  [[Transportation, officials, are, urging, carp...   \n",
              "1  [[2014, :, ISIS, marches, into, Raqqa, and, ma...   \n",
              "\n",
              "                                      gold_evt_links  \n",
              "0  [[[69, 69], [85, 88], evt090arg01killer], [[69...  \n",
              "1  [[[51, 51], [26, 30], evt105arg01transporter],...  "
            ]
          },
          "execution_count": 7,
          "metadata": {},
          "output_type": "execute_result"
        }
      ],
      "source": [
        "df = pd.DataFrame(data)\n",
        "df.head(2)"
      ]
    },
    {
      "cell_type": "code",
      "execution_count": null,
      "metadata": {
        "colab": {
          "background_save": true
        },
        "id": "PrYJXBUIXdR5"
      },
      "outputs": [],
      "source": [
        "df1.drop(['rel_triggers','gold_rel_links','language_id','source_url','split'],axis=1,inplace=True)"
      ]
    },
    {
      "cell_type": "code",
      "execution_count": null,
      "metadata": {
        "colab": {
          "background_save": true
        },
        "id": "UNbCjsf1oLJX"
      },
      "outputs": [],
      "source": [
        "df.drop(['rel_triggers','gold_rel_links','language_id','source_url','split'],axis=1,inplace=True)"
      ]
    },
    {
      "cell_type": "code",
      "execution_count": null,
      "metadata": {
        "colab": {
          "background_save": true,
          "base_uri": "https://localhost:8080/",
          "height": 36
        },
        "id": "sOCH28-Z72_8",
        "outputId": "dcb33b49-7929-43b3-fde0-85b7255929df"
      },
      "outputs": [
        {
          "data": {
            "application/vnd.google.colaboratory.intrinsic+json": {
              "type": "string"
            },
            "text/plain": [
              "'arg01'"
            ]
          },
          "execution_count": 14,
          "metadata": {},
          "output_type": "execute_result"
        }
      ],
      "source": [
        "df['gold_evt_links'][0][0][2]"
      ]
    },
    {
      "cell_type": "code",
      "execution_count": null,
      "metadata": {
        "colab": {
          "background_save": true,
          "base_uri": "https://localhost:8080/"
        },
        "id": "Sa5Si8PIoLNw",
        "outputId": "582fc24a-68df-4331-a936-8eee8a2fecbc"
      },
      "outputs": [
        {
          "name": "stdout",
          "output_type": "stream",
          "text": [
            "CPU times: user 8.95 s, sys: 168 ms, total: 9.12 s\n",
            "Wall time: 9.12 s\n"
          ]
        }
      ],
      "source": [
        "%%time\n",
        "dataframe_list = []\n",
        "for idx in range(7329):\n",
        "\n",
        "    row_tokens = []\n",
        "    trigger_tags = []\n",
        "    arg_tags = []\n",
        "    doc_key = []\n",
        "    for i in range(len(df['sentences'][idx])):\n",
        "        row_tokens.extend(df['sentences'][idx][i])\n",
        "\n",
        "    for i in range(len(row_tokens)):\n",
        "        trigger_tags.append('O')\n",
        "        arg_tags.append('O')\n",
        "        doc_key.append(df['doc_key'][idx])\n",
        "\n",
        "    gold_link = df['gold_evt_links'][idx]\n",
        "\n",
        "    for i in range(len(gold_link)):\n",
        "\n",
        "        trigger_list = gold_link[i][0]\n",
        "        arg_list = gold_link[i][1]\n",
        "        arg_label = gold_link[i][2]\n",
        "\n",
        "        trigger_beg = trigger_list[0]\n",
        "        trigger_end = trigger_list[1]\n",
        "        trigger_tags[trigger_beg] = 'B-'+ arg_label[:6]\n",
        "        if trigger_beg != trigger_end:\n",
        "            for trg in range(trigger_beg+1,trigger_end+1):\n",
        "                trigger_tags[trg] = 'I-'+ arg_label[:6]\n",
        "\n",
        "        arg_beg = arg_list[0]\n",
        "        arg_end = arg_list[1]\n",
        "        arg_tags[arg_beg] = 'B-'+ arg_label[11:]\n",
        "        if arg_beg != arg_end:\n",
        "            for arg in range(arg_beg+1,arg_end+1):\n",
        "                arg_tags[arg] = 'I-'+ arg_label[11:]\n",
        "\n",
        "    d1 = pd.DataFrame({'doc_key':doc_key,'token':row_tokens,'event_tags':trigger_tags,'arg_tags':arg_tags})\n",
        "    dataframe_list.append(d1)"
      ]
    },
    {
      "cell_type": "code",
      "execution_count": null,
      "metadata": {
        "colab": {
          "background_save": true,
          "base_uri": "https://localhost:8080/"
        },
        "id": "qlwJqpYAXkfe",
        "outputId": "a321718a-b184-4103-836e-7fe56a25555d"
      },
      "outputs": [
        {
          "name": "stdout",
          "output_type": "stream",
          "text": [
            "CPU times: user 941 ms, sys: 35.8 ms, total: 977 ms\n",
            "Wall time: 961 ms\n"
          ]
        }
      ],
      "source": [
        "%%time\n",
        "dataframe_test_list = []\n",
        "for idx in range(df1.shape[0]):\n",
        "\n",
        "    row_tokens = []\n",
        "    trigger_tags = []\n",
        "    arg_tags = []\n",
        "    doc_key = []\n",
        "    for i in range(len(df1['sentences'][idx])):\n",
        "        row_tokens.extend(df1['sentences'][idx][i])\n",
        "\n",
        "    for i in range(len(row_tokens)):\n",
        "        trigger_tags.append('O')\n",
        "        arg_tags.append('O')\n",
        "        doc_key.append(df1['doc_key'][idx])\n",
        "\n",
        "    gold_link = df1['gold_evt_links'][idx]\n",
        "\n",
        "    for i in range(len(gold_link)):\n",
        "\n",
        "        trigger_list = gold_link[i][0]\n",
        "        arg_list = gold_link[i][1]\n",
        "        arg_label = gold_link[i][2]\n",
        "\n",
        "        trigger_beg = trigger_list[0]\n",
        "        trigger_end = trigger_list[1]\n",
        "        trigger_tags[trigger_beg] = 'B-'+ arg_label[:6]\n",
        "        if trigger_beg != trigger_end:\n",
        "            for trg in range(trigger_beg+1,trigger_end+1):\n",
        "                trigger_tags[trg] = 'I-'+ arg_label[:6]\n",
        "\n",
        "        arg_beg = arg_list[0]\n",
        "        arg_end = arg_list[1]\n",
        "        arg_tags[arg_beg] = 'B-'+ arg_label[11:]\n",
        "        if arg_beg != arg_end:\n",
        "            for arg in range(arg_beg+1,arg_end+1):\n",
        "                arg_tags[arg] = 'I-'+ arg_label[11:]\n",
        "\n",
        "    d1 = pd.DataFrame({'doc_key':doc_key,'token':row_tokens,'event_tags':trigger_tags,'arg_tags':arg_tags})\n",
        "    dataframe_test_list.append(d1)"
      ]
    },
    {
      "cell_type": "code",
      "execution_count": null,
      "metadata": {
        "colab": {
          "background_save": true
        },
        "id": "PTnCXeouoLOe"
      },
      "outputs": [],
      "source": [
        "data = pd.concat(dataframe_list)"
      ]
    },
    {
      "cell_type": "code",
      "execution_count": null,
      "metadata": {
        "colab": {
          "background_save": true
        },
        "id": "PtXBgB9uYE06"
      },
      "outputs": [],
      "source": [
        "test = pd.concat(dataframe_test_list)"
      ]
    },
    {
      "cell_type": "code",
      "execution_count": null,
      "metadata": {
        "colab": {
          "background_save": true
        },
        "id": "W2CEDqI-oLYP"
      },
      "outputs": [],
      "source": [
        "def create_dataset(data):\n",
        "    grouped_tokens = data.groupby('doc_key')['token'].apply(list).reset_index(name='token')\n",
        "    grouped_events = data.groupby('doc_key')['event_tags'].apply(list).reset_index(name='event_tags')\n",
        "    grouped_args = data.groupby('doc_key')['arg_tags'].apply(list).reset_index(name='arg_tags')\n",
        "\n",
        "    dataset_dict = {\n",
        "        \"id\": grouped_tokens['doc_key'],\n",
        "        \"tokens\": grouped_tokens['token'],\n",
        "        \"event_tags\": grouped_events['event_tags'],\n",
        "        \"arg_tags\": grouped_args['arg_tags'],\n",
        "    }\n",
        "\n",
        "    return Dataset.from_dict(dataset_dict)\n",
        "\n",
        "dataset1 = create_dataset(data)"
      ]
    },
    {
      "cell_type": "code",
      "execution_count": null,
      "metadata": {
        "colab": {
          "background_save": true
        },
        "id": "1Fj_RdohYXkC"
      },
      "outputs": [],
      "source": [
        "dataset2 = create_dataset(test)\n",
        "dataset_dict = DatasetDict({\"train\": dataset1,\"test\":dataset2})"
      ]
    },
    {
      "cell_type": "code",
      "execution_count": null,
      "metadata": {
        "colab": {
          "background_save": true,
          "base_uri": "https://localhost:8080/"
        },
        "id": "QfQ2lINAFN1J",
        "outputId": "3dbf606b-aab7-442e-a474-7e4c977a1e8d"
      },
      "outputs": [
        {
          "data": {
            "text/plain": [
              "{'id': Value(dtype='string', id=None),\n",
              " 'tokens': Sequence(feature=Value(dtype='string', id=None), length=-1, id=None),\n",
              " 'event_tags': Sequence(feature=Value(dtype='string', id=None), length=-1, id=None),\n",
              " 'arg_tags': Sequence(feature=Value(dtype='string', id=None), length=-1, id=None),\n",
              " 'ner_tags': Sequence(feature=Value(dtype='string', id=None), length=-1, id=None)}"
            ]
          },
          "execution_count": 18,
          "metadata": {},
          "output_type": "execute_result"
        }
      ],
      "source": [
        "dataset_dict['train'].features"
      ]
    },
    {
      "cell_type": "code",
      "execution_count": null,
      "metadata": {
        "colab": {
          "background_save": true,
          "base_uri": "https://localhost:8080/"
        },
        "id": "6pe2-b8vYelI",
        "outputId": "50520c39-fb9e-4f4f-bcc5-7f16b7b0f91b"
      },
      "outputs": [
        {
          "data": {
            "text/plain": [
              "{'id': Value(dtype='string', id=None),\n",
              " 'tokens': Sequence(feature=Value(dtype='string', id=None), length=-1, id=None),\n",
              " 'event_tags': Sequence(feature=Value(dtype='string', id=None), length=-1, id=None),\n",
              " 'arg_tags': Sequence(feature=Value(dtype='string', id=None), length=-1, id=None),\n",
              " 'ner_tags': Sequence(feature=Value(dtype='string', id=None), length=-1, id=None)}"
            ]
          },
          "execution_count": 19,
          "metadata": {},
          "output_type": "execute_result"
        }
      ],
      "source": [
        "dataset_dict['test'].features"
      ]
    },
    {
      "cell_type": "code",
      "execution_count": null,
      "metadata": {
        "colab": {
          "background_save": true
        },
        "id": "jOmVjpKmQU3w"
      },
      "outputs": [],
      "source": [
        "event_labels = ['B-evt001', 'B-evt002', 'B-evt003', 'B-evt004', 'B-evt005', 'B-evt006', 'B-evt007', 'B-evt008', 'B-evt009', 'B-evt010', 'B-evt011', 'B-evt012', 'B-evt013', 'B-evt014', 'B-evt015', 'B-evt016', 'B-evt017', 'B-evt018',\n",
        "                                     'B-evt019', 'B-evt020', 'B-evt021', 'B-evt022', 'B-evt023', 'B-evt024', 'B-evt025', 'B-evt026', 'B-evt027', 'B-evt028', 'B-evt029', 'B-evt030', 'B-evt031', 'B-evt032', 'B-evt033', 'B-evt034', 'B-evt035', 'B-evt036', 'B-evt037', 'B-evt038', 'B-evt039', 'B-evt040', 'B-evt041', 'B-evt042', 'B-evt043', 'B-evt044', 'B-evt045', 'B-evt046', 'B-evt047', 'B-evt048', 'B-evt049', 'B-evt050', 'B-evt051', 'B-evt052', 'B-evt053', 'B-evt054', 'B-evt055', 'B-evt057', 'B-evt059', 'B-evt060', 'B-evt061', 'B-evt062', 'B-evt063', 'B-evt064', 'B-evt065', 'B-evt066', 'B-evt068', 'B-evt070', 'B-evt071', 'B-evt072', 'B-evt073', 'B-evt074', 'B-evt075', 'B-evt076', 'B-evt077', 'B-evt079', 'B-evt080', 'B-evt081', 'B-evt082', 'B-evt083', 'B-evt084', 'B-evt085', 'B-evt086', 'B-evt087', 'B-evt088', 'B-evt089', 'B-evt090', 'B-evt091',\n",
        "                                     'B-evt092', 'B-evt093', 'B-evt094', 'B-evt095', 'B-evt096', 'B-evt097', 'B-evt098', 'B-evt099', 'B-evt100', 'B-evt101', 'B-evt102', 'B-evt103', 'B-evt104', 'B-evt105', 'B-evt106', 'B-evt107', 'B-evt108', 'B-evt109', 'B-evt110', 'B-evt111', 'B-evt112', 'B-evt113', 'B-evt114', 'B-evt115', 'B-evt116', 'B-evt117', 'B-evt118', 'B-evt119', 'B-evt120', 'B-evt121', 'B-evt122', 'B-evt123', 'B-evt124', 'B-evt125', 'B-evt126', 'B-evt127', 'B-evt128', 'B-evt129', 'B-evt130', 'B-evt131', 'B-evt132', 'B-evt133', 'B-evt134', 'B-evt135', 'B-evt136', 'B-evt137', 'B-evt138', 'B-evt139', 'B-evt140', 'B-evt141', 'B-evt142', 'B-evt143', 'B-evt144', 'I-evt064', 'I-evt065', 'I-evt068', 'I-evt071', 'I-evt073', 'I-evt085', 'I-evt087', 'I-evt089', 'I-evt091', 'I-evt095', 'I-evt100', 'I-evt104', 'I-evt107', 'I-evt112', 'I-evt119', 'I-evt123', 'I-evt124', 'I-evt130', 'I-evt132', 'I-evt133', 'I-evt136', 'I-evt139', 'I-evt142', 'I-evt144', 'O']"
      ]
    },
    {
      "cell_type": "code",
      "execution_count": null,
      "metadata": {
        "colab": {
          "background_save": true
        },
        "id": "VAtq36oPRN92"
      },
      "outputs": [],
      "source": [
        "arg_labels = ['B-artifact', 'B-artifactmoney', 'B-attacker', 'B-ballot', 'B-beneficiary', 'B-candidate', 'B-communicator', 'B-crashobject', 'B-crime', 'B-damager', 'B-damagerdestroyer', 'B-deceased', 'B-defendant', 'B-demonstrator', 'B-destination', 'B-destroyer', 'B-detainee', 'B-driverpassenger', 'B-employee',\n",
        "                                   'B-executioner', 'B-extraditer', 'B-fireexplosionobject', 'B-founder', 'B-giver', 'B-governmentbody', 'B-gpe', 'B-granter', 'B-hidingplace', 'B-injurer', 'B-inspectedentity', 'B-inspector', 'B-instrument', 'B-investigator', 'B-jailer', 'B-judgecourt', 'B-killer', 'B-law', 'B-manufacturer', 'B-money', 'B-monitor', 'B-monitoredentity', 'B-observedentity', 'B-observer', 'B-origin', 'B-otherparticipant', 'B-participant', 'B-passenger', 'B-place', 'B-placeofemployment', 'B-preventer', 'B-prosecutor', 'B-recipient', 'B-rejecternullifier', 'B-result', 'B-retreater', 'B-spy', 'B-surrenderer', 'B-target', 'B-territoryorfacility', 'B-transporter', 'B-vehicle', 'B-victim', 'B-violator',\n",
        "                                   'B-voter', 'B-yielder', 'I-artifact', 'I-artifactmoney', 'I-attacker', 'I-ballot', 'I-beneficiary', 'I-candidate', 'I-communicator', 'I-crashobject', 'I-crime', 'I-damager', 'I-damagerdestroyer', 'I-deceased', 'I-defendant', 'I-demonstrator', 'I-destination', 'I-destroyer', 'I-detainee', 'I-driverpassenger', 'I-employee', 'I-executioner', 'I-extraditer', 'I-fireexplosionobject', 'I-founder', 'I-giver', 'I-governmentbody', 'I-gpe', 'I-granter', 'I-hidingplace', 'I-injurer', 'I-inspectedentity', 'I-inspector', 'I-instrument', 'I-investigator', 'I-jailer', 'I-judgecourt', 'I-killer', 'I-law', 'I-manufacturer', 'I-money', 'I-monitor', 'I-monitoredentity', 'I-observedentity', 'I-observer', 'I-origin',\n",
        "                                   'I-otherparticipant', 'I-participant', 'I-passenger', 'I-place', 'I-placeofemployment', 'I-preventer', 'I-prosecutor', 'I-recipient', 'I-rejecternullifier', 'I-result', 'I-retreater', 'I-spy', 'I-surrenderer', 'I-target', 'I-territoryorfacility',\n",
        "                                   'I-transporter', 'I-vehicle', 'I-victim', 'I-violator', 'I-voter', 'I-yielder', 'O']"
      ]
    },
    {
      "cell_type": "code",
      "execution_count": null,
      "metadata": {
        "colab": {
          "background_save": true,
          "base_uri": "https://localhost:8080/",
          "height": 145,
          "referenced_widgets": [
            "d23d9b5e5e8345598d8445fd819428ba",
            "c071b721820f438986a88eaf874c2621",
            "496efcae0cd34784918a529c068c0dc8",
            "7cc7f4297483431a97a0612d7d670a41"
          ]
        },
        "id": "F1NIbU3gPVEY",
        "outputId": "450dd8fe-b88a-4974-96a0-813cb4f05084"
      },
      "outputs": [
        {
          "data": {
            "application/vnd.jupyter.widget-view+json": {
              "model_id": "d23d9b5e5e8345598d8445fd819428ba",
              "version_major": 2,
              "version_minor": 0
            },
            "text/plain": [
              "Casting the dataset:   0%|          | 0/7329 [00:00<?, ? examples/s]"
            ]
          },
          "metadata": {},
          "output_type": "display_data"
        },
        {
          "data": {
            "application/vnd.jupyter.widget-view+json": {
              "model_id": "c071b721820f438986a88eaf874c2621",
              "version_major": 2,
              "version_minor": 0
            },
            "text/plain": [
              "Casting the dataset:   0%|          | 0/924 [00:00<?, ? examples/s]"
            ]
          },
          "metadata": {},
          "output_type": "display_data"
        },
        {
          "data": {
            "application/vnd.jupyter.widget-view+json": {
              "model_id": "496efcae0cd34784918a529c068c0dc8",
              "version_major": 2,
              "version_minor": 0
            },
            "text/plain": [
              "Casting the dataset:   0%|          | 0/7329 [00:00<?, ? examples/s]"
            ]
          },
          "metadata": {},
          "output_type": "display_data"
        },
        {
          "data": {
            "application/vnd.jupyter.widget-view+json": {
              "model_id": "7cc7f4297483431a97a0612d7d670a41",
              "version_major": 2,
              "version_minor": 0
            },
            "text/plain": [
              "Casting the dataset:   0%|          | 0/924 [00:00<?, ? examples/s]"
            ]
          },
          "metadata": {},
          "output_type": "display_data"
        }
      ],
      "source": [
        "dataset_dict = dataset_dict.cast_column(\"event_tags\", datasets.Sequence(ClassLabel(names=event_labels)))\n",
        "dataset_dict = dataset_dict.cast_column(\"arg_tags\", datasets.Sequence(ClassLabel(names=arg_labels)))"
      ]
    },
    {
      "cell_type": "code",
      "execution_count": null,
      "metadata": {
        "colab": {
          "background_save": true,
          "base_uri": "https://localhost:8080/"
        },
        "id": "JwsfP_i3Qy7D",
        "outputId": "28d4f924-6648-468e-8be1-4fa1f2140e70"
      },
      "outputs": [
        {
          "data": {
            "text/plain": [
              "{'id': Value(dtype='string', id=None),\n",
              " 'tokens': Sequence(feature=Value(dtype='string', id=None), length=-1, id=None),\n",
              " 'event_tags': Sequence(feature=ClassLabel(names=['B-evt001', 'B-evt002', 'B-evt003', 'B-evt004', 'B-evt005', 'B-evt006', 'B-evt007', 'B-evt008', 'B-evt009', 'B-evt010', 'B-evt011', 'B-evt012', 'B-evt013', 'B-evt014', 'B-evt015', 'B-evt016', 'B-evt017', 'B-evt018', 'B-evt019', 'B-evt020', 'B-evt021', 'B-evt022', 'B-evt023', 'B-evt024', 'B-evt025', 'B-evt026', 'B-evt027', 'B-evt028', 'B-evt029', 'B-evt030', 'B-evt031', 'B-evt032', 'B-evt033', 'B-evt034', 'B-evt035', 'B-evt036', 'B-evt037', 'B-evt038', 'B-evt039', 'B-evt040', 'B-evt041', 'B-evt042', 'B-evt043', 'B-evt044', 'B-evt045', 'B-evt046', 'B-evt047', 'B-evt048', 'B-evt049', 'B-evt050', 'B-evt051', 'B-evt052', 'B-evt053', 'B-evt054', 'B-evt055', 'B-evt057', 'B-evt059', 'B-evt060', 'B-evt061', 'B-evt062', 'B-evt063', 'B-evt064', 'B-evt065', 'B-evt066', 'B-evt068', 'B-evt070', 'B-evt071', 'B-evt072', 'B-evt073', 'B-evt074', 'B-evt075', 'B-evt076', 'B-evt077', 'B-evt079', 'B-evt080', 'B-evt081', 'B-evt082', 'B-evt083', 'B-evt084', 'B-evt085', 'B-evt086', 'B-evt087', 'B-evt088', 'B-evt089', 'B-evt090', 'B-evt091', 'B-evt092', 'B-evt093', 'B-evt094', 'B-evt095', 'B-evt096', 'B-evt097', 'B-evt098', 'B-evt099', 'B-evt100', 'B-evt101', 'B-evt102', 'B-evt103', 'B-evt104', 'B-evt105', 'B-evt106', 'B-evt107', 'B-evt108', 'B-evt109', 'B-evt110', 'B-evt111', 'B-evt112', 'B-evt113', 'B-evt114', 'B-evt115', 'B-evt116', 'B-evt117', 'B-evt118', 'B-evt119', 'B-evt120', 'B-evt121', 'B-evt122', 'B-evt123', 'B-evt124', 'B-evt125', 'B-evt126', 'B-evt127', 'B-evt128', 'B-evt129', 'B-evt130', 'B-evt131', 'B-evt132', 'B-evt133', 'B-evt134', 'B-evt135', 'B-evt136', 'B-evt137', 'B-evt138', 'B-evt139', 'B-evt140', 'B-evt141', 'B-evt142', 'B-evt143', 'B-evt144', 'I-evt064', 'I-evt065', 'I-evt068', 'I-evt071', 'I-evt073', 'I-evt085', 'I-evt087', 'I-evt089', 'I-evt091', 'I-evt095', 'I-evt100', 'I-evt104', 'I-evt107', 'I-evt112', 'I-evt119', 'I-evt123', 'I-evt124', 'I-evt130', 'I-evt132', 'I-evt133', 'I-evt136', 'I-evt139', 'I-evt142', 'I-evt144', 'O'], id=None), length=-1, id=None),\n",
              " 'arg_tags': Sequence(feature=ClassLabel(names=['O', 'B-arg04', 'B-arg02', 'I-arg02', 'B-arg01', 'I-arg01', 'B-arg05', 'I-arg05', 'I-arg04', 'B-arg03', 'I-arg03'], id=None), length=-1, id=None),\n",
              " 'ner_tags': Sequence(feature=Value(dtype='string', id=None), length=-1, id=None)}"
            ]
          },
          "execution_count": 25,
          "metadata": {},
          "output_type": "execute_result"
        }
      ],
      "source": [
        "dataset_dict['test'].features"
      ]
    },
    {
      "cell_type": "code",
      "execution_count": null,
      "metadata": {
        "colab": {
          "background_save": true
        },
        "id": "8oYpqf13Rvbp"
      },
      "outputs": [],
      "source": [
        "label_list = dataset_dict[\"train\"].features[\"event_tags\"].feature.names"
      ]
    },
    {
      "cell_type": "code",
      "execution_count": null,
      "metadata": {
        "colab": {
          "base_uri": "https://localhost:8080/",
          "height": 113,
          "referenced_widgets": [
            "6de645ae1e8d47a4ac809737f5be50e7",
            "a2dfb86e0d2c41d7b59583223e2982b2",
            "3d528d0444ff43da991211c6ba9719cb",
            "3134f186e8a64737bc3015a9f4686eb0",
            "e1e351242e7647ee8875c88d4b8b6365",
            "9a614cfdc9ac4d96ae36530a52150bbd",
            "52e9ac59012747e285f99bb1804f0865",
            "c38159c38245404ca883a3f22e3ba834",
            "9ffc518c75b64680a701deba83ba151c",
            "349170346eb84d29824431fcb1d84a75",
            "c04875c5f5364cc8b2264d07761f43ed",
            "26b6da9f57c740ec949f8a4a9ef4f3ed",
            "fcfbad43496941d490f603db8a74f26c",
            "f7851102cfbe493ba981b76d7d70f3e4",
            "b549316fa1e846bd8c7c02e4309bdfde",
            "29c4a45c5a2747d6b5a694f23cdd3c0a",
            "6439c9bf55494baebd0d38fe0b81fefc",
            "6d37d680e76b4559aa8b0fc0b936e739",
            "b4d4787bd4a94a09b85f163eb0e0f01a",
            "762c9d8b302c46d5bd8d32d51c68b12a",
            "4b05a34257ea4acca6fe7f60b2bf7884",
            "259be6c021f544bea471429609db0ef5",
            "bd2c8994cabf49ccac4496da85953ada",
            "88b7741d918441ac81a7c8ba2b3bd18b",
            "83cd0f94786c4c7ab0426c54deef29ba",
            "0c9ac6ed0e0140708551954384ce2f63",
            "39cb1e7d10bf4d7287d4b52e2ce60e6e",
            "96cffa3598194157b3f52b109557be2e",
            "9141d1f4a28940c6ad472d0baeb57e97",
            "31c9d288d74e41fbab0d4c7537385def",
            "d0386f43ea514d8685501a8dc3a08d4b",
            "8d5259176ed4461f940dc8955b9746af",
            "2a20292af43947ab8bfcd6fdd590bdef"
          ]
        },
        "id": "TNNYJle1SM4u",
        "outputId": "41e813c4-28fa-468d-c934-c2c75db1b25b"
      },
      "outputs": [
        {
          "data": {
            "application/vnd.jupyter.widget-view+json": {
              "model_id": "6de645ae1e8d47a4ac809737f5be50e7",
              "version_major": 2,
              "version_minor": 0
            },
            "text/plain": [
              "tokenizer_config.json:   0%|          | 0.00/52.0 [00:00<?, ?B/s]"
            ]
          },
          "metadata": {},
          "output_type": "display_data"
        },
        {
          "data": {
            "application/vnd.jupyter.widget-view+json": {
              "model_id": "26b6da9f57c740ec949f8a4a9ef4f3ed",
              "version_major": 2,
              "version_minor": 0
            },
            "text/plain": [
              "config.json:   0%|          | 0.00/633 [00:00<?, ?B/s]"
            ]
          },
          "metadata": {},
          "output_type": "display_data"
        },
        {
          "data": {
            "application/vnd.jupyter.widget-view+json": {
              "model_id": "bd2c8994cabf49ccac4496da85953ada",
              "version_major": 2,
              "version_minor": 0
            },
            "text/plain": [
              "spm.model:   0%|          | 0.00/2.45M [00:00<?, ?B/s]"
            ]
          },
          "metadata": {},
          "output_type": "display_data"
        }
      ],
      "source": [
        "tokenizer = AutoTokenizer.from_pretrained(\"distilbert/distilbert-base-uncased\",max_length=512,padding=True)"
      ]
    },
    {
      "cell_type": "code",
      "execution_count": null,
      "metadata": {
        "colab": {
          "base_uri": "https://localhost:8080/"
        },
        "id": "H9SAdz6zoXc6",
        "outputId": "8947d6cc-5c4c-48ce-ce8e-38a23dea498d"
      },
      "outputs": [
        {
          "data": {
            "text/plain": [
              "['[CLS]',\n",
              " '▁Transportation',\n",
              " '▁officials',\n",
              " '▁are',\n",
              " '▁urging',\n",
              " '▁carpool',\n",
              " '▁and',\n",
              " '▁tele',\n",
              " 'working',\n",
              " '▁as']"
            ]
          },
          "execution_count": 68,
          "metadata": {},
          "output_type": "execute_result"
        }
      ],
      "source": [
        "example = dataset_dict[\"train\"][0]\n",
        "tokenized_input = tokenizer(example[\"tokens\"], is_split_into_words=True)\n",
        "tokens = tokenizer.convert_ids_to_tokens(tokenized_input[\"input_ids\"])\n",
        "tokens[:10]"
      ]
    },
    {
      "cell_type": "code",
      "execution_count": null,
      "metadata": {
        "id": "BeDBi8nxoXhd"
      },
      "outputs": [],
      "source": [
        "def tokenize_and_align_labels(examples):\n",
        "    tokenized_inputs = tokenizer(examples[\"tokens\"], truncation=True, is_split_into_words=True,max_length=512)\n",
        "\n",
        "    labels = []\n",
        "    for i, label in enumerate(examples[f\"event_tags\"]):\n",
        "        word_ids = tokenized_inputs.word_ids(batch_index=i)  # Map tokens to their respective word.\n",
        "        previous_word_idx = None\n",
        "        label_ids = []\n",
        "        for word_idx in word_ids:  # Set the special tokens to -100.\n",
        "            if word_idx is None:\n",
        "                label_ids.append(-100)\n",
        "            elif word_idx != previous_word_idx:  # Only label the first token of a given word.\n",
        "                label_ids.append(label[word_idx])\n",
        "            else:\n",
        "                label_ids.append(-100)\n",
        "            previous_word_idx = word_idx\n",
        "        labels.append(label_ids)\n",
        "\n",
        "    tokenized_inputs[\"labels\"] = labels\n",
        "    return tokenized_inputs"
      ]
    },
    {
      "cell_type": "code",
      "execution_count": null,
      "metadata": {
        "colab": {
          "base_uri": "https://localhost:8080/",
          "height": 81,
          "referenced_widgets": [
            "8bc1f41e8c6e4c619066051e90416562",
            "0119fddd6873409781695693d4a43fb4",
            "1b6296432b2e47efa28d0e54a77a08c7",
            "02bd86e9ad59483cbef96cf307b8de6a",
            "799149c122db417a834b18bc70b4301d",
            "b5c8e179754e4a0cb59f14975e3d7c76",
            "cef7a363baf7469e9159cf59c4bef169",
            "a6ed487994f34bbbbedac96e645ec0ee",
            "3698372d85974a48b2dd24ebde743df7",
            "878d17581741408a949a9cf6e92dc926",
            "0d6e30ec522a42beb97fd2c5edb68dd4",
            "2a066d3d817d432c988c7af7bedd897c",
            "933656ec717c407a8c9f17cc2ee24291",
            "b9c5f6fed1d3499fa16165c004bd32e8",
            "471643a795e64b8285f7a444d584e299",
            "243f13255c9a4d40a6a3b204a282b5ea",
            "a79c36a9f36344509bd943f168e608b1",
            "57a81980bbb74df1b2a19e6442f3a5ea",
            "0b622e400a2844cb9402150b51a676b4",
            "8d48b8307dfb4a66841110238f8cac1d",
            "372b0830f56249aaadf7f72800f53a1f",
            "e25abdc6192846c9ac0810dbe895dd51"
          ]
        },
        "id": "0KhcxYK8oXiN",
        "outputId": "5718bf03-c147-42b6-b87c-6376ce5f7797"
      },
      "outputs": [
        {
          "data": {
            "application/vnd.jupyter.widget-view+json": {
              "model_id": "8bc1f41e8c6e4c619066051e90416562",
              "version_major": 2,
              "version_minor": 0
            },
            "text/plain": [
              "Map:   0%|          | 0/7329 [00:00<?, ? examples/s]"
            ]
          },
          "metadata": {},
          "output_type": "display_data"
        },
        {
          "data": {
            "application/vnd.jupyter.widget-view+json": {
              "model_id": "2a066d3d817d432c988c7af7bedd897c",
              "version_major": 2,
              "version_minor": 0
            },
            "text/plain": [
              "Map:   0%|          | 0/924 [00:00<?, ? examples/s]"
            ]
          },
          "metadata": {},
          "output_type": "display_data"
        }
      ],
      "source": [
        "tokenized_rams = dataset_dict.map(tokenize_and_align_labels, batched=True)"
      ]
    },
    {
      "cell_type": "code",
      "execution_count": null,
      "metadata": {
        "colab": {
          "base_uri": "https://localhost:8080/"
        },
        "id": "We9kITLj1YL0",
        "outputId": "24f3490b-6c86-473e-a8a5-e2e2be76bb53"
      },
      "outputs": [
        {
          "data": {
            "text/plain": [
              "DatasetDict({\n",
              "    train: Dataset({\n",
              "        features: ['id', 'tokens', 'event_tags', 'arg_tags', 'input_ids', 'token_type_ids', 'attention_mask', 'labels'],\n",
              "        num_rows: 7329\n",
              "    })\n",
              "    test: Dataset({\n",
              "        features: ['id', 'tokens', 'event_tags', 'arg_tags', 'input_ids', 'token_type_ids', 'attention_mask', 'labels'],\n",
              "        num_rows: 924\n",
              "    })\n",
              "})"
            ]
          },
          "execution_count": 71,
          "metadata": {},
          "output_type": "execute_result"
        }
      ],
      "source": [
        "tokenized_rams"
      ]
    },
    {
      "cell_type": "code",
      "execution_count": null,
      "metadata": {
        "colab": {
          "base_uri": "https://localhost:8080/"
        },
        "id": "yJlqnDAn09Gu",
        "outputId": "41190092-742c-4b92-b9d3-2b8f38be76d3"
      },
      "outputs": [
        {
          "name": "stdout",
          "output_type": "stream",
          "text": [
            "502 315\n",
            "512 459\n",
            "505 656\n",
            "503 1268\n",
            "512 2380\n",
            "512 2939\n",
            "504 3483\n",
            "505 3959\n",
            "504 4137\n",
            "502 4477\n",
            "502 4910\n",
            "512 5196\n",
            "503 5904\n"
          ]
        }
      ],
      "source": [
        "for i in range(7329):\n",
        "  if len(tokenized_rams['train'][i]['input_ids']) > 500:\n",
        "    print(len(tokenized_rams['train'][i]['input_ids']),i)"
      ]
    },
    {
      "cell_type": "code",
      "execution_count": null,
      "metadata": {
        "id": "I93z6D7LoXnL"
      },
      "outputs": [],
      "source": [
        "data_collator = DataCollatorForTokenClassification(tokenizer=tokenizer)"
      ]
    },
    {
      "cell_type": "code",
      "execution_count": null,
      "metadata": {
        "id": "50xqw4bQogol"
      },
      "outputs": [],
      "source": [
        "seqeval = evaluate.load(\"seqeval\")"
      ]
    },
    {
      "cell_type": "code",
      "execution_count": null,
      "metadata": {
        "colab": {
          "base_uri": "https://localhost:8080/"
        },
        "id": "NAOhszfYSqqG",
        "outputId": "d3d5487a-91eb-4e0e-c0aa-e6ba2b66eaeb"
      },
      "outputs": [
        {
          "data": {
            "text/plain": [
              "DatasetDict({\n",
              "    train: Dataset({\n",
              "        features: ['id', 'tokens', 'event_tags', 'arg_tags', 'input_ids', 'token_type_ids', 'attention_mask', 'labels'],\n",
              "        num_rows: 7329\n",
              "    })\n",
              "    test: Dataset({\n",
              "        features: ['id', 'tokens', 'event_tags', 'arg_tags', 'input_ids', 'token_type_ids', 'attention_mask', 'labels'],\n",
              "        num_rows: 924\n",
              "    })\n",
              "})"
            ]
          },
          "execution_count": 75,
          "metadata": {},
          "output_type": "execute_result"
        }
      ],
      "source": [
        "tokenized_rams"
      ]
    },
    {
      "cell_type": "code",
      "execution_count": null,
      "metadata": {
        "id": "-BpqoEthrJoO"
      },
      "outputs": [],
      "source": [
        "labels = [label_list[i] for i in example[\"event_tags\"]]\n",
        "\n",
        "\n",
        "def compute_metrics(p):\n",
        "    predictions, labels = p\n",
        "    predictions = np.argmax(predictions, axis=2)\n",
        "\n",
        "    true_predictions = [\n",
        "        [label_list[p] for (p, l) in zip(prediction, label) if l != -100]\n",
        "        for prediction, label in zip(predictions, labels)\n",
        "    ]\n",
        "    true_labels = [\n",
        "        [label_list[l] for (p, l) in zip(prediction, label) if l != -100]\n",
        "        for prediction, label in zip(predictions, labels)\n",
        "    ]\n",
        "\n",
        "    results = seqeval.compute(predictions=true_predictions, references=true_labels,zero_division=1)\n",
        "    return {\n",
        "        \"precision\": results[\"overall_precision\"],\n",
        "        \"recall\": results[\"overall_recall\"],\n",
        "        \"f1\": results[\"overall_f1\"],\n",
        "        \"accuracy\": results[\"overall_accuracy\"],\n",
        "    }"
      ]
    },
    {
      "cell_type": "code",
      "execution_count": null,
      "metadata": {
        "id": "6mJR3NW_S2wp"
      },
      "outputs": [],
      "source": [
        "encoder = LabelEncoder()\n",
        "data['evt_tags_en'] = encoder.fit_transform(data['event_tags'])\n",
        "\n",
        "label2id = dict(zip(encoder.classes_, encoder.transform(encoder.classes_)))\n",
        "id2label = dict(zip(encoder.transform(encoder.classes_),encoder.classes_))"
      ]
    },
    {
      "cell_type": "code",
      "execution_count": null,
      "metadata": {
        "id": "a9hQA5A7Tt5e"
      },
      "outputs": [],
      "source": [
        "id2label = {0: 'B-evt001',1: 'B-evt002',2: 'B-evt003',3: 'B-evt004',4: 'B-evt005',5: 'B-evt006',6: 'B-evt007',7: 'B-evt008',8: 'B-evt009',9: 'B-evt010',10: 'B-evt011',11: 'B-evt012',\n",
        "12: 'B-evt013',13: 'B-evt014',14: 'B-evt015',15: 'B-evt016',16: 'B-evt017',17: 'B-evt018',18: 'B-evt019',19: 'B-evt020',20: 'B-evt021',21: 'B-evt022',22: 'B-evt023',23: 'B-evt024',\n",
        "24: 'B-evt025',25: 'B-evt026',26: 'B-evt027',27: 'B-evt028',28: 'B-evt029',29: 'B-evt030',30: 'B-evt031', 31: 'B-evt032',32: 'B-evt033',33: 'B-evt034',34: 'B-evt035',\n",
        "35: 'B-evt036',36: 'B-evt037',37: 'B-evt038',38: 'B-evt039',39: 'B-evt040',40: 'B-evt041',41: 'B-evt042',42: 'B-evt043',43: 'B-evt044',44: 'B-evt045',45: 'B-evt046',46: 'B-evt047',\n",
        "47: 'B-evt048',48: 'B-evt049',49: 'B-evt050',50: 'B-evt051',51: 'B-evt052',52: 'B-evt053',53: 'B-evt054',54: 'B-evt055',55: 'B-evt057',56: 'B-evt059',57: 'B-evt060',58: 'B-evt061',\n",
        "59: 'B-evt062',60: 'B-evt063',61: 'B-evt064',62: 'B-evt065',63: 'B-evt066',64: 'B-evt068',65: 'B-evt070',66: 'B-evt071',67: 'B-evt072',68: 'B-evt073',69: 'B-evt074',70: 'B-evt075',\n",
        "71: 'B-evt076',72: 'B-evt077',73: 'B-evt079',74: 'B-evt080',75: 'B-evt081',76: 'B-evt082',77: 'B-evt083',78: 'B-evt084',79: 'B-evt085',80: 'B-evt086',81: 'B-evt087',82: 'B-evt088',\n",
        "83: 'B-evt089',84: 'B-evt090',85: 'B-evt091',86: 'B-evt092',87: 'B-evt093',88: 'B-evt094',89: 'B-evt095',90: 'B-evt096',91: 'B-evt097',92: 'B-evt098',93: 'B-evt099',94: 'B-evt100',\n",
        "95: 'B-evt101',96: 'B-evt102',97: 'B-evt103',98: 'B-evt104',99: 'B-evt105',100: 'B-evt106',101: 'B-evt107',102: 'B-evt108',103: 'B-evt109',104: 'B-evt110',105: 'B-evt111',\n",
        "106: 'B-evt112',107: 'B-evt113',108: 'B-evt114', 109: 'B-evt115',110: 'B-evt116',111: 'B-evt117',112: 'B-evt118',113: 'B-evt119',114: 'B-evt120',115: 'B-evt121',116: 'B-evt122',\n",
        "117: 'B-evt123',118: 'B-evt124',119: 'B-evt125',120: 'B-evt126',121: 'B-evt127',122: 'B-evt128',123: 'B-evt129',124: 'B-evt130',125: 'B-evt131',126: 'B-evt132',127: 'B-evt133',\n",
        "128: 'B-evt134',129: 'B-evt135',130: 'B-evt136',131: 'B-evt137',132: 'B-evt138',133: 'B-evt139',134: 'B-evt140',135: 'B-evt141',136: 'B-evt142',137: 'B-evt143',138: 'B-evt144',139: 'I-evt064',\n",
        "140: 'I-evt065',141: 'I-evt068',142: 'I-evt071',143: 'I-evt073',144: 'I-evt085',145: 'I-evt087',146: 'I-evt089',147: 'I-evt091',148: 'I-evt095',149: 'I-evt100',150: 'I-evt104',151: 'I-evt107',\n",
        "152: 'I-evt112',153: 'I-evt119',154: 'I-evt123',155: 'I-evt124',156: 'I-evt130',157: 'I-evt132',158: 'I-evt133',159: 'I-evt136',160: 'I-evt139',161: 'I-evt142',162: 'I-evt144',\n",
        "163: 'O'}"
      ]
    },
    {
      "cell_type": "code",
      "execution_count": null,
      "metadata": {
        "id": "_quElOLzTwxS"
      },
      "outputs": [],
      "source": [
        "label2id = {'B-evt001': 0,'B-evt002': 1,'B-evt003': 2,'B-evt004': 3,'B-evt005': 4,'B-evt006': 5,'B-evt007': 6,'B-evt008': 7,'B-evt009': 8,'B-evt010': 9,'B-evt011': 10,'B-evt012': 11,\n",
        " 'B-evt013': 12,'B-evt014': 13,'B-evt015': 14,'B-evt016': 15,'B-evt017': 16,'B-evt018': 17,'B-evt019': 18,'B-evt020': 19,'B-evt021': 20,'B-evt022': 21,'B-evt023': 22,'B-evt024': 23,\n",
        " 'B-evt025': 24,'B-evt026': 25,'B-evt027': 26,'B-evt028': 27,'B-evt029': 28,'B-evt030': 29,'B-evt031': 30,'B-evt032': 31,'B-evt033': 32,'B-evt034': 33,'B-evt035': 34,'B-evt036': 35,\n",
        " 'B-evt037': 36,'B-evt038': 37,'B-evt039': 38,'B-evt040': 39,'B-evt041': 40,'B-evt042': 41,'B-evt043': 42,'B-evt044': 43,'B-evt045': 44,'B-evt046': 45,'B-evt047': 46,'B-evt048': 47,\n",
        " 'B-evt049': 48,'B-evt050': 49,'B-evt051': 50,'B-evt052': 51,'B-evt053': 52,'B-evt054': 53,'B-evt055': 54,'B-evt057': 55,'B-evt059': 56,'B-evt060': 57,'B-evt061': 58,'B-evt062': 59,\n",
        " 'B-evt063': 60, 'B-evt064': 61,'B-evt065': 62,'B-evt066': 63,'B-evt068': 64,'B-evt070': 65,'B-evt071': 66,'B-evt072': 67,'B-evt073': 68,'B-evt074': 69,'B-evt075': 70,'B-evt076': 71,\n",
        " 'B-evt077': 72,'B-evt079': 73,'B-evt080': 74,'B-evt081': 75,'B-evt082': 76,'B-evt083': 77,'B-evt084': 78,'B-evt085': 79,'B-evt086': 80,'B-evt087': 81,'B-evt088': 82,'B-evt089': 83,\n",
        " 'B-evt090': 84,'B-evt091': 85,'B-evt092': 86,'B-evt093': 87,'B-evt094': 88,'B-evt095': 89,'B-evt096': 90,'B-evt097': 91,'B-evt098': 92,'B-evt099': 93,'B-evt100': 94,'B-evt101': 95,\n",
        " 'B-evt102': 96,'B-evt103': 97,'B-evt104': 98,'B-evt105': 99,'B-evt106': 100,'B-evt107': 101,'B-evt108': 102,'B-evt109': 103,'B-evt110': 104,'B-evt111': 105,'B-evt112': 106,'B-evt113': 107,\n",
        " 'B-evt114': 108,'B-evt115': 109,'B-evt116': 110,'B-evt117': 111,'B-evt118': 112,'B-evt119': 113,'B-evt120': 114,'B-evt121': 115,'B-evt122': 116,'B-evt123': 117,'B-evt124': 118,'B-evt125': 119,\n",
        " 'B-evt126': 120,'B-evt127': 121,'B-evt128': 122,'B-evt129': 123,'B-evt130': 124,'B-evt131': 125,'B-evt132': 126,'B-evt133': 127,'B-evt134': 128,'B-evt135': 129,'B-evt136': 130,'B-evt137': 131,\n",
        " 'B-evt138': 132,'B-evt139': 133,'B-evt140': 134,'B-evt141': 135,'B-evt142': 136,'B-evt143': 137,'B-evt144': 138,'I-evt064': 139,'I-evt065': 140,'I-evt068': 141,'I-evt071': 142,'I-evt073': 143,\n",
        " 'I-evt085': 144,'I-evt087': 145,'I-evt089': 146,'I-evt091': 147,'I-evt095': 148,'I-evt100': 149,'I-evt104': 150,'I-evt107': 151,'I-evt112': 152,'I-evt119': 153,'I-evt123': 154,'I-evt124': 155,\n",
        " 'I-evt130': 156,'I-evt132': 157,'I-evt133': 158,'I-evt136': 159,'I-evt139': 160,'I-evt142': 161,'I-evt144': 162,'O': 163}"
      ]
    },
    {
      "cell_type": "code",
      "execution_count": null,
      "metadata": {
        "colab": {
          "base_uri": "https://localhost:8080/",
          "height": 104,
          "referenced_widgets": [
            "40f9c3e276d24e1f883488ea118064b6",
            "7521542557ed4abc9c831a8475868130",
            "e3de4b7d861f406c8203763d293966cd",
            "fe0c7f91a66b46f6863c7fdb787ebffd",
            "a34aae78663b44d3bebeed0b2531148f",
            "13dde6eccebe44dd955a997f0faa3858",
            "5dce74e81b5741b6b0baa887698081ac",
            "7326d05db5fb400091179fac56cd4d8f",
            "5c6020caa9c04b4abc342230d1734d03",
            "f4ad55f1912347e381e8fc3778e02305",
            "c36963e2c9d64e1688596033add00f93"
          ]
        },
        "id": "0sMdUlzLTHMk",
        "outputId": "3d965dfa-c535-4077-a6e3-a3318aa9a1d4"
      },
      "outputs": [
        {
          "data": {
            "application/vnd.jupyter.widget-view+json": {
              "model_id": "40f9c3e276d24e1f883488ea118064b6",
              "version_major": 2,
              "version_minor": 0
            },
            "text/plain": [
              "pytorch_model.bin:   0%|          | 0.00/1.78G [00:00<?, ?B/s]"
            ]
          },
          "metadata": {},
          "output_type": "display_data"
        },
        {
          "name": "stderr",
          "output_type": "stream",
          "text": [
            "Some weights of DebertaV2ForTokenClassification were not initialized from the model checkpoint at microsoft/deberta-v2-xlarge and are newly initialized: ['classifier.bias', 'classifier.weight']\n",
            "You should probably TRAIN this model on a down-stream task to be able to use it for predictions and inference.\n"
          ]
        }
      ],
      "source": [
        "model = AutoModelForTokenClassification.from_pretrained(\n",
        "    \"distilbert/distilbert-base-uncased\", num_labels=164, id2label=id2label, label2id=label2id\n",
        ").to(device)"
      ]
    },
    {
      "cell_type": "code",
      "execution_count": null,
      "metadata": {
        "colab": {
          "base_uri": "https://localhost:8080/",
          "height": 463
        },
        "id": "boh9y9bnTK3q",
        "outputId": "9c4be22a-1663-4fed-b918-4c701bbf9833"
      },
      "outputs": [
        {
          "name": "stderr",
          "output_type": "stream",
          "text": [
            "/usr/local/lib/python3.10/dist-packages/accelerate/accelerator.py:436: FutureWarning: Passing the following arguments to `Accelerator` is deprecated and will be removed in version 1.0 of Accelerate: dict_keys(['dispatch_batches', 'split_batches', 'even_batches', 'use_seedable_sampler']). Please pass an `accelerate.DataLoaderConfiguration` instead: \n",
            "dataloader_config = DataLoaderConfiguration(dispatch_batches=None, split_batches=False, even_batches=True, use_seedable_sampler=True)\n",
            "  warnings.warn(\n"
          ]
        },
        {
          "ename": "OutOfMemoryError",
          "evalue": "CUDA out of memory. Tried to allocate 752.00 MiB. GPU 0 has a total capacity of 14.75 GiB of which 219.06 MiB is free. Process 27630 has 14.53 GiB memory in use. Of the allocated memory 13.83 GiB is allocated by PyTorch, and 559.12 MiB is reserved by PyTorch but unallocated. If reserved but unallocated memory is large try setting PYTORCH_CUDA_ALLOC_CONF=expandable_segments:True to avoid fragmentation.  See documentation for Memory Management  (https://pytorch.org/docs/stable/notes/cuda.html#environment-variables)",
          "output_type": "error",
          "traceback": [
            "\u001b[0;31m---------------------------------------------------------------------------\u001b[0m",
            "\u001b[0;31mOutOfMemoryError\u001b[0m                          Traceback (most recent call last)",
            "\u001b[0;32m<ipython-input-85-64103bd9c73d>\u001b[0m in \u001b[0;36m<cell line: 23>\u001b[0;34m()\u001b[0m\n\u001b[1;32m     21\u001b[0m )\n\u001b[1;32m     22\u001b[0m \u001b[0;34m\u001b[0m\u001b[0m\n\u001b[0;32m---> 23\u001b[0;31m \u001b[0mtrainer\u001b[0m\u001b[0;34m.\u001b[0m\u001b[0mtrain\u001b[0m\u001b[0;34m(\u001b[0m\u001b[0;34m)\u001b[0m\u001b[0;34m\u001b[0m\u001b[0;34m\u001b[0m\u001b[0m\n\u001b[0m",
            "\u001b[0;32m/usr/local/lib/python3.10/dist-packages/transformers/trainer.py\u001b[0m in \u001b[0;36mtrain\u001b[0;34m(self, resume_from_checkpoint, trial, ignore_keys_for_eval, **kwargs)\u001b[0m\n\u001b[1;32m   1622\u001b[0m                 \u001b[0mhf_hub_utils\u001b[0m\u001b[0;34m.\u001b[0m\u001b[0menable_progress_bars\u001b[0m\u001b[0;34m(\u001b[0m\u001b[0;34m)\u001b[0m\u001b[0;34m\u001b[0m\u001b[0;34m\u001b[0m\u001b[0m\n\u001b[1;32m   1623\u001b[0m         \u001b[0;32melse\u001b[0m\u001b[0;34m:\u001b[0m\u001b[0;34m\u001b[0m\u001b[0;34m\u001b[0m\u001b[0m\n\u001b[0;32m-> 1624\u001b[0;31m             return inner_training_loop(\n\u001b[0m\u001b[1;32m   1625\u001b[0m                 \u001b[0margs\u001b[0m\u001b[0;34m=\u001b[0m\u001b[0margs\u001b[0m\u001b[0;34m,\u001b[0m\u001b[0;34m\u001b[0m\u001b[0;34m\u001b[0m\u001b[0m\n\u001b[1;32m   1626\u001b[0m                 \u001b[0mresume_from_checkpoint\u001b[0m\u001b[0;34m=\u001b[0m\u001b[0mresume_from_checkpoint\u001b[0m\u001b[0;34m,\u001b[0m\u001b[0;34m\u001b[0m\u001b[0;34m\u001b[0m\u001b[0m\n",
            "\u001b[0;32m/usr/local/lib/python3.10/dist-packages/transformers/trainer.py\u001b[0m in \u001b[0;36m_inner_training_loop\u001b[0;34m(self, batch_size, args, resume_from_checkpoint, trial, ignore_keys_for_eval)\u001b[0m\n\u001b[1;32m   2015\u001b[0m \u001b[0;34m\u001b[0m\u001b[0m\n\u001b[1;32m   2016\u001b[0m                     \u001b[0;31m# Optimizer step\u001b[0m\u001b[0;34m\u001b[0m\u001b[0;34m\u001b[0m\u001b[0m\n\u001b[0;32m-> 2017\u001b[0;31m                     \u001b[0mself\u001b[0m\u001b[0;34m.\u001b[0m\u001b[0moptimizer\u001b[0m\u001b[0;34m.\u001b[0m\u001b[0mstep\u001b[0m\u001b[0;34m(\u001b[0m\u001b[0;34m)\u001b[0m\u001b[0;34m\u001b[0m\u001b[0;34m\u001b[0m\u001b[0m\n\u001b[0m\u001b[1;32m   2018\u001b[0m                     \u001b[0moptimizer_was_run\u001b[0m \u001b[0;34m=\u001b[0m \u001b[0;32mnot\u001b[0m \u001b[0mself\u001b[0m\u001b[0;34m.\u001b[0m\u001b[0maccelerator\u001b[0m\u001b[0;34m.\u001b[0m\u001b[0moptimizer_step_was_skipped\u001b[0m\u001b[0;34m\u001b[0m\u001b[0;34m\u001b[0m\u001b[0m\n\u001b[1;32m   2019\u001b[0m                     \u001b[0;32mif\u001b[0m \u001b[0moptimizer_was_run\u001b[0m\u001b[0;34m:\u001b[0m\u001b[0;34m\u001b[0m\u001b[0;34m\u001b[0m\u001b[0m\n",
            "\u001b[0;32m/usr/local/lib/python3.10/dist-packages/accelerate/optimizer.py\u001b[0m in \u001b[0;36mstep\u001b[0;34m(self, closure)\u001b[0m\n\u001b[1;32m    147\u001b[0m                 \u001b[0mself\u001b[0m\u001b[0;34m.\u001b[0m\u001b[0m_accelerate_step_called\u001b[0m \u001b[0;34m=\u001b[0m \u001b[0;32mFalse\u001b[0m\u001b[0;34m\u001b[0m\u001b[0;34m\u001b[0m\u001b[0m\n\u001b[1;32m    148\u001b[0m             \u001b[0;32melse\u001b[0m\u001b[0;34m:\u001b[0m\u001b[0;34m\u001b[0m\u001b[0;34m\u001b[0m\u001b[0m\n\u001b[0;32m--> 149\u001b[0;31m                 \u001b[0mself\u001b[0m\u001b[0;34m.\u001b[0m\u001b[0moptimizer\u001b[0m\u001b[0;34m.\u001b[0m\u001b[0mstep\u001b[0m\u001b[0;34m(\u001b[0m\u001b[0mclosure\u001b[0m\u001b[0;34m)\u001b[0m\u001b[0;34m\u001b[0m\u001b[0;34m\u001b[0m\u001b[0m\n\u001b[0m\u001b[1;32m    150\u001b[0m         \u001b[0;32mif\u001b[0m \u001b[0mself\u001b[0m\u001b[0;34m.\u001b[0m\u001b[0maccelerator_state\u001b[0m\u001b[0;34m.\u001b[0m\u001b[0mdistributed_type\u001b[0m \u001b[0;34m==\u001b[0m \u001b[0mDistributedType\u001b[0m\u001b[0;34m.\u001b[0m\u001b[0mXLA\u001b[0m\u001b[0;34m:\u001b[0m\u001b[0;34m\u001b[0m\u001b[0;34m\u001b[0m\u001b[0m\n\u001b[1;32m    151\u001b[0m             \u001b[0mself\u001b[0m\u001b[0;34m.\u001b[0m\u001b[0mgradient_state\u001b[0m\u001b[0;34m.\u001b[0m\u001b[0mis_xla_gradients_synced\u001b[0m \u001b[0;34m=\u001b[0m \u001b[0;32mFalse\u001b[0m\u001b[0;34m\u001b[0m\u001b[0;34m\u001b[0m\u001b[0m\n",
            "\u001b[0;32m/usr/local/lib/python3.10/dist-packages/torch/optim/lr_scheduler.py\u001b[0m in \u001b[0;36mwrapper\u001b[0;34m(*args, **kwargs)\u001b[0m\n\u001b[1;32m     73\u001b[0m                 \u001b[0minstance\u001b[0m\u001b[0;34m.\u001b[0m\u001b[0m_step_count\u001b[0m \u001b[0;34m+=\u001b[0m \u001b[0;36m1\u001b[0m\u001b[0;34m\u001b[0m\u001b[0;34m\u001b[0m\u001b[0m\n\u001b[1;32m     74\u001b[0m                 \u001b[0mwrapped\u001b[0m \u001b[0;34m=\u001b[0m \u001b[0mfunc\u001b[0m\u001b[0;34m.\u001b[0m\u001b[0m__get__\u001b[0m\u001b[0;34m(\u001b[0m\u001b[0minstance\u001b[0m\u001b[0;34m,\u001b[0m \u001b[0mcls\u001b[0m\u001b[0;34m)\u001b[0m\u001b[0;34m\u001b[0m\u001b[0;34m\u001b[0m\u001b[0m\n\u001b[0;32m---> 75\u001b[0;31m                 \u001b[0;32mreturn\u001b[0m \u001b[0mwrapped\u001b[0m\u001b[0;34m(\u001b[0m\u001b[0;34m*\u001b[0m\u001b[0margs\u001b[0m\u001b[0;34m,\u001b[0m \u001b[0;34m**\u001b[0m\u001b[0mkwargs\u001b[0m\u001b[0;34m)\u001b[0m\u001b[0;34m\u001b[0m\u001b[0;34m\u001b[0m\u001b[0m\n\u001b[0m\u001b[1;32m     76\u001b[0m \u001b[0;34m\u001b[0m\u001b[0m\n\u001b[1;32m     77\u001b[0m             \u001b[0;31m# Note that the returned function here is no longer a bound method,\u001b[0m\u001b[0;34m\u001b[0m\u001b[0;34m\u001b[0m\u001b[0m\n",
            "\u001b[0;32m/usr/local/lib/python3.10/dist-packages/torch/optim/optimizer.py\u001b[0m in \u001b[0;36mwrapper\u001b[0;34m(*args, **kwargs)\u001b[0m\n\u001b[1;32m    383\u001b[0m                             )\n\u001b[1;32m    384\u001b[0m \u001b[0;34m\u001b[0m\u001b[0m\n\u001b[0;32m--> 385\u001b[0;31m                 \u001b[0mout\u001b[0m \u001b[0;34m=\u001b[0m \u001b[0mfunc\u001b[0m\u001b[0;34m(\u001b[0m\u001b[0;34m*\u001b[0m\u001b[0margs\u001b[0m\u001b[0;34m,\u001b[0m \u001b[0;34m**\u001b[0m\u001b[0mkwargs\u001b[0m\u001b[0;34m)\u001b[0m\u001b[0;34m\u001b[0m\u001b[0;34m\u001b[0m\u001b[0m\n\u001b[0m\u001b[1;32m    386\u001b[0m                 \u001b[0mself\u001b[0m\u001b[0;34m.\u001b[0m\u001b[0m_optimizer_step_code\u001b[0m\u001b[0;34m(\u001b[0m\u001b[0;34m)\u001b[0m\u001b[0;34m\u001b[0m\u001b[0;34m\u001b[0m\u001b[0m\n\u001b[1;32m    387\u001b[0m \u001b[0;34m\u001b[0m\u001b[0m\n",
            "\u001b[0;32m/usr/local/lib/python3.10/dist-packages/torch/optim/optimizer.py\u001b[0m in \u001b[0;36m_use_grad\u001b[0;34m(self, *args, **kwargs)\u001b[0m\n\u001b[1;32m     74\u001b[0m             \u001b[0mtorch\u001b[0m\u001b[0;34m.\u001b[0m\u001b[0mset_grad_enabled\u001b[0m\u001b[0;34m(\u001b[0m\u001b[0mself\u001b[0m\u001b[0;34m.\u001b[0m\u001b[0mdefaults\u001b[0m\u001b[0;34m[\u001b[0m\u001b[0;34m'differentiable'\u001b[0m\u001b[0;34m]\u001b[0m\u001b[0;34m)\u001b[0m\u001b[0;34m\u001b[0m\u001b[0;34m\u001b[0m\u001b[0m\n\u001b[1;32m     75\u001b[0m             \u001b[0mtorch\u001b[0m\u001b[0;34m.\u001b[0m\u001b[0m_dynamo\u001b[0m\u001b[0;34m.\u001b[0m\u001b[0mgraph_break\u001b[0m\u001b[0;34m(\u001b[0m\u001b[0;34m)\u001b[0m\u001b[0;34m\u001b[0m\u001b[0;34m\u001b[0m\u001b[0m\n\u001b[0;32m---> 76\u001b[0;31m             \u001b[0mret\u001b[0m \u001b[0;34m=\u001b[0m \u001b[0mfunc\u001b[0m\u001b[0;34m(\u001b[0m\u001b[0mself\u001b[0m\u001b[0;34m,\u001b[0m \u001b[0;34m*\u001b[0m\u001b[0margs\u001b[0m\u001b[0;34m,\u001b[0m \u001b[0;34m**\u001b[0m\u001b[0mkwargs\u001b[0m\u001b[0;34m)\u001b[0m\u001b[0;34m\u001b[0m\u001b[0;34m\u001b[0m\u001b[0m\n\u001b[0m\u001b[1;32m     77\u001b[0m         \u001b[0;32mfinally\u001b[0m\u001b[0;34m:\u001b[0m\u001b[0;34m\u001b[0m\u001b[0;34m\u001b[0m\u001b[0m\n\u001b[1;32m     78\u001b[0m             \u001b[0mtorch\u001b[0m\u001b[0;34m.\u001b[0m\u001b[0m_dynamo\u001b[0m\u001b[0;34m.\u001b[0m\u001b[0mgraph_break\u001b[0m\u001b[0;34m(\u001b[0m\u001b[0;34m)\u001b[0m\u001b[0;34m\u001b[0m\u001b[0;34m\u001b[0m\u001b[0m\n",
            "\u001b[0;32m/usr/local/lib/python3.10/dist-packages/torch/optim/adamw.py\u001b[0m in \u001b[0;36mstep\u001b[0;34m(self, closure)\u001b[0m\n\u001b[1;32m    185\u001b[0m             )\n\u001b[1;32m    186\u001b[0m \u001b[0;34m\u001b[0m\u001b[0m\n\u001b[0;32m--> 187\u001b[0;31m             adamw(\n\u001b[0m\u001b[1;32m    188\u001b[0m                 \u001b[0mparams_with_grad\u001b[0m\u001b[0;34m,\u001b[0m\u001b[0;34m\u001b[0m\u001b[0;34m\u001b[0m\u001b[0m\n\u001b[1;32m    189\u001b[0m                 \u001b[0mgrads\u001b[0m\u001b[0;34m,\u001b[0m\u001b[0;34m\u001b[0m\u001b[0;34m\u001b[0m\u001b[0m\n",
            "\u001b[0;32m/usr/local/lib/python3.10/dist-packages/torch/optim/adamw.py\u001b[0m in \u001b[0;36madamw\u001b[0;34m(params, grads, exp_avgs, exp_avg_sqs, max_exp_avg_sqs, state_steps, foreach, capturable, differentiable, fused, grad_scale, found_inf, has_complex, amsgrad, beta1, beta2, lr, weight_decay, eps, maximize)\u001b[0m\n\u001b[1;32m    337\u001b[0m         \u001b[0mfunc\u001b[0m \u001b[0;34m=\u001b[0m \u001b[0m_single_tensor_adamw\u001b[0m\u001b[0;34m\u001b[0m\u001b[0;34m\u001b[0m\u001b[0m\n\u001b[1;32m    338\u001b[0m \u001b[0;34m\u001b[0m\u001b[0m\n\u001b[0;32m--> 339\u001b[0;31m     func(\n\u001b[0m\u001b[1;32m    340\u001b[0m         \u001b[0mparams\u001b[0m\u001b[0;34m,\u001b[0m\u001b[0;34m\u001b[0m\u001b[0;34m\u001b[0m\u001b[0m\n\u001b[1;32m    341\u001b[0m         \u001b[0mgrads\u001b[0m\u001b[0;34m,\u001b[0m\u001b[0;34m\u001b[0m\u001b[0;34m\u001b[0m\u001b[0m\n",
            "\u001b[0;32m/usr/local/lib/python3.10/dist-packages/torch/optim/adamw.py\u001b[0m in \u001b[0;36m_multi_tensor_adamw\u001b[0;34m(params, grads, exp_avgs, exp_avg_sqs, max_exp_avg_sqs, state_steps, grad_scale, found_inf, amsgrad, beta1, beta2, lr, weight_decay, eps, maximize, capturable, differentiable, has_complex)\u001b[0m\n\u001b[1;32m    606\u001b[0m                 \u001b[0mexp_avg_sq_sqrt\u001b[0m \u001b[0;34m=\u001b[0m \u001b[0mtorch\u001b[0m\u001b[0;34m.\u001b[0m\u001b[0m_foreach_sqrt\u001b[0m\u001b[0;34m(\u001b[0m\u001b[0mdevice_max_exp_avg_sqs\u001b[0m\u001b[0;34m)\u001b[0m\u001b[0;34m\u001b[0m\u001b[0;34m\u001b[0m\u001b[0m\n\u001b[1;32m    607\u001b[0m             \u001b[0;32melse\u001b[0m\u001b[0;34m:\u001b[0m\u001b[0;34m\u001b[0m\u001b[0;34m\u001b[0m\u001b[0m\n\u001b[0;32m--> 608\u001b[0;31m                 \u001b[0mexp_avg_sq_sqrt\u001b[0m \u001b[0;34m=\u001b[0m \u001b[0mtorch\u001b[0m\u001b[0;34m.\u001b[0m\u001b[0m_foreach_sqrt\u001b[0m\u001b[0;34m(\u001b[0m\u001b[0mdevice_exp_avg_sqs\u001b[0m\u001b[0;34m)\u001b[0m\u001b[0;34m\u001b[0m\u001b[0;34m\u001b[0m\u001b[0m\n\u001b[0m\u001b[1;32m    609\u001b[0m \u001b[0;34m\u001b[0m\u001b[0m\n\u001b[1;32m    610\u001b[0m             \u001b[0mtorch\u001b[0m\u001b[0;34m.\u001b[0m\u001b[0m_foreach_div_\u001b[0m\u001b[0;34m(\u001b[0m\u001b[0mexp_avg_sq_sqrt\u001b[0m\u001b[0;34m,\u001b[0m \u001b[0mbias_correction2_sqrt\u001b[0m\u001b[0;34m)\u001b[0m\u001b[0;34m\u001b[0m\u001b[0;34m\u001b[0m\u001b[0m\n",
            "\u001b[0;31mOutOfMemoryError\u001b[0m: CUDA out of memory. Tried to allocate 752.00 MiB. GPU 0 has a total capacity of 14.75 GiB of which 219.06 MiB is free. Process 27630 has 14.53 GiB memory in use. Of the allocated memory 13.83 GiB is allocated by PyTorch, and 559.12 MiB is reserved by PyTorch but unallocated. If reserved but unallocated memory is large try setting PYTORCH_CUDA_ALLOC_CONF=expandable_segments:True to avoid fragmentation.  See documentation for Memory Management  (https://pytorch.org/docs/stable/notes/cuda.html#environment-variables)"
          ]
        }
      ],
      "source": [
        "training_args = TrainingArguments(\n",
        "    output_dir=\"ee_rams_model\",\n",
        "    learning_rate=2e-5,\n",
        "    per_device_train_batch_size=1,\n",
        "    per_device_eval_batch_size=1,\n",
        "    num_train_epochs=2,\n",
        "    weight_decay=0.01,\n",
        "    evaluation_strategy=\"epoch\",\n",
        "    save_strategy=\"epoch\",\n",
        "    load_best_model_at_end=True,\n",
        ")\n",
        "\n",
        "trainer = Trainer(\n",
        "    model=model,\n",
        "    args=training_args,\n",
        "    train_dataset=tokenized_rams[\"train\"],\n",
        "    eval_dataset=tokenized_rams[\"test\"],\n",
        "    tokenizer=tokenizer,\n",
        "    data_collator=data_collator,\n",
        "    compute_metrics=compute_metrics,\n",
        ")\n",
        "\n",
        "trainer.train()"
      ]
    },
    {
      "cell_type": "code",
      "execution_count": null,
      "metadata": {
        "id": "bYIpowWqZcE1"
      },
      "outputs": [],
      "source": [
        "!pip install accelerate -U"
      ]
    },
    {
      "cell_type": "code",
      "execution_count": null,
      "metadata": {
        "id": "YfAvPbOlAH-o"
      },
      "outputs": [],
      "source": []
    }
  ],
  "metadata": {
    "colab": {
      "provenance": [],
      "mount_file_id": "1FVqgTEIUmZc40fmNQ4bid5m9M-22lFqa",
      "authorship_tag": "ABX9TyPw0y8CCfIvCpevLRLr4Rnp",
      "include_colab_link": true
    },
    "kernelspec": {
      "display_name": "Python 3",
      "name": "python3"
    },
    "language_info": {
      "name": "python"
    },
    "widgets": {
      "application/vnd.jupyter.widget-state+json": {
        "0119fddd6873409781695693d4a43fb4": {
          "model_module": "@jupyter-widgets/controls",
          "model_module_version": "1.5.0",
          "model_name": "HTMLModel",
          "state": {
            "_dom_classes": [],
            "_model_module": "@jupyter-widgets/controls",
            "_model_module_version": "1.5.0",
            "_model_name": "HTMLModel",
            "_view_count": null,
            "_view_module": "@jupyter-widgets/controls",
            "_view_module_version": "1.5.0",
            "_view_name": "HTMLView",
            "description": "",
            "description_tooltip": null,
            "layout": "IPY_MODEL_b5c8e179754e4a0cb59f14975e3d7c76",
            "placeholder": "​",
            "style": "IPY_MODEL_cef7a363baf7469e9159cf59c4bef169",
            "value": "Map: 100%"
          }
        },
        "02bd86e9ad59483cbef96cf307b8de6a": {
          "model_module": "@jupyter-widgets/controls",
          "model_module_version": "1.5.0",
          "model_name": "HTMLModel",
          "state": {
            "_dom_classes": [],
            "_model_module": "@jupyter-widgets/controls",
            "_model_module_version": "1.5.0",
            "_model_name": "HTMLModel",
            "_view_count": null,
            "_view_module": "@jupyter-widgets/controls",
            "_view_module_version": "1.5.0",
            "_view_name": "HTMLView",
            "description": "",
            "description_tooltip": null,
            "layout": "IPY_MODEL_878d17581741408a949a9cf6e92dc926",
            "placeholder": "​",
            "style": "IPY_MODEL_0d6e30ec522a42beb97fd2c5edb68dd4",
            "value": " 7329/7329 [00:08&lt;00:00, 946.77 examples/s]"
          }
        },
        "0b622e400a2844cb9402150b51a676b4": {
          "model_module": "@jupyter-widgets/base",
          "model_module_version": "1.2.0",
          "model_name": "LayoutModel",
          "state": {
            "_model_module": "@jupyter-widgets/base",
            "_model_module_version": "1.2.0",
            "_model_name": "LayoutModel",
            "_view_count": null,
            "_view_module": "@jupyter-widgets/base",
            "_view_module_version": "1.2.0",
            "_view_name": "LayoutView",
            "align_content": null,
            "align_items": null,
            "align_self": null,
            "border": null,
            "bottom": null,
            "display": null,
            "flex": null,
            "flex_flow": null,
            "grid_area": null,
            "grid_auto_columns": null,
            "grid_auto_flow": null,
            "grid_auto_rows": null,
            "grid_column": null,
            "grid_gap": null,
            "grid_row": null,
            "grid_template_areas": null,
            "grid_template_columns": null,
            "grid_template_rows": null,
            "height": null,
            "justify_content": null,
            "justify_items": null,
            "left": null,
            "margin": null,
            "max_height": null,
            "max_width": null,
            "min_height": null,
            "min_width": null,
            "object_fit": null,
            "object_position": null,
            "order": null,
            "overflow": null,
            "overflow_x": null,
            "overflow_y": null,
            "padding": null,
            "right": null,
            "top": null,
            "visibility": null,
            "width": null
          }
        },
        "0c9ac6ed0e0140708551954384ce2f63": {
          "model_module": "@jupyter-widgets/controls",
          "model_module_version": "1.5.0",
          "model_name": "HTMLModel",
          "state": {
            "_dom_classes": [],
            "_model_module": "@jupyter-widgets/controls",
            "_model_module_version": "1.5.0",
            "_model_name": "HTMLModel",
            "_view_count": null,
            "_view_module": "@jupyter-widgets/controls",
            "_view_module_version": "1.5.0",
            "_view_name": "HTMLView",
            "description": "",
            "description_tooltip": null,
            "layout": "IPY_MODEL_8d5259176ed4461f940dc8955b9746af",
            "placeholder": "​",
            "style": "IPY_MODEL_2a20292af43947ab8bfcd6fdd590bdef",
            "value": " 2.45M/2.45M [00:00&lt;00:00, 25.8MB/s]"
          }
        },
        "0d6e30ec522a42beb97fd2c5edb68dd4": {
          "model_module": "@jupyter-widgets/controls",
          "model_module_version": "1.5.0",
          "model_name": "DescriptionStyleModel",
          "state": {
            "_model_module": "@jupyter-widgets/controls",
            "_model_module_version": "1.5.0",
            "_model_name": "DescriptionStyleModel",
            "_view_count": null,
            "_view_module": "@jupyter-widgets/base",
            "_view_module_version": "1.2.0",
            "_view_name": "StyleView",
            "description_width": ""
          }
        },
        "13dde6eccebe44dd955a997f0faa3858": {
          "model_module": "@jupyter-widgets/base",
          "model_module_version": "1.2.0",
          "model_name": "LayoutModel",
          "state": {
            "_model_module": "@jupyter-widgets/base",
            "_model_module_version": "1.2.0",
            "_model_name": "LayoutModel",
            "_view_count": null,
            "_view_module": "@jupyter-widgets/base",
            "_view_module_version": "1.2.0",
            "_view_name": "LayoutView",
            "align_content": null,
            "align_items": null,
            "align_self": null,
            "border": null,
            "bottom": null,
            "display": null,
            "flex": null,
            "flex_flow": null,
            "grid_area": null,
            "grid_auto_columns": null,
            "grid_auto_flow": null,
            "grid_auto_rows": null,
            "grid_column": null,
            "grid_gap": null,
            "grid_row": null,
            "grid_template_areas": null,
            "grid_template_columns": null,
            "grid_template_rows": null,
            "height": null,
            "justify_content": null,
            "justify_items": null,
            "left": null,
            "margin": null,
            "max_height": null,
            "max_width": null,
            "min_height": null,
            "min_width": null,
            "object_fit": null,
            "object_position": null,
            "order": null,
            "overflow": null,
            "overflow_x": null,
            "overflow_y": null,
            "padding": null,
            "right": null,
            "top": null,
            "visibility": null,
            "width": null
          }
        },
        "1b6296432b2e47efa28d0e54a77a08c7": {
          "model_module": "@jupyter-widgets/controls",
          "model_module_version": "1.5.0",
          "model_name": "FloatProgressModel",
          "state": {
            "_dom_classes": [],
            "_model_module": "@jupyter-widgets/controls",
            "_model_module_version": "1.5.0",
            "_model_name": "FloatProgressModel",
            "_view_count": null,
            "_view_module": "@jupyter-widgets/controls",
            "_view_module_version": "1.5.0",
            "_view_name": "ProgressView",
            "bar_style": "success",
            "description": "",
            "description_tooltip": null,
            "layout": "IPY_MODEL_a6ed487994f34bbbbedac96e645ec0ee",
            "max": 7329,
            "min": 0,
            "orientation": "horizontal",
            "style": "IPY_MODEL_3698372d85974a48b2dd24ebde743df7",
            "value": 7329
          }
        },
        "243f13255c9a4d40a6a3b204a282b5ea": {
          "model_module": "@jupyter-widgets/base",
          "model_module_version": "1.2.0",
          "model_name": "LayoutModel",
          "state": {
            "_model_module": "@jupyter-widgets/base",
            "_model_module_version": "1.2.0",
            "_model_name": "LayoutModel",
            "_view_count": null,
            "_view_module": "@jupyter-widgets/base",
            "_view_module_version": "1.2.0",
            "_view_name": "LayoutView",
            "align_content": null,
            "align_items": null,
            "align_self": null,
            "border": null,
            "bottom": null,
            "display": null,
            "flex": null,
            "flex_flow": null,
            "grid_area": null,
            "grid_auto_columns": null,
            "grid_auto_flow": null,
            "grid_auto_rows": null,
            "grid_column": null,
            "grid_gap": null,
            "grid_row": null,
            "grid_template_areas": null,
            "grid_template_columns": null,
            "grid_template_rows": null,
            "height": null,
            "justify_content": null,
            "justify_items": null,
            "left": null,
            "margin": null,
            "max_height": null,
            "max_width": null,
            "min_height": null,
            "min_width": null,
            "object_fit": null,
            "object_position": null,
            "order": null,
            "overflow": null,
            "overflow_x": null,
            "overflow_y": null,
            "padding": null,
            "right": null,
            "top": null,
            "visibility": null,
            "width": null
          }
        },
        "259be6c021f544bea471429609db0ef5": {
          "model_module": "@jupyter-widgets/controls",
          "model_module_version": "1.5.0",
          "model_name": "DescriptionStyleModel",
          "state": {
            "_model_module": "@jupyter-widgets/controls",
            "_model_module_version": "1.5.0",
            "_model_name": "DescriptionStyleModel",
            "_view_count": null,
            "_view_module": "@jupyter-widgets/base",
            "_view_module_version": "1.2.0",
            "_view_name": "StyleView",
            "description_width": ""
          }
        },
        "26b6da9f57c740ec949f8a4a9ef4f3ed": {
          "model_module": "@jupyter-widgets/controls",
          "model_module_version": "1.5.0",
          "model_name": "HBoxModel",
          "state": {
            "_dom_classes": [],
            "_model_module": "@jupyter-widgets/controls",
            "_model_module_version": "1.5.0",
            "_model_name": "HBoxModel",
            "_view_count": null,
            "_view_module": "@jupyter-widgets/controls",
            "_view_module_version": "1.5.0",
            "_view_name": "HBoxView",
            "box_style": "",
            "children": [
              "IPY_MODEL_fcfbad43496941d490f603db8a74f26c",
              "IPY_MODEL_f7851102cfbe493ba981b76d7d70f3e4",
              "IPY_MODEL_b549316fa1e846bd8c7c02e4309bdfde"
            ],
            "layout": "IPY_MODEL_29c4a45c5a2747d6b5a694f23cdd3c0a"
          }
        },
        "29c4a45c5a2747d6b5a694f23cdd3c0a": {
          "model_module": "@jupyter-widgets/base",
          "model_module_version": "1.2.0",
          "model_name": "LayoutModel",
          "state": {
            "_model_module": "@jupyter-widgets/base",
            "_model_module_version": "1.2.0",
            "_model_name": "LayoutModel",
            "_view_count": null,
            "_view_module": "@jupyter-widgets/base",
            "_view_module_version": "1.2.0",
            "_view_name": "LayoutView",
            "align_content": null,
            "align_items": null,
            "align_self": null,
            "border": null,
            "bottom": null,
            "display": null,
            "flex": null,
            "flex_flow": null,
            "grid_area": null,
            "grid_auto_columns": null,
            "grid_auto_flow": null,
            "grid_auto_rows": null,
            "grid_column": null,
            "grid_gap": null,
            "grid_row": null,
            "grid_template_areas": null,
            "grid_template_columns": null,
            "grid_template_rows": null,
            "height": null,
            "justify_content": null,
            "justify_items": null,
            "left": null,
            "margin": null,
            "max_height": null,
            "max_width": null,
            "min_height": null,
            "min_width": null,
            "object_fit": null,
            "object_position": null,
            "order": null,
            "overflow": null,
            "overflow_x": null,
            "overflow_y": null,
            "padding": null,
            "right": null,
            "top": null,
            "visibility": null,
            "width": null
          }
        },
        "2a066d3d817d432c988c7af7bedd897c": {
          "model_module": "@jupyter-widgets/controls",
          "model_module_version": "1.5.0",
          "model_name": "HBoxModel",
          "state": {
            "_dom_classes": [],
            "_model_module": "@jupyter-widgets/controls",
            "_model_module_version": "1.5.0",
            "_model_name": "HBoxModel",
            "_view_count": null,
            "_view_module": "@jupyter-widgets/controls",
            "_view_module_version": "1.5.0",
            "_view_name": "HBoxView",
            "box_style": "",
            "children": [
              "IPY_MODEL_933656ec717c407a8c9f17cc2ee24291",
              "IPY_MODEL_b9c5f6fed1d3499fa16165c004bd32e8",
              "IPY_MODEL_471643a795e64b8285f7a444d584e299"
            ],
            "layout": "IPY_MODEL_243f13255c9a4d40a6a3b204a282b5ea"
          }
        },
        "2a20292af43947ab8bfcd6fdd590bdef": {
          "model_module": "@jupyter-widgets/controls",
          "model_module_version": "1.5.0",
          "model_name": "DescriptionStyleModel",
          "state": {
            "_model_module": "@jupyter-widgets/controls",
            "_model_module_version": "1.5.0",
            "_model_name": "DescriptionStyleModel",
            "_view_count": null,
            "_view_module": "@jupyter-widgets/base",
            "_view_module_version": "1.2.0",
            "_view_name": "StyleView",
            "description_width": ""
          }
        },
        "3134f186e8a64737bc3015a9f4686eb0": {
          "model_module": "@jupyter-widgets/controls",
          "model_module_version": "1.5.0",
          "model_name": "HTMLModel",
          "state": {
            "_dom_classes": [],
            "_model_module": "@jupyter-widgets/controls",
            "_model_module_version": "1.5.0",
            "_model_name": "HTMLModel",
            "_view_count": null,
            "_view_module": "@jupyter-widgets/controls",
            "_view_module_version": "1.5.0",
            "_view_name": "HTMLView",
            "description": "",
            "description_tooltip": null,
            "layout": "IPY_MODEL_349170346eb84d29824431fcb1d84a75",
            "placeholder": "​",
            "style": "IPY_MODEL_c04875c5f5364cc8b2264d07761f43ed",
            "value": " 52.0/52.0 [00:00&lt;00:00, 3.52kB/s]"
          }
        },
        "31c9d288d74e41fbab0d4c7537385def": {
          "model_module": "@jupyter-widgets/base",
          "model_module_version": "1.2.0",
          "model_name": "LayoutModel",
          "state": {
            "_model_module": "@jupyter-widgets/base",
            "_model_module_version": "1.2.0",
            "_model_name": "LayoutModel",
            "_view_count": null,
            "_view_module": "@jupyter-widgets/base",
            "_view_module_version": "1.2.0",
            "_view_name": "LayoutView",
            "align_content": null,
            "align_items": null,
            "align_self": null,
            "border": null,
            "bottom": null,
            "display": null,
            "flex": null,
            "flex_flow": null,
            "grid_area": null,
            "grid_auto_columns": null,
            "grid_auto_flow": null,
            "grid_auto_rows": null,
            "grid_column": null,
            "grid_gap": null,
            "grid_row": null,
            "grid_template_areas": null,
            "grid_template_columns": null,
            "grid_template_rows": null,
            "height": null,
            "justify_content": null,
            "justify_items": null,
            "left": null,
            "margin": null,
            "max_height": null,
            "max_width": null,
            "min_height": null,
            "min_width": null,
            "object_fit": null,
            "object_position": null,
            "order": null,
            "overflow": null,
            "overflow_x": null,
            "overflow_y": null,
            "padding": null,
            "right": null,
            "top": null,
            "visibility": null,
            "width": null
          }
        },
        "349170346eb84d29824431fcb1d84a75": {
          "model_module": "@jupyter-widgets/base",
          "model_module_version": "1.2.0",
          "model_name": "LayoutModel",
          "state": {
            "_model_module": "@jupyter-widgets/base",
            "_model_module_version": "1.2.0",
            "_model_name": "LayoutModel",
            "_view_count": null,
            "_view_module": "@jupyter-widgets/base",
            "_view_module_version": "1.2.0",
            "_view_name": "LayoutView",
            "align_content": null,
            "align_items": null,
            "align_self": null,
            "border": null,
            "bottom": null,
            "display": null,
            "flex": null,
            "flex_flow": null,
            "grid_area": null,
            "grid_auto_columns": null,
            "grid_auto_flow": null,
            "grid_auto_rows": null,
            "grid_column": null,
            "grid_gap": null,
            "grid_row": null,
            "grid_template_areas": null,
            "grid_template_columns": null,
            "grid_template_rows": null,
            "height": null,
            "justify_content": null,
            "justify_items": null,
            "left": null,
            "margin": null,
            "max_height": null,
            "max_width": null,
            "min_height": null,
            "min_width": null,
            "object_fit": null,
            "object_position": null,
            "order": null,
            "overflow": null,
            "overflow_x": null,
            "overflow_y": null,
            "padding": null,
            "right": null,
            "top": null,
            "visibility": null,
            "width": null
          }
        },
        "3698372d85974a48b2dd24ebde743df7": {
          "model_module": "@jupyter-widgets/controls",
          "model_module_version": "1.5.0",
          "model_name": "ProgressStyleModel",
          "state": {
            "_model_module": "@jupyter-widgets/controls",
            "_model_module_version": "1.5.0",
            "_model_name": "ProgressStyleModel",
            "_view_count": null,
            "_view_module": "@jupyter-widgets/base",
            "_view_module_version": "1.2.0",
            "_view_name": "StyleView",
            "bar_color": null,
            "description_width": ""
          }
        },
        "372b0830f56249aaadf7f72800f53a1f": {
          "model_module": "@jupyter-widgets/base",
          "model_module_version": "1.2.0",
          "model_name": "LayoutModel",
          "state": {
            "_model_module": "@jupyter-widgets/base",
            "_model_module_version": "1.2.0",
            "_model_name": "LayoutModel",
            "_view_count": null,
            "_view_module": "@jupyter-widgets/base",
            "_view_module_version": "1.2.0",
            "_view_name": "LayoutView",
            "align_content": null,
            "align_items": null,
            "align_self": null,
            "border": null,
            "bottom": null,
            "display": null,
            "flex": null,
            "flex_flow": null,
            "grid_area": null,
            "grid_auto_columns": null,
            "grid_auto_flow": null,
            "grid_auto_rows": null,
            "grid_column": null,
            "grid_gap": null,
            "grid_row": null,
            "grid_template_areas": null,
            "grid_template_columns": null,
            "grid_template_rows": null,
            "height": null,
            "justify_content": null,
            "justify_items": null,
            "left": null,
            "margin": null,
            "max_height": null,
            "max_width": null,
            "min_height": null,
            "min_width": null,
            "object_fit": null,
            "object_position": null,
            "order": null,
            "overflow": null,
            "overflow_x": null,
            "overflow_y": null,
            "padding": null,
            "right": null,
            "top": null,
            "visibility": null,
            "width": null
          }
        },
        "39cb1e7d10bf4d7287d4b52e2ce60e6e": {
          "model_module": "@jupyter-widgets/base",
          "model_module_version": "1.2.0",
          "model_name": "LayoutModel",
          "state": {
            "_model_module": "@jupyter-widgets/base",
            "_model_module_version": "1.2.0",
            "_model_name": "LayoutModel",
            "_view_count": null,
            "_view_module": "@jupyter-widgets/base",
            "_view_module_version": "1.2.0",
            "_view_name": "LayoutView",
            "align_content": null,
            "align_items": null,
            "align_self": null,
            "border": null,
            "bottom": null,
            "display": null,
            "flex": null,
            "flex_flow": null,
            "grid_area": null,
            "grid_auto_columns": null,
            "grid_auto_flow": null,
            "grid_auto_rows": null,
            "grid_column": null,
            "grid_gap": null,
            "grid_row": null,
            "grid_template_areas": null,
            "grid_template_columns": null,
            "grid_template_rows": null,
            "height": null,
            "justify_content": null,
            "justify_items": null,
            "left": null,
            "margin": null,
            "max_height": null,
            "max_width": null,
            "min_height": null,
            "min_width": null,
            "object_fit": null,
            "object_position": null,
            "order": null,
            "overflow": null,
            "overflow_x": null,
            "overflow_y": null,
            "padding": null,
            "right": null,
            "top": null,
            "visibility": null,
            "width": null
          }
        },
        "3d528d0444ff43da991211c6ba9719cb": {
          "model_module": "@jupyter-widgets/controls",
          "model_module_version": "1.5.0",
          "model_name": "FloatProgressModel",
          "state": {
            "_dom_classes": [],
            "_model_module": "@jupyter-widgets/controls",
            "_model_module_version": "1.5.0",
            "_model_name": "FloatProgressModel",
            "_view_count": null,
            "_view_module": "@jupyter-widgets/controls",
            "_view_module_version": "1.5.0",
            "_view_name": "ProgressView",
            "bar_style": "success",
            "description": "",
            "description_tooltip": null,
            "layout": "IPY_MODEL_c38159c38245404ca883a3f22e3ba834",
            "max": 52,
            "min": 0,
            "orientation": "horizontal",
            "style": "IPY_MODEL_9ffc518c75b64680a701deba83ba151c",
            "value": 52
          }
        },
        "40f9c3e276d24e1f883488ea118064b6": {
          "model_module": "@jupyter-widgets/controls",
          "model_module_version": "1.5.0",
          "model_name": "HBoxModel",
          "state": {
            "_dom_classes": [],
            "_model_module": "@jupyter-widgets/controls",
            "_model_module_version": "1.5.0",
            "_model_name": "HBoxModel",
            "_view_count": null,
            "_view_module": "@jupyter-widgets/controls",
            "_view_module_version": "1.5.0",
            "_view_name": "HBoxView",
            "box_style": "",
            "children": [
              "IPY_MODEL_7521542557ed4abc9c831a8475868130",
              "IPY_MODEL_e3de4b7d861f406c8203763d293966cd",
              "IPY_MODEL_fe0c7f91a66b46f6863c7fdb787ebffd"
            ],
            "layout": "IPY_MODEL_a34aae78663b44d3bebeed0b2531148f"
          }
        },
        "471643a795e64b8285f7a444d584e299": {
          "model_module": "@jupyter-widgets/controls",
          "model_module_version": "1.5.0",
          "model_name": "HTMLModel",
          "state": {
            "_dom_classes": [],
            "_model_module": "@jupyter-widgets/controls",
            "_model_module_version": "1.5.0",
            "_model_name": "HTMLModel",
            "_view_count": null,
            "_view_module": "@jupyter-widgets/controls",
            "_view_module_version": "1.5.0",
            "_view_name": "HTMLView",
            "description": "",
            "description_tooltip": null,
            "layout": "IPY_MODEL_372b0830f56249aaadf7f72800f53a1f",
            "placeholder": "​",
            "style": "IPY_MODEL_e25abdc6192846c9ac0810dbe895dd51",
            "value": " 924/924 [00:00&lt;00:00, 1040.84 examples/s]"
          }
        },
        "4b05a34257ea4acca6fe7f60b2bf7884": {
          "model_module": "@jupyter-widgets/base",
          "model_module_version": "1.2.0",
          "model_name": "LayoutModel",
          "state": {
            "_model_module": "@jupyter-widgets/base",
            "_model_module_version": "1.2.0",
            "_model_name": "LayoutModel",
            "_view_count": null,
            "_view_module": "@jupyter-widgets/base",
            "_view_module_version": "1.2.0",
            "_view_name": "LayoutView",
            "align_content": null,
            "align_items": null,
            "align_self": null,
            "border": null,
            "bottom": null,
            "display": null,
            "flex": null,
            "flex_flow": null,
            "grid_area": null,
            "grid_auto_columns": null,
            "grid_auto_flow": null,
            "grid_auto_rows": null,
            "grid_column": null,
            "grid_gap": null,
            "grid_row": null,
            "grid_template_areas": null,
            "grid_template_columns": null,
            "grid_template_rows": null,
            "height": null,
            "justify_content": null,
            "justify_items": null,
            "left": null,
            "margin": null,
            "max_height": null,
            "max_width": null,
            "min_height": null,
            "min_width": null,
            "object_fit": null,
            "object_position": null,
            "order": null,
            "overflow": null,
            "overflow_x": null,
            "overflow_y": null,
            "padding": null,
            "right": null,
            "top": null,
            "visibility": null,
            "width": null
          }
        },
        "52e9ac59012747e285f99bb1804f0865": {
          "model_module": "@jupyter-widgets/controls",
          "model_module_version": "1.5.0",
          "model_name": "DescriptionStyleModel",
          "state": {
            "_model_module": "@jupyter-widgets/controls",
            "_model_module_version": "1.5.0",
            "_model_name": "DescriptionStyleModel",
            "_view_count": null,
            "_view_module": "@jupyter-widgets/base",
            "_view_module_version": "1.2.0",
            "_view_name": "StyleView",
            "description_width": ""
          }
        },
        "57a81980bbb74df1b2a19e6442f3a5ea": {
          "model_module": "@jupyter-widgets/controls",
          "model_module_version": "1.5.0",
          "model_name": "DescriptionStyleModel",
          "state": {
            "_model_module": "@jupyter-widgets/controls",
            "_model_module_version": "1.5.0",
            "_model_name": "DescriptionStyleModel",
            "_view_count": null,
            "_view_module": "@jupyter-widgets/base",
            "_view_module_version": "1.2.0",
            "_view_name": "StyleView",
            "description_width": ""
          }
        },
        "5c6020caa9c04b4abc342230d1734d03": {
          "model_module": "@jupyter-widgets/controls",
          "model_module_version": "1.5.0",
          "model_name": "ProgressStyleModel",
          "state": {
            "_model_module": "@jupyter-widgets/controls",
            "_model_module_version": "1.5.0",
            "_model_name": "ProgressStyleModel",
            "_view_count": null,
            "_view_module": "@jupyter-widgets/base",
            "_view_module_version": "1.2.0",
            "_view_name": "StyleView",
            "bar_color": null,
            "description_width": ""
          }
        },
        "5dce74e81b5741b6b0baa887698081ac": {
          "model_module": "@jupyter-widgets/controls",
          "model_module_version": "1.5.0",
          "model_name": "DescriptionStyleModel",
          "state": {
            "_model_module": "@jupyter-widgets/controls",
            "_model_module_version": "1.5.0",
            "_model_name": "DescriptionStyleModel",
            "_view_count": null,
            "_view_module": "@jupyter-widgets/base",
            "_view_module_version": "1.2.0",
            "_view_name": "StyleView",
            "description_width": ""
          }
        },
        "6439c9bf55494baebd0d38fe0b81fefc": {
          "model_module": "@jupyter-widgets/base",
          "model_module_version": "1.2.0",
          "model_name": "LayoutModel",
          "state": {
            "_model_module": "@jupyter-widgets/base",
            "_model_module_version": "1.2.0",
            "_model_name": "LayoutModel",
            "_view_count": null,
            "_view_module": "@jupyter-widgets/base",
            "_view_module_version": "1.2.0",
            "_view_name": "LayoutView",
            "align_content": null,
            "align_items": null,
            "align_self": null,
            "border": null,
            "bottom": null,
            "display": null,
            "flex": null,
            "flex_flow": null,
            "grid_area": null,
            "grid_auto_columns": null,
            "grid_auto_flow": null,
            "grid_auto_rows": null,
            "grid_column": null,
            "grid_gap": null,
            "grid_row": null,
            "grid_template_areas": null,
            "grid_template_columns": null,
            "grid_template_rows": null,
            "height": null,
            "justify_content": null,
            "justify_items": null,
            "left": null,
            "margin": null,
            "max_height": null,
            "max_width": null,
            "min_height": null,
            "min_width": null,
            "object_fit": null,
            "object_position": null,
            "order": null,
            "overflow": null,
            "overflow_x": null,
            "overflow_y": null,
            "padding": null,
            "right": null,
            "top": null,
            "visibility": null,
            "width": null
          }
        },
        "6d37d680e76b4559aa8b0fc0b936e739": {
          "model_module": "@jupyter-widgets/controls",
          "model_module_version": "1.5.0",
          "model_name": "DescriptionStyleModel",
          "state": {
            "_model_module": "@jupyter-widgets/controls",
            "_model_module_version": "1.5.0",
            "_model_name": "DescriptionStyleModel",
            "_view_count": null,
            "_view_module": "@jupyter-widgets/base",
            "_view_module_version": "1.2.0",
            "_view_name": "StyleView",
            "description_width": ""
          }
        },
        "6de645ae1e8d47a4ac809737f5be50e7": {
          "model_module": "@jupyter-widgets/controls",
          "model_module_version": "1.5.0",
          "model_name": "HBoxModel",
          "state": {
            "_dom_classes": [],
            "_model_module": "@jupyter-widgets/controls",
            "_model_module_version": "1.5.0",
            "_model_name": "HBoxModel",
            "_view_count": null,
            "_view_module": "@jupyter-widgets/controls",
            "_view_module_version": "1.5.0",
            "_view_name": "HBoxView",
            "box_style": "",
            "children": [
              "IPY_MODEL_a2dfb86e0d2c41d7b59583223e2982b2",
              "IPY_MODEL_3d528d0444ff43da991211c6ba9719cb",
              "IPY_MODEL_3134f186e8a64737bc3015a9f4686eb0"
            ],
            "layout": "IPY_MODEL_e1e351242e7647ee8875c88d4b8b6365"
          }
        },
        "7326d05db5fb400091179fac56cd4d8f": {
          "model_module": "@jupyter-widgets/base",
          "model_module_version": "1.2.0",
          "model_name": "LayoutModel",
          "state": {
            "_model_module": "@jupyter-widgets/base",
            "_model_module_version": "1.2.0",
            "_model_name": "LayoutModel",
            "_view_count": null,
            "_view_module": "@jupyter-widgets/base",
            "_view_module_version": "1.2.0",
            "_view_name": "LayoutView",
            "align_content": null,
            "align_items": null,
            "align_self": null,
            "border": null,
            "bottom": null,
            "display": null,
            "flex": null,
            "flex_flow": null,
            "grid_area": null,
            "grid_auto_columns": null,
            "grid_auto_flow": null,
            "grid_auto_rows": null,
            "grid_column": null,
            "grid_gap": null,
            "grid_row": null,
            "grid_template_areas": null,
            "grid_template_columns": null,
            "grid_template_rows": null,
            "height": null,
            "justify_content": null,
            "justify_items": null,
            "left": null,
            "margin": null,
            "max_height": null,
            "max_width": null,
            "min_height": null,
            "min_width": null,
            "object_fit": null,
            "object_position": null,
            "order": null,
            "overflow": null,
            "overflow_x": null,
            "overflow_y": null,
            "padding": null,
            "right": null,
            "top": null,
            "visibility": null,
            "width": null
          }
        },
        "7521542557ed4abc9c831a8475868130": {
          "model_module": "@jupyter-widgets/controls",
          "model_module_version": "1.5.0",
          "model_name": "HTMLModel",
          "state": {
            "_dom_classes": [],
            "_model_module": "@jupyter-widgets/controls",
            "_model_module_version": "1.5.0",
            "_model_name": "HTMLModel",
            "_view_count": null,
            "_view_module": "@jupyter-widgets/controls",
            "_view_module_version": "1.5.0",
            "_view_name": "HTMLView",
            "description": "",
            "description_tooltip": null,
            "layout": "IPY_MODEL_13dde6eccebe44dd955a997f0faa3858",
            "placeholder": "​",
            "style": "IPY_MODEL_5dce74e81b5741b6b0baa887698081ac",
            "value": "pytorch_model.bin: 100%"
          }
        },
        "762c9d8b302c46d5bd8d32d51c68b12a": {
          "model_module": "@jupyter-widgets/controls",
          "model_module_version": "1.5.0",
          "model_name": "ProgressStyleModel",
          "state": {
            "_model_module": "@jupyter-widgets/controls",
            "_model_module_version": "1.5.0",
            "_model_name": "ProgressStyleModel",
            "_view_count": null,
            "_view_module": "@jupyter-widgets/base",
            "_view_module_version": "1.2.0",
            "_view_name": "StyleView",
            "bar_color": null,
            "description_width": ""
          }
        },
        "799149c122db417a834b18bc70b4301d": {
          "model_module": "@jupyter-widgets/base",
          "model_module_version": "1.2.0",
          "model_name": "LayoutModel",
          "state": {
            "_model_module": "@jupyter-widgets/base",
            "_model_module_version": "1.2.0",
            "_model_name": "LayoutModel",
            "_view_count": null,
            "_view_module": "@jupyter-widgets/base",
            "_view_module_version": "1.2.0",
            "_view_name": "LayoutView",
            "align_content": null,
            "align_items": null,
            "align_self": null,
            "border": null,
            "bottom": null,
            "display": null,
            "flex": null,
            "flex_flow": null,
            "grid_area": null,
            "grid_auto_columns": null,
            "grid_auto_flow": null,
            "grid_auto_rows": null,
            "grid_column": null,
            "grid_gap": null,
            "grid_row": null,
            "grid_template_areas": null,
            "grid_template_columns": null,
            "grid_template_rows": null,
            "height": null,
            "justify_content": null,
            "justify_items": null,
            "left": null,
            "margin": null,
            "max_height": null,
            "max_width": null,
            "min_height": null,
            "min_width": null,
            "object_fit": null,
            "object_position": null,
            "order": null,
            "overflow": null,
            "overflow_x": null,
            "overflow_y": null,
            "padding": null,
            "right": null,
            "top": null,
            "visibility": null,
            "width": null
          }
        },
        "83cd0f94786c4c7ab0426c54deef29ba": {
          "model_module": "@jupyter-widgets/controls",
          "model_module_version": "1.5.0",
          "model_name": "FloatProgressModel",
          "state": {
            "_dom_classes": [],
            "_model_module": "@jupyter-widgets/controls",
            "_model_module_version": "1.5.0",
            "_model_name": "FloatProgressModel",
            "_view_count": null,
            "_view_module": "@jupyter-widgets/controls",
            "_view_module_version": "1.5.0",
            "_view_name": "ProgressView",
            "bar_style": "success",
            "description": "",
            "description_tooltip": null,
            "layout": "IPY_MODEL_31c9d288d74e41fbab0d4c7537385def",
            "max": 2447305,
            "min": 0,
            "orientation": "horizontal",
            "style": "IPY_MODEL_d0386f43ea514d8685501a8dc3a08d4b",
            "value": 2447305
          }
        },
        "878d17581741408a949a9cf6e92dc926": {
          "model_module": "@jupyter-widgets/base",
          "model_module_version": "1.2.0",
          "model_name": "LayoutModel",
          "state": {
            "_model_module": "@jupyter-widgets/base",
            "_model_module_version": "1.2.0",
            "_model_name": "LayoutModel",
            "_view_count": null,
            "_view_module": "@jupyter-widgets/base",
            "_view_module_version": "1.2.0",
            "_view_name": "LayoutView",
            "align_content": null,
            "align_items": null,
            "align_self": null,
            "border": null,
            "bottom": null,
            "display": null,
            "flex": null,
            "flex_flow": null,
            "grid_area": null,
            "grid_auto_columns": null,
            "grid_auto_flow": null,
            "grid_auto_rows": null,
            "grid_column": null,
            "grid_gap": null,
            "grid_row": null,
            "grid_template_areas": null,
            "grid_template_columns": null,
            "grid_template_rows": null,
            "height": null,
            "justify_content": null,
            "justify_items": null,
            "left": null,
            "margin": null,
            "max_height": null,
            "max_width": null,
            "min_height": null,
            "min_width": null,
            "object_fit": null,
            "object_position": null,
            "order": null,
            "overflow": null,
            "overflow_x": null,
            "overflow_y": null,
            "padding": null,
            "right": null,
            "top": null,
            "visibility": null,
            "width": null
          }
        },
        "88b7741d918441ac81a7c8ba2b3bd18b": {
          "model_module": "@jupyter-widgets/controls",
          "model_module_version": "1.5.0",
          "model_name": "HTMLModel",
          "state": {
            "_dom_classes": [],
            "_model_module": "@jupyter-widgets/controls",
            "_model_module_version": "1.5.0",
            "_model_name": "HTMLModel",
            "_view_count": null,
            "_view_module": "@jupyter-widgets/controls",
            "_view_module_version": "1.5.0",
            "_view_name": "HTMLView",
            "description": "",
            "description_tooltip": null,
            "layout": "IPY_MODEL_96cffa3598194157b3f52b109557be2e",
            "placeholder": "​",
            "style": "IPY_MODEL_9141d1f4a28940c6ad472d0baeb57e97",
            "value": "spm.model: 100%"
          }
        },
        "8bc1f41e8c6e4c619066051e90416562": {
          "model_module": "@jupyter-widgets/controls",
          "model_module_version": "1.5.0",
          "model_name": "HBoxModel",
          "state": {
            "_dom_classes": [],
            "_model_module": "@jupyter-widgets/controls",
            "_model_module_version": "1.5.0",
            "_model_name": "HBoxModel",
            "_view_count": null,
            "_view_module": "@jupyter-widgets/controls",
            "_view_module_version": "1.5.0",
            "_view_name": "HBoxView",
            "box_style": "",
            "children": [
              "IPY_MODEL_0119fddd6873409781695693d4a43fb4",
              "IPY_MODEL_1b6296432b2e47efa28d0e54a77a08c7",
              "IPY_MODEL_02bd86e9ad59483cbef96cf307b8de6a"
            ],
            "layout": "IPY_MODEL_799149c122db417a834b18bc70b4301d"
          }
        },
        "8d48b8307dfb4a66841110238f8cac1d": {
          "model_module": "@jupyter-widgets/controls",
          "model_module_version": "1.5.0",
          "model_name": "ProgressStyleModel",
          "state": {
            "_model_module": "@jupyter-widgets/controls",
            "_model_module_version": "1.5.0",
            "_model_name": "ProgressStyleModel",
            "_view_count": null,
            "_view_module": "@jupyter-widgets/base",
            "_view_module_version": "1.2.0",
            "_view_name": "StyleView",
            "bar_color": null,
            "description_width": ""
          }
        },
        "8d5259176ed4461f940dc8955b9746af": {
          "model_module": "@jupyter-widgets/base",
          "model_module_version": "1.2.0",
          "model_name": "LayoutModel",
          "state": {
            "_model_module": "@jupyter-widgets/base",
            "_model_module_version": "1.2.0",
            "_model_name": "LayoutModel",
            "_view_count": null,
            "_view_module": "@jupyter-widgets/base",
            "_view_module_version": "1.2.0",
            "_view_name": "LayoutView",
            "align_content": null,
            "align_items": null,
            "align_self": null,
            "border": null,
            "bottom": null,
            "display": null,
            "flex": null,
            "flex_flow": null,
            "grid_area": null,
            "grid_auto_columns": null,
            "grid_auto_flow": null,
            "grid_auto_rows": null,
            "grid_column": null,
            "grid_gap": null,
            "grid_row": null,
            "grid_template_areas": null,
            "grid_template_columns": null,
            "grid_template_rows": null,
            "height": null,
            "justify_content": null,
            "justify_items": null,
            "left": null,
            "margin": null,
            "max_height": null,
            "max_width": null,
            "min_height": null,
            "min_width": null,
            "object_fit": null,
            "object_position": null,
            "order": null,
            "overflow": null,
            "overflow_x": null,
            "overflow_y": null,
            "padding": null,
            "right": null,
            "top": null,
            "visibility": null,
            "width": null
          }
        },
        "9141d1f4a28940c6ad472d0baeb57e97": {
          "model_module": "@jupyter-widgets/controls",
          "model_module_version": "1.5.0",
          "model_name": "DescriptionStyleModel",
          "state": {
            "_model_module": "@jupyter-widgets/controls",
            "_model_module_version": "1.5.0",
            "_model_name": "DescriptionStyleModel",
            "_view_count": null,
            "_view_module": "@jupyter-widgets/base",
            "_view_module_version": "1.2.0",
            "_view_name": "StyleView",
            "description_width": ""
          }
        },
        "933656ec717c407a8c9f17cc2ee24291": {
          "model_module": "@jupyter-widgets/controls",
          "model_module_version": "1.5.0",
          "model_name": "HTMLModel",
          "state": {
            "_dom_classes": [],
            "_model_module": "@jupyter-widgets/controls",
            "_model_module_version": "1.5.0",
            "_model_name": "HTMLModel",
            "_view_count": null,
            "_view_module": "@jupyter-widgets/controls",
            "_view_module_version": "1.5.0",
            "_view_name": "HTMLView",
            "description": "",
            "description_tooltip": null,
            "layout": "IPY_MODEL_a79c36a9f36344509bd943f168e608b1",
            "placeholder": "​",
            "style": "IPY_MODEL_57a81980bbb74df1b2a19e6442f3a5ea",
            "value": "Map: 100%"
          }
        },
        "96cffa3598194157b3f52b109557be2e": {
          "model_module": "@jupyter-widgets/base",
          "model_module_version": "1.2.0",
          "model_name": "LayoutModel",
          "state": {
            "_model_module": "@jupyter-widgets/base",
            "_model_module_version": "1.2.0",
            "_model_name": "LayoutModel",
            "_view_count": null,
            "_view_module": "@jupyter-widgets/base",
            "_view_module_version": "1.2.0",
            "_view_name": "LayoutView",
            "align_content": null,
            "align_items": null,
            "align_self": null,
            "border": null,
            "bottom": null,
            "display": null,
            "flex": null,
            "flex_flow": null,
            "grid_area": null,
            "grid_auto_columns": null,
            "grid_auto_flow": null,
            "grid_auto_rows": null,
            "grid_column": null,
            "grid_gap": null,
            "grid_row": null,
            "grid_template_areas": null,
            "grid_template_columns": null,
            "grid_template_rows": null,
            "height": null,
            "justify_content": null,
            "justify_items": null,
            "left": null,
            "margin": null,
            "max_height": null,
            "max_width": null,
            "min_height": null,
            "min_width": null,
            "object_fit": null,
            "object_position": null,
            "order": null,
            "overflow": null,
            "overflow_x": null,
            "overflow_y": null,
            "padding": null,
            "right": null,
            "top": null,
            "visibility": null,
            "width": null
          }
        },
        "9a614cfdc9ac4d96ae36530a52150bbd": {
          "model_module": "@jupyter-widgets/base",
          "model_module_version": "1.2.0",
          "model_name": "LayoutModel",
          "state": {
            "_model_module": "@jupyter-widgets/base",
            "_model_module_version": "1.2.0",
            "_model_name": "LayoutModel",
            "_view_count": null,
            "_view_module": "@jupyter-widgets/base",
            "_view_module_version": "1.2.0",
            "_view_name": "LayoutView",
            "align_content": null,
            "align_items": null,
            "align_self": null,
            "border": null,
            "bottom": null,
            "display": null,
            "flex": null,
            "flex_flow": null,
            "grid_area": null,
            "grid_auto_columns": null,
            "grid_auto_flow": null,
            "grid_auto_rows": null,
            "grid_column": null,
            "grid_gap": null,
            "grid_row": null,
            "grid_template_areas": null,
            "grid_template_columns": null,
            "grid_template_rows": null,
            "height": null,
            "justify_content": null,
            "justify_items": null,
            "left": null,
            "margin": null,
            "max_height": null,
            "max_width": null,
            "min_height": null,
            "min_width": null,
            "object_fit": null,
            "object_position": null,
            "order": null,
            "overflow": null,
            "overflow_x": null,
            "overflow_y": null,
            "padding": null,
            "right": null,
            "top": null,
            "visibility": null,
            "width": null
          }
        },
        "9ffc518c75b64680a701deba83ba151c": {
          "model_module": "@jupyter-widgets/controls",
          "model_module_version": "1.5.0",
          "model_name": "ProgressStyleModel",
          "state": {
            "_model_module": "@jupyter-widgets/controls",
            "_model_module_version": "1.5.0",
            "_model_name": "ProgressStyleModel",
            "_view_count": null,
            "_view_module": "@jupyter-widgets/base",
            "_view_module_version": "1.2.0",
            "_view_name": "StyleView",
            "bar_color": null,
            "description_width": ""
          }
        },
        "a2dfb86e0d2c41d7b59583223e2982b2": {
          "model_module": "@jupyter-widgets/controls",
          "model_module_version": "1.5.0",
          "model_name": "HTMLModel",
          "state": {
            "_dom_classes": [],
            "_model_module": "@jupyter-widgets/controls",
            "_model_module_version": "1.5.0",
            "_model_name": "HTMLModel",
            "_view_count": null,
            "_view_module": "@jupyter-widgets/controls",
            "_view_module_version": "1.5.0",
            "_view_name": "HTMLView",
            "description": "",
            "description_tooltip": null,
            "layout": "IPY_MODEL_9a614cfdc9ac4d96ae36530a52150bbd",
            "placeholder": "​",
            "style": "IPY_MODEL_52e9ac59012747e285f99bb1804f0865",
            "value": "tokenizer_config.json: 100%"
          }
        },
        "a34aae78663b44d3bebeed0b2531148f": {
          "model_module": "@jupyter-widgets/base",
          "model_module_version": "1.2.0",
          "model_name": "LayoutModel",
          "state": {
            "_model_module": "@jupyter-widgets/base",
            "_model_module_version": "1.2.0",
            "_model_name": "LayoutModel",
            "_view_count": null,
            "_view_module": "@jupyter-widgets/base",
            "_view_module_version": "1.2.0",
            "_view_name": "LayoutView",
            "align_content": null,
            "align_items": null,
            "align_self": null,
            "border": null,
            "bottom": null,
            "display": null,
            "flex": null,
            "flex_flow": null,
            "grid_area": null,
            "grid_auto_columns": null,
            "grid_auto_flow": null,
            "grid_auto_rows": null,
            "grid_column": null,
            "grid_gap": null,
            "grid_row": null,
            "grid_template_areas": null,
            "grid_template_columns": null,
            "grid_template_rows": null,
            "height": null,
            "justify_content": null,
            "justify_items": null,
            "left": null,
            "margin": null,
            "max_height": null,
            "max_width": null,
            "min_height": null,
            "min_width": null,
            "object_fit": null,
            "object_position": null,
            "order": null,
            "overflow": null,
            "overflow_x": null,
            "overflow_y": null,
            "padding": null,
            "right": null,
            "top": null,
            "visibility": null,
            "width": null
          }
        },
        "a6ed487994f34bbbbedac96e645ec0ee": {
          "model_module": "@jupyter-widgets/base",
          "model_module_version": "1.2.0",
          "model_name": "LayoutModel",
          "state": {
            "_model_module": "@jupyter-widgets/base",
            "_model_module_version": "1.2.0",
            "_model_name": "LayoutModel",
            "_view_count": null,
            "_view_module": "@jupyter-widgets/base",
            "_view_module_version": "1.2.0",
            "_view_name": "LayoutView",
            "align_content": null,
            "align_items": null,
            "align_self": null,
            "border": null,
            "bottom": null,
            "display": null,
            "flex": null,
            "flex_flow": null,
            "grid_area": null,
            "grid_auto_columns": null,
            "grid_auto_flow": null,
            "grid_auto_rows": null,
            "grid_column": null,
            "grid_gap": null,
            "grid_row": null,
            "grid_template_areas": null,
            "grid_template_columns": null,
            "grid_template_rows": null,
            "height": null,
            "justify_content": null,
            "justify_items": null,
            "left": null,
            "margin": null,
            "max_height": null,
            "max_width": null,
            "min_height": null,
            "min_width": null,
            "object_fit": null,
            "object_position": null,
            "order": null,
            "overflow": null,
            "overflow_x": null,
            "overflow_y": null,
            "padding": null,
            "right": null,
            "top": null,
            "visibility": null,
            "width": null
          }
        },
        "a79c36a9f36344509bd943f168e608b1": {
          "model_module": "@jupyter-widgets/base",
          "model_module_version": "1.2.0",
          "model_name": "LayoutModel",
          "state": {
            "_model_module": "@jupyter-widgets/base",
            "_model_module_version": "1.2.0",
            "_model_name": "LayoutModel",
            "_view_count": null,
            "_view_module": "@jupyter-widgets/base",
            "_view_module_version": "1.2.0",
            "_view_name": "LayoutView",
            "align_content": null,
            "align_items": null,
            "align_self": null,
            "border": null,
            "bottom": null,
            "display": null,
            "flex": null,
            "flex_flow": null,
            "grid_area": null,
            "grid_auto_columns": null,
            "grid_auto_flow": null,
            "grid_auto_rows": null,
            "grid_column": null,
            "grid_gap": null,
            "grid_row": null,
            "grid_template_areas": null,
            "grid_template_columns": null,
            "grid_template_rows": null,
            "height": null,
            "justify_content": null,
            "justify_items": null,
            "left": null,
            "margin": null,
            "max_height": null,
            "max_width": null,
            "min_height": null,
            "min_width": null,
            "object_fit": null,
            "object_position": null,
            "order": null,
            "overflow": null,
            "overflow_x": null,
            "overflow_y": null,
            "padding": null,
            "right": null,
            "top": null,
            "visibility": null,
            "width": null
          }
        },
        "b4d4787bd4a94a09b85f163eb0e0f01a": {
          "model_module": "@jupyter-widgets/base",
          "model_module_version": "1.2.0",
          "model_name": "LayoutModel",
          "state": {
            "_model_module": "@jupyter-widgets/base",
            "_model_module_version": "1.2.0",
            "_model_name": "LayoutModel",
            "_view_count": null,
            "_view_module": "@jupyter-widgets/base",
            "_view_module_version": "1.2.0",
            "_view_name": "LayoutView",
            "align_content": null,
            "align_items": null,
            "align_self": null,
            "border": null,
            "bottom": null,
            "display": null,
            "flex": null,
            "flex_flow": null,
            "grid_area": null,
            "grid_auto_columns": null,
            "grid_auto_flow": null,
            "grid_auto_rows": null,
            "grid_column": null,
            "grid_gap": null,
            "grid_row": null,
            "grid_template_areas": null,
            "grid_template_columns": null,
            "grid_template_rows": null,
            "height": null,
            "justify_content": null,
            "justify_items": null,
            "left": null,
            "margin": null,
            "max_height": null,
            "max_width": null,
            "min_height": null,
            "min_width": null,
            "object_fit": null,
            "object_position": null,
            "order": null,
            "overflow": null,
            "overflow_x": null,
            "overflow_y": null,
            "padding": null,
            "right": null,
            "top": null,
            "visibility": null,
            "width": null
          }
        },
        "b549316fa1e846bd8c7c02e4309bdfde": {
          "model_module": "@jupyter-widgets/controls",
          "model_module_version": "1.5.0",
          "model_name": "HTMLModel",
          "state": {
            "_dom_classes": [],
            "_model_module": "@jupyter-widgets/controls",
            "_model_module_version": "1.5.0",
            "_model_name": "HTMLModel",
            "_view_count": null,
            "_view_module": "@jupyter-widgets/controls",
            "_view_module_version": "1.5.0",
            "_view_name": "HTMLView",
            "description": "",
            "description_tooltip": null,
            "layout": "IPY_MODEL_4b05a34257ea4acca6fe7f60b2bf7884",
            "placeholder": "​",
            "style": "IPY_MODEL_259be6c021f544bea471429609db0ef5",
            "value": " 633/633 [00:00&lt;00:00, 37.2kB/s]"
          }
        },
        "b5c8e179754e4a0cb59f14975e3d7c76": {
          "model_module": "@jupyter-widgets/base",
          "model_module_version": "1.2.0",
          "model_name": "LayoutModel",
          "state": {
            "_model_module": "@jupyter-widgets/base",
            "_model_module_version": "1.2.0",
            "_model_name": "LayoutModel",
            "_view_count": null,
            "_view_module": "@jupyter-widgets/base",
            "_view_module_version": "1.2.0",
            "_view_name": "LayoutView",
            "align_content": null,
            "align_items": null,
            "align_self": null,
            "border": null,
            "bottom": null,
            "display": null,
            "flex": null,
            "flex_flow": null,
            "grid_area": null,
            "grid_auto_columns": null,
            "grid_auto_flow": null,
            "grid_auto_rows": null,
            "grid_column": null,
            "grid_gap": null,
            "grid_row": null,
            "grid_template_areas": null,
            "grid_template_columns": null,
            "grid_template_rows": null,
            "height": null,
            "justify_content": null,
            "justify_items": null,
            "left": null,
            "margin": null,
            "max_height": null,
            "max_width": null,
            "min_height": null,
            "min_width": null,
            "object_fit": null,
            "object_position": null,
            "order": null,
            "overflow": null,
            "overflow_x": null,
            "overflow_y": null,
            "padding": null,
            "right": null,
            "top": null,
            "visibility": null,
            "width": null
          }
        },
        "b9c5f6fed1d3499fa16165c004bd32e8": {
          "model_module": "@jupyter-widgets/controls",
          "model_module_version": "1.5.0",
          "model_name": "FloatProgressModel",
          "state": {
            "_dom_classes": [],
            "_model_module": "@jupyter-widgets/controls",
            "_model_module_version": "1.5.0",
            "_model_name": "FloatProgressModel",
            "_view_count": null,
            "_view_module": "@jupyter-widgets/controls",
            "_view_module_version": "1.5.0",
            "_view_name": "ProgressView",
            "bar_style": "success",
            "description": "",
            "description_tooltip": null,
            "layout": "IPY_MODEL_0b622e400a2844cb9402150b51a676b4",
            "max": 924,
            "min": 0,
            "orientation": "horizontal",
            "style": "IPY_MODEL_8d48b8307dfb4a66841110238f8cac1d",
            "value": 924
          }
        },
        "bd2c8994cabf49ccac4496da85953ada": {
          "model_module": "@jupyter-widgets/controls",
          "model_module_version": "1.5.0",
          "model_name": "HBoxModel",
          "state": {
            "_dom_classes": [],
            "_model_module": "@jupyter-widgets/controls",
            "_model_module_version": "1.5.0",
            "_model_name": "HBoxModel",
            "_view_count": null,
            "_view_module": "@jupyter-widgets/controls",
            "_view_module_version": "1.5.0",
            "_view_name": "HBoxView",
            "box_style": "",
            "children": [
              "IPY_MODEL_88b7741d918441ac81a7c8ba2b3bd18b",
              "IPY_MODEL_83cd0f94786c4c7ab0426c54deef29ba",
              "IPY_MODEL_0c9ac6ed0e0140708551954384ce2f63"
            ],
            "layout": "IPY_MODEL_39cb1e7d10bf4d7287d4b52e2ce60e6e"
          }
        },
        "c04875c5f5364cc8b2264d07761f43ed": {
          "model_module": "@jupyter-widgets/controls",
          "model_module_version": "1.5.0",
          "model_name": "DescriptionStyleModel",
          "state": {
            "_model_module": "@jupyter-widgets/controls",
            "_model_module_version": "1.5.0",
            "_model_name": "DescriptionStyleModel",
            "_view_count": null,
            "_view_module": "@jupyter-widgets/base",
            "_view_module_version": "1.2.0",
            "_view_name": "StyleView",
            "description_width": ""
          }
        },
        "c36963e2c9d64e1688596033add00f93": {
          "model_module": "@jupyter-widgets/controls",
          "model_module_version": "1.5.0",
          "model_name": "DescriptionStyleModel",
          "state": {
            "_model_module": "@jupyter-widgets/controls",
            "_model_module_version": "1.5.0",
            "_model_name": "DescriptionStyleModel",
            "_view_count": null,
            "_view_module": "@jupyter-widgets/base",
            "_view_module_version": "1.2.0",
            "_view_name": "StyleView",
            "description_width": ""
          }
        },
        "c38159c38245404ca883a3f22e3ba834": {
          "model_module": "@jupyter-widgets/base",
          "model_module_version": "1.2.0",
          "model_name": "LayoutModel",
          "state": {
            "_model_module": "@jupyter-widgets/base",
            "_model_module_version": "1.2.0",
            "_model_name": "LayoutModel",
            "_view_count": null,
            "_view_module": "@jupyter-widgets/base",
            "_view_module_version": "1.2.0",
            "_view_name": "LayoutView",
            "align_content": null,
            "align_items": null,
            "align_self": null,
            "border": null,
            "bottom": null,
            "display": null,
            "flex": null,
            "flex_flow": null,
            "grid_area": null,
            "grid_auto_columns": null,
            "grid_auto_flow": null,
            "grid_auto_rows": null,
            "grid_column": null,
            "grid_gap": null,
            "grid_row": null,
            "grid_template_areas": null,
            "grid_template_columns": null,
            "grid_template_rows": null,
            "height": null,
            "justify_content": null,
            "justify_items": null,
            "left": null,
            "margin": null,
            "max_height": null,
            "max_width": null,
            "min_height": null,
            "min_width": null,
            "object_fit": null,
            "object_position": null,
            "order": null,
            "overflow": null,
            "overflow_x": null,
            "overflow_y": null,
            "padding": null,
            "right": null,
            "top": null,
            "visibility": null,
            "width": null
          }
        },
        "cef7a363baf7469e9159cf59c4bef169": {
          "model_module": "@jupyter-widgets/controls",
          "model_module_version": "1.5.0",
          "model_name": "DescriptionStyleModel",
          "state": {
            "_model_module": "@jupyter-widgets/controls",
            "_model_module_version": "1.5.0",
            "_model_name": "DescriptionStyleModel",
            "_view_count": null,
            "_view_module": "@jupyter-widgets/base",
            "_view_module_version": "1.2.0",
            "_view_name": "StyleView",
            "description_width": ""
          }
        },
        "d0386f43ea514d8685501a8dc3a08d4b": {
          "model_module": "@jupyter-widgets/controls",
          "model_module_version": "1.5.0",
          "model_name": "ProgressStyleModel",
          "state": {
            "_model_module": "@jupyter-widgets/controls",
            "_model_module_version": "1.5.0",
            "_model_name": "ProgressStyleModel",
            "_view_count": null,
            "_view_module": "@jupyter-widgets/base",
            "_view_module_version": "1.2.0",
            "_view_name": "StyleView",
            "bar_color": null,
            "description_width": ""
          }
        },
        "e1e351242e7647ee8875c88d4b8b6365": {
          "model_module": "@jupyter-widgets/base",
          "model_module_version": "1.2.0",
          "model_name": "LayoutModel",
          "state": {
            "_model_module": "@jupyter-widgets/base",
            "_model_module_version": "1.2.0",
            "_model_name": "LayoutModel",
            "_view_count": null,
            "_view_module": "@jupyter-widgets/base",
            "_view_module_version": "1.2.0",
            "_view_name": "LayoutView",
            "align_content": null,
            "align_items": null,
            "align_self": null,
            "border": null,
            "bottom": null,
            "display": null,
            "flex": null,
            "flex_flow": null,
            "grid_area": null,
            "grid_auto_columns": null,
            "grid_auto_flow": null,
            "grid_auto_rows": null,
            "grid_column": null,
            "grid_gap": null,
            "grid_row": null,
            "grid_template_areas": null,
            "grid_template_columns": null,
            "grid_template_rows": null,
            "height": null,
            "justify_content": null,
            "justify_items": null,
            "left": null,
            "margin": null,
            "max_height": null,
            "max_width": null,
            "min_height": null,
            "min_width": null,
            "object_fit": null,
            "object_position": null,
            "order": null,
            "overflow": null,
            "overflow_x": null,
            "overflow_y": null,
            "padding": null,
            "right": null,
            "top": null,
            "visibility": null,
            "width": null
          }
        },
        "e25abdc6192846c9ac0810dbe895dd51": {
          "model_module": "@jupyter-widgets/controls",
          "model_module_version": "1.5.0",
          "model_name": "DescriptionStyleModel",
          "state": {
            "_model_module": "@jupyter-widgets/controls",
            "_model_module_version": "1.5.0",
            "_model_name": "DescriptionStyleModel",
            "_view_count": null,
            "_view_module": "@jupyter-widgets/base",
            "_view_module_version": "1.2.0",
            "_view_name": "StyleView",
            "description_width": ""
          }
        },
        "e3de4b7d861f406c8203763d293966cd": {
          "model_module": "@jupyter-widgets/controls",
          "model_module_version": "1.5.0",
          "model_name": "FloatProgressModel",
          "state": {
            "_dom_classes": [],
            "_model_module": "@jupyter-widgets/controls",
            "_model_module_version": "1.5.0",
            "_model_name": "FloatProgressModel",
            "_view_count": null,
            "_view_module": "@jupyter-widgets/controls",
            "_view_module_version": "1.5.0",
            "_view_name": "ProgressView",
            "bar_style": "success",
            "description": "",
            "description_tooltip": null,
            "layout": "IPY_MODEL_7326d05db5fb400091179fac56cd4d8f",
            "max": 1775809831,
            "min": 0,
            "orientation": "horizontal",
            "style": "IPY_MODEL_5c6020caa9c04b4abc342230d1734d03",
            "value": 1775809831
          }
        },
        "f4ad55f1912347e381e8fc3778e02305": {
          "model_module": "@jupyter-widgets/base",
          "model_module_version": "1.2.0",
          "model_name": "LayoutModel",
          "state": {
            "_model_module": "@jupyter-widgets/base",
            "_model_module_version": "1.2.0",
            "_model_name": "LayoutModel",
            "_view_count": null,
            "_view_module": "@jupyter-widgets/base",
            "_view_module_version": "1.2.0",
            "_view_name": "LayoutView",
            "align_content": null,
            "align_items": null,
            "align_self": null,
            "border": null,
            "bottom": null,
            "display": null,
            "flex": null,
            "flex_flow": null,
            "grid_area": null,
            "grid_auto_columns": null,
            "grid_auto_flow": null,
            "grid_auto_rows": null,
            "grid_column": null,
            "grid_gap": null,
            "grid_row": null,
            "grid_template_areas": null,
            "grid_template_columns": null,
            "grid_template_rows": null,
            "height": null,
            "justify_content": null,
            "justify_items": null,
            "left": null,
            "margin": null,
            "max_height": null,
            "max_width": null,
            "min_height": null,
            "min_width": null,
            "object_fit": null,
            "object_position": null,
            "order": null,
            "overflow": null,
            "overflow_x": null,
            "overflow_y": null,
            "padding": null,
            "right": null,
            "top": null,
            "visibility": null,
            "width": null
          }
        },
        "f7851102cfbe493ba981b76d7d70f3e4": {
          "model_module": "@jupyter-widgets/controls",
          "model_module_version": "1.5.0",
          "model_name": "FloatProgressModel",
          "state": {
            "_dom_classes": [],
            "_model_module": "@jupyter-widgets/controls",
            "_model_module_version": "1.5.0",
            "_model_name": "FloatProgressModel",
            "_view_count": null,
            "_view_module": "@jupyter-widgets/controls",
            "_view_module_version": "1.5.0",
            "_view_name": "ProgressView",
            "bar_style": "success",
            "description": "",
            "description_tooltip": null,
            "layout": "IPY_MODEL_b4d4787bd4a94a09b85f163eb0e0f01a",
            "max": 633,
            "min": 0,
            "orientation": "horizontal",
            "style": "IPY_MODEL_762c9d8b302c46d5bd8d32d51c68b12a",
            "value": 633
          }
        },
        "fcfbad43496941d490f603db8a74f26c": {
          "model_module": "@jupyter-widgets/controls",
          "model_module_version": "1.5.0",
          "model_name": "HTMLModel",
          "state": {
            "_dom_classes": [],
            "_model_module": "@jupyter-widgets/controls",
            "_model_module_version": "1.5.0",
            "_model_name": "HTMLModel",
            "_view_count": null,
            "_view_module": "@jupyter-widgets/controls",
            "_view_module_version": "1.5.0",
            "_view_name": "HTMLView",
            "description": "",
            "description_tooltip": null,
            "layout": "IPY_MODEL_6439c9bf55494baebd0d38fe0b81fefc",
            "placeholder": "​",
            "style": "IPY_MODEL_6d37d680e76b4559aa8b0fc0b936e739",
            "value": "config.json: 100%"
          }
        },
        "fe0c7f91a66b46f6863c7fdb787ebffd": {
          "model_module": "@jupyter-widgets/controls",
          "model_module_version": "1.5.0",
          "model_name": "HTMLModel",
          "state": {
            "_dom_classes": [],
            "_model_module": "@jupyter-widgets/controls",
            "_model_module_version": "1.5.0",
            "_model_name": "HTMLModel",
            "_view_count": null,
            "_view_module": "@jupyter-widgets/controls",
            "_view_module_version": "1.5.0",
            "_view_name": "HTMLView",
            "description": "",
            "description_tooltip": null,
            "layout": "IPY_MODEL_f4ad55f1912347e381e8fc3778e02305",
            "placeholder": "​",
            "style": "IPY_MODEL_c36963e2c9d64e1688596033add00f93",
            "value": " 1.78G/1.78G [00:16&lt;00:00, 128MB/s]"
          }
        }
      }
    }
  },
  "nbformat": 4,
  "nbformat_minor": 0
}